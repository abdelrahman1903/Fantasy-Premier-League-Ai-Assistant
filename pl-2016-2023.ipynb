{
 "cells": [
  {
   "cell_type": "markdown",
   "id": "005f812b",
   "metadata": {
    "papermill": {
     "duration": 0.011146,
     "end_time": "2025-10-21T18:30:17.829303",
     "exception": false,
     "start_time": "2025-10-21T18:30:17.818157",
     "status": "completed"
    },
    "tags": []
   },
   "source": [
    "\n",
    "1. does duplicate gameweeks values need to be removed or are they double gameweeksfor gameweeks less than 4. the form will be current gameweeks / 10 or how will it be calculated.\n",
    "2. the largest sum of total points on average per position. per season or for all season.\n",
    "3. 2B - how to find the highest form. is it the average or what\n"
   ]
  },
  {
   "cell_type": "code",
   "execution_count": 1,
   "id": "d41b1158",
   "metadata": {
    "_cell_guid": "b1076dfc-b9ad-4769-8c92-a6c4dae69d19",
    "_uuid": "8f2839f25d086af736a60e9eeb907d3b93b6e0e5",
    "execution": {
     "iopub.execute_input": "2025-10-21T18:30:17.848894Z",
     "iopub.status.busy": "2025-10-21T18:30:17.848509Z",
     "iopub.status.idle": "2025-10-21T18:30:39.950829Z",
     "shell.execute_reply": "2025-10-21T18:30:39.949854Z"
    },
    "papermill": {
     "duration": 22.11399,
     "end_time": "2025-10-21T18:30:39.952543",
     "exception": false,
     "start_time": "2025-10-21T18:30:17.838553",
     "status": "completed"
    },
    "tags": []
   },
   "outputs": [
    {
     "name": "stderr",
     "output_type": "stream",
     "text": [
      "2025-10-21 18:30:24.118279: E external/local_xla/xla/stream_executor/cuda/cuda_fft.cc:477] Unable to register cuFFT factory: Attempting to register factory for plugin cuFFT when one has already been registered\n",
      "WARNING: All log messages before absl::InitializeLog() is called are written to STDERR\n",
      "E0000 00:00:1761071424.472825      13 cuda_dnn.cc:8310] Unable to register cuDNN factory: Attempting to register factory for plugin cuDNN when one has already been registered\n",
      "E0000 00:00:1761071424.555780      13 cuda_blas.cc:1418] Unable to register cuBLAS factory: Attempting to register factory for plugin cuBLAS when one has already been registered\n"
     ]
    }
   ],
   "source": [
    "import pandas as pd \n",
    "import matplotlib.pyplot as plt \n",
    "import seaborn as sns \n",
    "import missingno as msno\n",
    "\n",
    "# ________________________________________________\n",
    "import numpy as np \n",
    "import tensorflow as tf \n",
    "from tensorflow import keras \n",
    "from tensorflow.keras import layers \n",
    "from keras import Sequential, Input \n",
    "from sklearn.model_selection import train_test_split \n",
    "from sklearn.preprocessing import StandardScaler \n",
    "from tensorflow.keras.metrics import Precision, Recall "
   ]
  },
  {
   "cell_type": "code",
   "execution_count": 2,
   "id": "278350e3",
   "metadata": {
    "execution": {
     "iopub.execute_input": "2025-10-21T18:30:39.973963Z",
     "iopub.status.busy": "2025-10-21T18:30:39.973240Z",
     "iopub.status.idle": "2025-10-21T18:30:40.601605Z",
     "shell.execute_reply": "2025-10-21T18:30:40.600575Z"
    },
    "papermill": {
     "duration": 0.641103,
     "end_time": "2025-10-21T18:30:40.603155",
     "exception": false,
     "start_time": "2025-10-21T18:30:39.962052",
     "status": "completed"
    },
    "tags": []
   },
   "outputs": [
    {
     "name": "stderr",
     "output_type": "stream",
     "text": [
      "/tmp/ipykernel_13/2190561680.py:3: DtypeWarning: Columns (3) have mixed types. Specify dtype option on import or set low_memory=False.\n",
      "  df = pd.read_csv('/kaggle/input/long-pl-dataset/cleaned_merged_seasons.csv')\n"
     ]
    },
    {
     "data": {
      "text/html": [
       "<div>\n",
       "<style scoped>\n",
       "    .dataframe tbody tr th:only-of-type {\n",
       "        vertical-align: middle;\n",
       "    }\n",
       "\n",
       "    .dataframe tbody tr th {\n",
       "        vertical-align: top;\n",
       "    }\n",
       "\n",
       "    .dataframe thead th {\n",
       "        text-align: right;\n",
       "    }\n",
       "</style>\n",
       "<table border=\"1\" class=\"dataframe\">\n",
       "  <thead>\n",
       "    <tr style=\"text-align: right;\">\n",
       "      <th></th>\n",
       "      <th>season_x</th>\n",
       "      <th>name</th>\n",
       "      <th>position</th>\n",
       "      <th>team_x</th>\n",
       "      <th>assists</th>\n",
       "      <th>bonus</th>\n",
       "      <th>bps</th>\n",
       "      <th>clean_sheets</th>\n",
       "      <th>creativity</th>\n",
       "      <th>element</th>\n",
       "      <th>...</th>\n",
       "      <th>team_h_score</th>\n",
       "      <th>threat</th>\n",
       "      <th>total_points</th>\n",
       "      <th>transfers_balance</th>\n",
       "      <th>transfers_in</th>\n",
       "      <th>transfers_out</th>\n",
       "      <th>value</th>\n",
       "      <th>was_home</th>\n",
       "      <th>yellow_cards</th>\n",
       "      <th>GW</th>\n",
       "    </tr>\n",
       "  </thead>\n",
       "  <tbody>\n",
       "    <tr>\n",
       "      <th>0</th>\n",
       "      <td>2016-17</td>\n",
       "      <td>Aaron Cresswell</td>\n",
       "      <td>DEF</td>\n",
       "      <td>NaN</td>\n",
       "      <td>0</td>\n",
       "      <td>0</td>\n",
       "      <td>0</td>\n",
       "      <td>0</td>\n",
       "      <td>0.0</td>\n",
       "      <td>454</td>\n",
       "      <td>...</td>\n",
       "      <td>2.0</td>\n",
       "      <td>0.0</td>\n",
       "      <td>0</td>\n",
       "      <td>0</td>\n",
       "      <td>0</td>\n",
       "      <td>0</td>\n",
       "      <td>55</td>\n",
       "      <td>False</td>\n",
       "      <td>0</td>\n",
       "      <td>1</td>\n",
       "    </tr>\n",
       "    <tr>\n",
       "      <th>1</th>\n",
       "      <td>2016-17</td>\n",
       "      <td>Aaron Lennon</td>\n",
       "      <td>MID</td>\n",
       "      <td>NaN</td>\n",
       "      <td>0</td>\n",
       "      <td>0</td>\n",
       "      <td>6</td>\n",
       "      <td>0</td>\n",
       "      <td>0.3</td>\n",
       "      <td>142</td>\n",
       "      <td>...</td>\n",
       "      <td>1.0</td>\n",
       "      <td>0.0</td>\n",
       "      <td>1</td>\n",
       "      <td>0</td>\n",
       "      <td>0</td>\n",
       "      <td>0</td>\n",
       "      <td>60</td>\n",
       "      <td>True</td>\n",
       "      <td>0</td>\n",
       "      <td>1</td>\n",
       "    </tr>\n",
       "    <tr>\n",
       "      <th>2</th>\n",
       "      <td>2016-17</td>\n",
       "      <td>Aaron Ramsey</td>\n",
       "      <td>MID</td>\n",
       "      <td>NaN</td>\n",
       "      <td>0</td>\n",
       "      <td>0</td>\n",
       "      <td>5</td>\n",
       "      <td>0</td>\n",
       "      <td>4.9</td>\n",
       "      <td>16</td>\n",
       "      <td>...</td>\n",
       "      <td>3.0</td>\n",
       "      <td>23.0</td>\n",
       "      <td>2</td>\n",
       "      <td>0</td>\n",
       "      <td>0</td>\n",
       "      <td>0</td>\n",
       "      <td>80</td>\n",
       "      <td>True</td>\n",
       "      <td>0</td>\n",
       "      <td>1</td>\n",
       "    </tr>\n",
       "    <tr>\n",
       "      <th>3</th>\n",
       "      <td>2016-17</td>\n",
       "      <td>Abdoulaye Doucouré</td>\n",
       "      <td>MID</td>\n",
       "      <td>NaN</td>\n",
       "      <td>0</td>\n",
       "      <td>0</td>\n",
       "      <td>0</td>\n",
       "      <td>0</td>\n",
       "      <td>0.0</td>\n",
       "      <td>482</td>\n",
       "      <td>...</td>\n",
       "      <td>1.0</td>\n",
       "      <td>0.0</td>\n",
       "      <td>0</td>\n",
       "      <td>0</td>\n",
       "      <td>0</td>\n",
       "      <td>0</td>\n",
       "      <td>50</td>\n",
       "      <td>False</td>\n",
       "      <td>0</td>\n",
       "      <td>1</td>\n",
       "    </tr>\n",
       "    <tr>\n",
       "      <th>4</th>\n",
       "      <td>2016-17</td>\n",
       "      <td>Adam Forshaw</td>\n",
       "      <td>MID</td>\n",
       "      <td>NaN</td>\n",
       "      <td>0</td>\n",
       "      <td>0</td>\n",
       "      <td>3</td>\n",
       "      <td>0</td>\n",
       "      <td>1.3</td>\n",
       "      <td>286</td>\n",
       "      <td>...</td>\n",
       "      <td>1.0</td>\n",
       "      <td>0.0</td>\n",
       "      <td>1</td>\n",
       "      <td>0</td>\n",
       "      <td>0</td>\n",
       "      <td>0</td>\n",
       "      <td>45</td>\n",
       "      <td>True</td>\n",
       "      <td>1</td>\n",
       "      <td>1</td>\n",
       "    </tr>\n",
       "    <tr>\n",
       "      <th>...</th>\n",
       "      <td>...</td>\n",
       "      <td>...</td>\n",
       "      <td>...</td>\n",
       "      <td>...</td>\n",
       "      <td>...</td>\n",
       "      <td>...</td>\n",
       "      <td>...</td>\n",
       "      <td>...</td>\n",
       "      <td>...</td>\n",
       "      <td>...</td>\n",
       "      <td>...</td>\n",
       "      <td>...</td>\n",
       "      <td>...</td>\n",
       "      <td>...</td>\n",
       "      <td>...</td>\n",
       "      <td>...</td>\n",
       "      <td>...</td>\n",
       "      <td>...</td>\n",
       "      <td>...</td>\n",
       "      <td>...</td>\n",
       "      <td>...</td>\n",
       "    </tr>\n",
       "    <tr>\n",
       "      <th>96</th>\n",
       "      <td>2016-17</td>\n",
       "      <td>Joel Ward</td>\n",
       "      <td>DEF</td>\n",
       "      <td>NaN</td>\n",
       "      <td>0</td>\n",
       "      <td>0</td>\n",
       "      <td>5</td>\n",
       "      <td>0</td>\n",
       "      <td>3.3</td>\n",
       "      <td>105</td>\n",
       "      <td>...</td>\n",
       "      <td>0.0</td>\n",
       "      <td>8.0</td>\n",
       "      <td>2</td>\n",
       "      <td>0</td>\n",
       "      <td>0</td>\n",
       "      <td>0</td>\n",
       "      <td>50</td>\n",
       "      <td>True</td>\n",
       "      <td>0</td>\n",
       "      <td>1</td>\n",
       "    </tr>\n",
       "    <tr>\n",
       "      <th>97</th>\n",
       "      <td>2016-17</td>\n",
       "      <td>Joe Hart</td>\n",
       "      <td>GK</td>\n",
       "      <td>NaN</td>\n",
       "      <td>0</td>\n",
       "      <td>0</td>\n",
       "      <td>0</td>\n",
       "      <td>0</td>\n",
       "      <td>0.0</td>\n",
       "      <td>218</td>\n",
       "      <td>...</td>\n",
       "      <td>2.0</td>\n",
       "      <td>0.0</td>\n",
       "      <td>0</td>\n",
       "      <td>0</td>\n",
       "      <td>0</td>\n",
       "      <td>0</td>\n",
       "      <td>55</td>\n",
       "      <td>True</td>\n",
       "      <td>0</td>\n",
       "      <td>1</td>\n",
       "    </tr>\n",
       "    <tr>\n",
       "      <th>98</th>\n",
       "      <td>2016-17</td>\n",
       "      <td>Johann Berg Gudmundsson</td>\n",
       "      <td>MID</td>\n",
       "      <td>NaN</td>\n",
       "      <td>0</td>\n",
       "      <td>0</td>\n",
       "      <td>1</td>\n",
       "      <td>0</td>\n",
       "      <td>1.2</td>\n",
       "      <td>473</td>\n",
       "      <td>...</td>\n",
       "      <td>0.0</td>\n",
       "      <td>8.0</td>\n",
       "      <td>1</td>\n",
       "      <td>0</td>\n",
       "      <td>0</td>\n",
       "      <td>0</td>\n",
       "      <td>55</td>\n",
       "      <td>True</td>\n",
       "      <td>0</td>\n",
       "      <td>1</td>\n",
       "    </tr>\n",
       "    <tr>\n",
       "      <th>99</th>\n",
       "      <td>2016-17</td>\n",
       "      <td>John Stones</td>\n",
       "      <td>DEF</td>\n",
       "      <td>NaN</td>\n",
       "      <td>0</td>\n",
       "      <td>0</td>\n",
       "      <td>15</td>\n",
       "      <td>0</td>\n",
       "      <td>2.8</td>\n",
       "      <td>128</td>\n",
       "      <td>...</td>\n",
       "      <td>2.0</td>\n",
       "      <td>2.0</td>\n",
       "      <td>2</td>\n",
       "      <td>0</td>\n",
       "      <td>0</td>\n",
       "      <td>0</td>\n",
       "      <td>50</td>\n",
       "      <td>True</td>\n",
       "      <td>0</td>\n",
       "      <td>1</td>\n",
       "    </tr>\n",
       "    <tr>\n",
       "      <th>100</th>\n",
       "      <td>2016-17</td>\n",
       "      <td>Jonathan Leko</td>\n",
       "      <td>MID</td>\n",
       "      <td>NaN</td>\n",
       "      <td>0</td>\n",
       "      <td>0</td>\n",
       "      <td>0</td>\n",
       "      <td>0</td>\n",
       "      <td>0.0</td>\n",
       "      <td>445</td>\n",
       "      <td>...</td>\n",
       "      <td>0.0</td>\n",
       "      <td>0.0</td>\n",
       "      <td>0</td>\n",
       "      <td>0</td>\n",
       "      <td>0</td>\n",
       "      <td>0</td>\n",
       "      <td>45</td>\n",
       "      <td>False</td>\n",
       "      <td>0</td>\n",
       "      <td>1</td>\n",
       "    </tr>\n",
       "  </tbody>\n",
       "</table>\n",
       "<p>101 rows × 37 columns</p>\n",
       "</div>"
      ],
      "text/plain": [
       "    season_x                     name position team_x  assists  bonus  bps  \\\n",
       "0    2016-17          Aaron Cresswell      DEF    NaN        0      0    0   \n",
       "1    2016-17             Aaron Lennon      MID    NaN        0      0    6   \n",
       "2    2016-17             Aaron Ramsey      MID    NaN        0      0    5   \n",
       "3    2016-17       Abdoulaye Doucouré      MID    NaN        0      0    0   \n",
       "4    2016-17             Adam Forshaw      MID    NaN        0      0    3   \n",
       "..       ...                      ...      ...    ...      ...    ...  ...   \n",
       "96   2016-17                Joel Ward      DEF    NaN        0      0    5   \n",
       "97   2016-17                 Joe Hart       GK    NaN        0      0    0   \n",
       "98   2016-17  Johann Berg Gudmundsson      MID    NaN        0      0    1   \n",
       "99   2016-17              John Stones      DEF    NaN        0      0   15   \n",
       "100  2016-17            Jonathan Leko      MID    NaN        0      0    0   \n",
       "\n",
       "     clean_sheets  creativity  element  ...  team_h_score  threat  \\\n",
       "0               0         0.0      454  ...           2.0     0.0   \n",
       "1               0         0.3      142  ...           1.0     0.0   \n",
       "2               0         4.9       16  ...           3.0    23.0   \n",
       "3               0         0.0      482  ...           1.0     0.0   \n",
       "4               0         1.3      286  ...           1.0     0.0   \n",
       "..            ...         ...      ...  ...           ...     ...   \n",
       "96              0         3.3      105  ...           0.0     8.0   \n",
       "97              0         0.0      218  ...           2.0     0.0   \n",
       "98              0         1.2      473  ...           0.0     8.0   \n",
       "99              0         2.8      128  ...           2.0     2.0   \n",
       "100             0         0.0      445  ...           0.0     0.0   \n",
       "\n",
       "     total_points  transfers_balance  transfers_in transfers_out  value  \\\n",
       "0               0                  0             0             0     55   \n",
       "1               1                  0             0             0     60   \n",
       "2               2                  0             0             0     80   \n",
       "3               0                  0             0             0     50   \n",
       "4               1                  0             0             0     45   \n",
       "..            ...                ...           ...           ...    ...   \n",
       "96              2                  0             0             0     50   \n",
       "97              0                  0             0             0     55   \n",
       "98              1                  0             0             0     55   \n",
       "99              2                  0             0             0     50   \n",
       "100             0                  0             0             0     45   \n",
       "\n",
       "     was_home yellow_cards  GW  \n",
       "0       False            0   1  \n",
       "1        True            0   1  \n",
       "2        True            0   1  \n",
       "3       False            0   1  \n",
       "4        True            1   1  \n",
       "..        ...          ...  ..  \n",
       "96       True            0   1  \n",
       "97       True            0   1  \n",
       "98       True            0   1  \n",
       "99       True            0   1  \n",
       "100     False            0   1  \n",
       "\n",
       "[101 rows x 37 columns]"
      ]
     },
     "execution_count": 2,
     "metadata": {},
     "output_type": "execute_result"
    }
   ],
   "source": [
    "# the main dataset\n",
    "\n",
    "df = pd.read_csv('/kaggle/input/long-pl-dataset/cleaned_merged_seasons.csv')  \n",
    "df.head(101) # This shows you the first 5 rows of the table!"
   ]
  },
  {
   "cell_type": "code",
   "execution_count": 3,
   "id": "8f59d734",
   "metadata": {
    "execution": {
     "iopub.execute_input": "2025-10-21T18:30:40.624311Z",
     "iopub.status.busy": "2025-10-21T18:30:40.623965Z",
     "iopub.status.idle": "2025-10-21T18:30:40.640537Z",
     "shell.execute_reply": "2025-10-21T18:30:40.639522Z"
    },
    "papermill": {
     "duration": 0.02904,
     "end_time": "2025-10-21T18:30:40.642078",
     "exception": false,
     "start_time": "2025-10-21T18:30:40.613038",
     "status": "completed"
    },
    "tags": []
   },
   "outputs": [
    {
     "data": {
      "text/html": [
       "<div>\n",
       "<style scoped>\n",
       "    .dataframe tbody tr th:only-of-type {\n",
       "        vertical-align: middle;\n",
       "    }\n",
       "\n",
       "    .dataframe tbody tr th {\n",
       "        vertical-align: top;\n",
       "    }\n",
       "\n",
       "    .dataframe thead th {\n",
       "        text-align: right;\n",
       "    }\n",
       "</style>\n",
       "<table border=\"1\" class=\"dataframe\">\n",
       "  <thead>\n",
       "    <tr style=\"text-align: right;\">\n",
       "      <th></th>\n",
       "      <th>season</th>\n",
       "      <th>team</th>\n",
       "      <th>team_name</th>\n",
       "    </tr>\n",
       "  </thead>\n",
       "  <tbody>\n",
       "    <tr>\n",
       "      <th>0</th>\n",
       "      <td>2016-17</td>\n",
       "      <td>1</td>\n",
       "      <td>Arsenal</td>\n",
       "    </tr>\n",
       "    <tr>\n",
       "      <th>1</th>\n",
       "      <td>2016-17</td>\n",
       "      <td>2</td>\n",
       "      <td>Bournemouth</td>\n",
       "    </tr>\n",
       "    <tr>\n",
       "      <th>2</th>\n",
       "      <td>2016-17</td>\n",
       "      <td>3</td>\n",
       "      <td>Burnley</td>\n",
       "    </tr>\n",
       "    <tr>\n",
       "      <th>3</th>\n",
       "      <td>2016-17</td>\n",
       "      <td>4</td>\n",
       "      <td>Chelsea</td>\n",
       "    </tr>\n",
       "    <tr>\n",
       "      <th>4</th>\n",
       "      <td>2016-17</td>\n",
       "      <td>5</td>\n",
       "      <td>Crystal Palace</td>\n",
       "    </tr>\n",
       "    <tr>\n",
       "      <th>5</th>\n",
       "      <td>2016-17</td>\n",
       "      <td>6</td>\n",
       "      <td>Everton</td>\n",
       "    </tr>\n",
       "    <tr>\n",
       "      <th>6</th>\n",
       "      <td>2016-17</td>\n",
       "      <td>7</td>\n",
       "      <td>Hull</td>\n",
       "    </tr>\n",
       "    <tr>\n",
       "      <th>7</th>\n",
       "      <td>2016-17</td>\n",
       "      <td>8</td>\n",
       "      <td>Leicester</td>\n",
       "    </tr>\n",
       "    <tr>\n",
       "      <th>8</th>\n",
       "      <td>2016-17</td>\n",
       "      <td>9</td>\n",
       "      <td>Liverpool</td>\n",
       "    </tr>\n",
       "    <tr>\n",
       "      <th>9</th>\n",
       "      <td>2016-17</td>\n",
       "      <td>10</td>\n",
       "      <td>Man City</td>\n",
       "    </tr>\n",
       "    <tr>\n",
       "      <th>10</th>\n",
       "      <td>2016-17</td>\n",
       "      <td>11</td>\n",
       "      <td>Man Utd</td>\n",
       "    </tr>\n",
       "    <tr>\n",
       "      <th>11</th>\n",
       "      <td>2016-17</td>\n",
       "      <td>12</td>\n",
       "      <td>Middlesbrough</td>\n",
       "    </tr>\n",
       "    <tr>\n",
       "      <th>12</th>\n",
       "      <td>2016-17</td>\n",
       "      <td>13</td>\n",
       "      <td>Southampton</td>\n",
       "    </tr>\n",
       "    <tr>\n",
       "      <th>13</th>\n",
       "      <td>2016-17</td>\n",
       "      <td>14</td>\n",
       "      <td>Stoke</td>\n",
       "    </tr>\n",
       "    <tr>\n",
       "      <th>14</th>\n",
       "      <td>2016-17</td>\n",
       "      <td>15</td>\n",
       "      <td>Sunderland</td>\n",
       "    </tr>\n",
       "    <tr>\n",
       "      <th>15</th>\n",
       "      <td>2016-17</td>\n",
       "      <td>16</td>\n",
       "      <td>Swansea</td>\n",
       "    </tr>\n",
       "    <tr>\n",
       "      <th>16</th>\n",
       "      <td>2016-17</td>\n",
       "      <td>17</td>\n",
       "      <td>Spurs</td>\n",
       "    </tr>\n",
       "    <tr>\n",
       "      <th>17</th>\n",
       "      <td>2016-17</td>\n",
       "      <td>18</td>\n",
       "      <td>Watford</td>\n",
       "    </tr>\n",
       "    <tr>\n",
       "      <th>18</th>\n",
       "      <td>2016-17</td>\n",
       "      <td>19</td>\n",
       "      <td>West Brom</td>\n",
       "    </tr>\n",
       "    <tr>\n",
       "      <th>19</th>\n",
       "      <td>2016-17</td>\n",
       "      <td>20</td>\n",
       "      <td>West Ham</td>\n",
       "    </tr>\n",
       "    <tr>\n",
       "      <th>20</th>\n",
       "      <td>2017-18</td>\n",
       "      <td>1</td>\n",
       "      <td>Arsenal</td>\n",
       "    </tr>\n",
       "    <tr>\n",
       "      <th>21</th>\n",
       "      <td>2017-18</td>\n",
       "      <td>2</td>\n",
       "      <td>Bournemouth</td>\n",
       "    </tr>\n",
       "    <tr>\n",
       "      <th>22</th>\n",
       "      <td>2017-18</td>\n",
       "      <td>3</td>\n",
       "      <td>Brighton</td>\n",
       "    </tr>\n",
       "    <tr>\n",
       "      <th>23</th>\n",
       "      <td>2017-18</td>\n",
       "      <td>4</td>\n",
       "      <td>Burnley</td>\n",
       "    </tr>\n",
       "    <tr>\n",
       "      <th>24</th>\n",
       "      <td>2017-18</td>\n",
       "      <td>5</td>\n",
       "      <td>Chelsea</td>\n",
       "    </tr>\n",
       "    <tr>\n",
       "      <th>25</th>\n",
       "      <td>2017-18</td>\n",
       "      <td>6</td>\n",
       "      <td>Crystal Palace</td>\n",
       "    </tr>\n",
       "    <tr>\n",
       "      <th>26</th>\n",
       "      <td>2017-18</td>\n",
       "      <td>7</td>\n",
       "      <td>Everton</td>\n",
       "    </tr>\n",
       "    <tr>\n",
       "      <th>27</th>\n",
       "      <td>2017-18</td>\n",
       "      <td>8</td>\n",
       "      <td>Huddersfield</td>\n",
       "    </tr>\n",
       "    <tr>\n",
       "      <th>28</th>\n",
       "      <td>2017-18</td>\n",
       "      <td>9</td>\n",
       "      <td>Leicester</td>\n",
       "    </tr>\n",
       "    <tr>\n",
       "      <th>29</th>\n",
       "      <td>2017-18</td>\n",
       "      <td>10</td>\n",
       "      <td>Liverpool</td>\n",
       "    </tr>\n",
       "    <tr>\n",
       "      <th>30</th>\n",
       "      <td>2017-18</td>\n",
       "      <td>11</td>\n",
       "      <td>Man City</td>\n",
       "    </tr>\n",
       "    <tr>\n",
       "      <th>31</th>\n",
       "      <td>2017-18</td>\n",
       "      <td>12</td>\n",
       "      <td>Man Utd</td>\n",
       "    </tr>\n",
       "    <tr>\n",
       "      <th>32</th>\n",
       "      <td>2017-18</td>\n",
       "      <td>13</td>\n",
       "      <td>Newcastle</td>\n",
       "    </tr>\n",
       "    <tr>\n",
       "      <th>33</th>\n",
       "      <td>2017-18</td>\n",
       "      <td>14</td>\n",
       "      <td>Southampton</td>\n",
       "    </tr>\n",
       "    <tr>\n",
       "      <th>34</th>\n",
       "      <td>2017-18</td>\n",
       "      <td>15</td>\n",
       "      <td>Stoke</td>\n",
       "    </tr>\n",
       "    <tr>\n",
       "      <th>35</th>\n",
       "      <td>2017-18</td>\n",
       "      <td>16</td>\n",
       "      <td>Swansea</td>\n",
       "    </tr>\n",
       "    <tr>\n",
       "      <th>36</th>\n",
       "      <td>2017-18</td>\n",
       "      <td>17</td>\n",
       "      <td>Spurs</td>\n",
       "    </tr>\n",
       "    <tr>\n",
       "      <th>37</th>\n",
       "      <td>2017-18</td>\n",
       "      <td>18</td>\n",
       "      <td>Watford</td>\n",
       "    </tr>\n",
       "    <tr>\n",
       "      <th>38</th>\n",
       "      <td>2017-18</td>\n",
       "      <td>19</td>\n",
       "      <td>West Brom</td>\n",
       "    </tr>\n",
       "    <tr>\n",
       "      <th>39</th>\n",
       "      <td>2017-18</td>\n",
       "      <td>20</td>\n",
       "      <td>West Ham</td>\n",
       "    </tr>\n",
       "  </tbody>\n",
       "</table>\n",
       "</div>"
      ],
      "text/plain": [
       "     season  team       team_name\n",
       "0   2016-17     1         Arsenal\n",
       "1   2016-17     2     Bournemouth\n",
       "2   2016-17     3         Burnley\n",
       "3   2016-17     4         Chelsea\n",
       "4   2016-17     5  Crystal Palace\n",
       "5   2016-17     6         Everton\n",
       "6   2016-17     7            Hull\n",
       "7   2016-17     8       Leicester\n",
       "8   2016-17     9       Liverpool\n",
       "9   2016-17    10        Man City\n",
       "10  2016-17    11         Man Utd\n",
       "11  2016-17    12   Middlesbrough\n",
       "12  2016-17    13     Southampton\n",
       "13  2016-17    14           Stoke\n",
       "14  2016-17    15      Sunderland\n",
       "15  2016-17    16         Swansea\n",
       "16  2016-17    17           Spurs\n",
       "17  2016-17    18         Watford\n",
       "18  2016-17    19       West Brom\n",
       "19  2016-17    20        West Ham\n",
       "20  2017-18     1         Arsenal\n",
       "21  2017-18     2     Bournemouth\n",
       "22  2017-18     3        Brighton\n",
       "23  2017-18     4         Burnley\n",
       "24  2017-18     5         Chelsea\n",
       "25  2017-18     6  Crystal Palace\n",
       "26  2017-18     7         Everton\n",
       "27  2017-18     8    Huddersfield\n",
       "28  2017-18     9       Leicester\n",
       "29  2017-18    10       Liverpool\n",
       "30  2017-18    11        Man City\n",
       "31  2017-18    12         Man Utd\n",
       "32  2017-18    13       Newcastle\n",
       "33  2017-18    14     Southampton\n",
       "34  2017-18    15           Stoke\n",
       "35  2017-18    16         Swansea\n",
       "36  2017-18    17           Spurs\n",
       "37  2017-18    18         Watford\n",
       "38  2017-18    19       West Brom\n",
       "39  2017-18    20        West Ham"
      ]
     },
     "execution_count": 3,
     "metadata": {},
     "output_type": "execute_result"
    }
   ],
   "source": [
    "# the list of teams in each year\n",
    "\n",
    "temp_df = pd.read_csv('/kaggle/input/long-pl-dataset/master_team_list.csv')  \n",
    "temp_df.head(40) # This shows you the first 5 rows of the table!"
   ]
  },
  {
   "cell_type": "code",
   "execution_count": 4,
   "id": "3afa2fe4",
   "metadata": {
    "execution": {
     "iopub.execute_input": "2025-10-21T18:30:40.663517Z",
     "iopub.status.busy": "2025-10-21T18:30:40.663229Z",
     "iopub.status.idle": "2025-10-21T18:30:40.720908Z",
     "shell.execute_reply": "2025-10-21T18:30:40.719802Z"
    },
    "papermill": {
     "duration": 0.070682,
     "end_time": "2025-10-21T18:30:40.722939",
     "exception": false,
     "start_time": "2025-10-21T18:30:40.652257",
     "status": "completed"
    },
    "tags": []
   },
   "outputs": [
    {
     "name": "stdout",
     "output_type": "stream",
     "text": [
      "<class 'pandas.core.frame.DataFrame'>\n",
      "RangeIndex: 96169 entries, 0 to 96168\n",
      "Data columns (total 37 columns):\n",
      " #   Column             Non-Null Count  Dtype  \n",
      "---  ------             --------------  -----  \n",
      " 0   season_x           96169 non-null  object \n",
      " 1   name               96169 non-null  object \n",
      " 2   position           96169 non-null  object \n",
      " 3   team_x             76317 non-null  object \n",
      " 4   assists            96169 non-null  int64  \n",
      " 5   bonus              96169 non-null  int64  \n",
      " 6   bps                96169 non-null  int64  \n",
      " 7   clean_sheets       96169 non-null  int64  \n",
      " 8   creativity         96169 non-null  float64\n",
      " 9   element            96169 non-null  int64  \n",
      " 10  fixture            96169 non-null  int64  \n",
      " 11  goals_conceded     96169 non-null  int64  \n",
      " 12  goals_scored       96169 non-null  int64  \n",
      " 13  ict_index          96169 non-null  float64\n",
      " 14  influence          96169 non-null  float64\n",
      " 15  kickoff_time       96169 non-null  object \n",
      " 16  minutes            96169 non-null  int64  \n",
      " 17  opponent_team      96169 non-null  int64  \n",
      " 18  opp_team_name      96169 non-null  object \n",
      " 19  own_goals          96169 non-null  int64  \n",
      " 20  penalties_missed   96169 non-null  int64  \n",
      " 21  penalties_saved    96169 non-null  int64  \n",
      " 22  red_cards          96169 non-null  int64  \n",
      " 23  round              96169 non-null  int64  \n",
      " 24  saves              96169 non-null  int64  \n",
      " 25  selected           96169 non-null  int64  \n",
      " 26  team_a_score       96169 non-null  float64\n",
      " 27  team_h_score       96169 non-null  float64\n",
      " 28  threat             96169 non-null  float64\n",
      " 29  total_points       96169 non-null  int64  \n",
      " 30  transfers_balance  96169 non-null  int64  \n",
      " 31  transfers_in       96169 non-null  int64  \n",
      " 32  transfers_out      96169 non-null  int64  \n",
      " 33  value              96169 non-null  int64  \n",
      " 34  was_home           96169 non-null  bool   \n",
      " 35  yellow_cards       96169 non-null  int64  \n",
      " 36  GW                 96169 non-null  int64  \n",
      "dtypes: bool(1), float64(6), int64(24), object(6)\n",
      "memory usage: 26.5+ MB\n"
     ]
    }
   ],
   "source": [
    "df.info() "
   ]
  },
  {
   "cell_type": "code",
   "execution_count": 5,
   "id": "c89a8afb",
   "metadata": {
    "execution": {
     "iopub.execute_input": "2025-10-21T18:30:40.744864Z",
     "iopub.status.busy": "2025-10-21T18:30:40.744496Z",
     "iopub.status.idle": "2025-10-21T18:30:40.885035Z",
     "shell.execute_reply": "2025-10-21T18:30:40.883864Z"
    },
    "papermill": {
     "duration": 0.153656,
     "end_time": "2025-10-21T18:30:40.886790",
     "exception": false,
     "start_time": "2025-10-21T18:30:40.733134",
     "status": "completed"
    },
    "tags": []
   },
   "outputs": [
    {
     "data": {
      "text/html": [
       "<div>\n",
       "<style scoped>\n",
       "    .dataframe tbody tr th:only-of-type {\n",
       "        vertical-align: middle;\n",
       "    }\n",
       "\n",
       "    .dataframe tbody tr th {\n",
       "        vertical-align: top;\n",
       "    }\n",
       "\n",
       "    .dataframe thead th {\n",
       "        text-align: right;\n",
       "    }\n",
       "</style>\n",
       "<table border=\"1\" class=\"dataframe\">\n",
       "  <thead>\n",
       "    <tr style=\"text-align: right;\">\n",
       "      <th></th>\n",
       "      <th>assists</th>\n",
       "      <th>bonus</th>\n",
       "      <th>bps</th>\n",
       "      <th>clean_sheets</th>\n",
       "      <th>creativity</th>\n",
       "      <th>element</th>\n",
       "      <th>fixture</th>\n",
       "      <th>goals_conceded</th>\n",
       "      <th>goals_scored</th>\n",
       "      <th>ict_index</th>\n",
       "      <th>...</th>\n",
       "      <th>team_a_score</th>\n",
       "      <th>team_h_score</th>\n",
       "      <th>threat</th>\n",
       "      <th>total_points</th>\n",
       "      <th>transfers_balance</th>\n",
       "      <th>transfers_in</th>\n",
       "      <th>transfers_out</th>\n",
       "      <th>value</th>\n",
       "      <th>yellow_cards</th>\n",
       "      <th>GW</th>\n",
       "    </tr>\n",
       "  </thead>\n",
       "  <tbody>\n",
       "    <tr>\n",
       "      <th>count</th>\n",
       "      <td>96169.000000</td>\n",
       "      <td>96169.000000</td>\n",
       "      <td>96169.000000</td>\n",
       "      <td>96169.000000</td>\n",
       "      <td>96169.000000</td>\n",
       "      <td>96169.000000</td>\n",
       "      <td>96169.000000</td>\n",
       "      <td>96169.000000</td>\n",
       "      <td>96169.000000</td>\n",
       "      <td>96169.000000</td>\n",
       "      <td>...</td>\n",
       "      <td>96169.000000</td>\n",
       "      <td>96169.000000</td>\n",
       "      <td>96169.000000</td>\n",
       "      <td>96169.000000</td>\n",
       "      <td>9.616900e+04</td>\n",
       "      <td>9.616900e+04</td>\n",
       "      <td>9.616900e+04</td>\n",
       "      <td>96169.000000</td>\n",
       "      <td>96169.000000</td>\n",
       "      <td>96169.000000</td>\n",
       "    </tr>\n",
       "    <tr>\n",
       "      <th>mean</th>\n",
       "      <td>0.041042</td>\n",
       "      <td>0.108715</td>\n",
       "      <td>6.080275</td>\n",
       "      <td>0.106739</td>\n",
       "      <td>4.734000</td>\n",
       "      <td>327.063264</td>\n",
       "      <td>198.413824</td>\n",
       "      <td>0.495887</td>\n",
       "      <td>0.045514</td>\n",
       "      <td>1.715793</td>\n",
       "      <td>...</td>\n",
       "      <td>1.265158</td>\n",
       "      <td>1.516393</td>\n",
       "      <td>5.287598</td>\n",
       "      <td>1.379270</td>\n",
       "      <td>1.677100e+03</td>\n",
       "      <td>1.454716e+04</td>\n",
       "      <td>1.286945e+04</td>\n",
       "      <td>51.352390</td>\n",
       "      <td>0.053167</td>\n",
       "      <td>20.772099</td>\n",
       "    </tr>\n",
       "    <tr>\n",
       "      <th>std</th>\n",
       "      <td>0.215378</td>\n",
       "      <td>0.492334</td>\n",
       "      <td>9.850595</td>\n",
       "      <td>0.308783</td>\n",
       "      <td>10.689879</td>\n",
       "      <td>194.313766</td>\n",
       "      <td>108.884200</td>\n",
       "      <td>0.974269</td>\n",
       "      <td>0.233644</td>\n",
       "      <td>3.042551</td>\n",
       "      <td>...</td>\n",
       "      <td>1.229086</td>\n",
       "      <td>1.349184</td>\n",
       "      <td>13.368420</td>\n",
       "      <td>2.542535</td>\n",
       "      <td>6.581628e+04</td>\n",
       "      <td>5.725343e+04</td>\n",
       "      <td>4.840128e+04</td>\n",
       "      <td>12.667432</td>\n",
       "      <td>0.224367</td>\n",
       "      <td>10.941742</td>\n",
       "    </tr>\n",
       "    <tr>\n",
       "      <th>min</th>\n",
       "      <td>0.000000</td>\n",
       "      <td>0.000000</td>\n",
       "      <td>-21.000000</td>\n",
       "      <td>0.000000</td>\n",
       "      <td>0.000000</td>\n",
       "      <td>1.000000</td>\n",
       "      <td>1.000000</td>\n",
       "      <td>0.000000</td>\n",
       "      <td>0.000000</td>\n",
       "      <td>0.000000</td>\n",
       "      <td>...</td>\n",
       "      <td>0.000000</td>\n",
       "      <td>0.000000</td>\n",
       "      <td>0.000000</td>\n",
       "      <td>-7.000000</td>\n",
       "      <td>-2.180978e+06</td>\n",
       "      <td>0.000000e+00</td>\n",
       "      <td>0.000000e+00</td>\n",
       "      <td>37.000000</td>\n",
       "      <td>0.000000</td>\n",
       "      <td>1.000000</td>\n",
       "    </tr>\n",
       "    <tr>\n",
       "      <th>25%</th>\n",
       "      <td>0.000000</td>\n",
       "      <td>0.000000</td>\n",
       "      <td>0.000000</td>\n",
       "      <td>0.000000</td>\n",
       "      <td>0.000000</td>\n",
       "      <td>159.000000</td>\n",
       "      <td>105.000000</td>\n",
       "      <td>0.000000</td>\n",
       "      <td>0.000000</td>\n",
       "      <td>0.000000</td>\n",
       "      <td>...</td>\n",
       "      <td>0.000000</td>\n",
       "      <td>1.000000</td>\n",
       "      <td>0.000000</td>\n",
       "      <td>0.000000</td>\n",
       "      <td>-1.374000e+03</td>\n",
       "      <td>4.600000e+01</td>\n",
       "      <td>1.280000e+02</td>\n",
       "      <td>44.000000</td>\n",
       "      <td>0.000000</td>\n",
       "      <td>11.000000</td>\n",
       "    </tr>\n",
       "    <tr>\n",
       "      <th>50%</th>\n",
       "      <td>0.000000</td>\n",
       "      <td>0.000000</td>\n",
       "      <td>0.000000</td>\n",
       "      <td>0.000000</td>\n",
       "      <td>0.000000</td>\n",
       "      <td>318.000000</td>\n",
       "      <td>203.000000</td>\n",
       "      <td>0.000000</td>\n",
       "      <td>0.000000</td>\n",
       "      <td>0.000000</td>\n",
       "      <td>...</td>\n",
       "      <td>1.000000</td>\n",
       "      <td>1.000000</td>\n",
       "      <td>0.000000</td>\n",
       "      <td>0.000000</td>\n",
       "      <td>-5.800000e+01</td>\n",
       "      <td>4.380000e+02</td>\n",
       "      <td>1.104000e+03</td>\n",
       "      <td>48.000000</td>\n",
       "      <td>0.000000</td>\n",
       "      <td>22.000000</td>\n",
       "    </tr>\n",
       "    <tr>\n",
       "      <th>75%</th>\n",
       "      <td>0.000000</td>\n",
       "      <td>0.000000</td>\n",
       "      <td>10.000000</td>\n",
       "      <td>0.000000</td>\n",
       "      <td>2.400000</td>\n",
       "      <td>486.000000</td>\n",
       "      <td>293.000000</td>\n",
       "      <td>1.000000</td>\n",
       "      <td>0.000000</td>\n",
       "      <td>2.500000</td>\n",
       "      <td>...</td>\n",
       "      <td>2.000000</td>\n",
       "      <td>2.000000</td>\n",
       "      <td>2.000000</td>\n",
       "      <td>2.000000</td>\n",
       "      <td>7.900000e+01</td>\n",
       "      <td>5.042000e+03</td>\n",
       "      <td>7.562000e+03</td>\n",
       "      <td>54.000000</td>\n",
       "      <td>0.000000</td>\n",
       "      <td>30.000000</td>\n",
       "    </tr>\n",
       "    <tr>\n",
       "      <th>max</th>\n",
       "      <td>4.000000</td>\n",
       "      <td>3.000000</td>\n",
       "      <td>128.000000</td>\n",
       "      <td>1.000000</td>\n",
       "      <td>170.900000</td>\n",
       "      <td>778.000000</td>\n",
       "      <td>380.000000</td>\n",
       "      <td>9.000000</td>\n",
       "      <td>4.000000</td>\n",
       "      <td>32.800000</td>\n",
       "      <td>...</td>\n",
       "      <td>7.000000</td>\n",
       "      <td>9.000000</td>\n",
       "      <td>186.000000</td>\n",
       "      <td>29.000000</td>\n",
       "      <td>1.983733e+06</td>\n",
       "      <td>2.104464e+06</td>\n",
       "      <td>2.233619e+06</td>\n",
       "      <td>133.000000</td>\n",
       "      <td>1.000000</td>\n",
       "      <td>38.000000</td>\n",
       "    </tr>\n",
       "  </tbody>\n",
       "</table>\n",
       "<p>8 rows × 30 columns</p>\n",
       "</div>"
      ],
      "text/plain": [
       "            assists         bonus           bps  clean_sheets    creativity  \\\n",
       "count  96169.000000  96169.000000  96169.000000  96169.000000  96169.000000   \n",
       "mean       0.041042      0.108715      6.080275      0.106739      4.734000   \n",
       "std        0.215378      0.492334      9.850595      0.308783     10.689879   \n",
       "min        0.000000      0.000000    -21.000000      0.000000      0.000000   \n",
       "25%        0.000000      0.000000      0.000000      0.000000      0.000000   \n",
       "50%        0.000000      0.000000      0.000000      0.000000      0.000000   \n",
       "75%        0.000000      0.000000     10.000000      0.000000      2.400000   \n",
       "max        4.000000      3.000000    128.000000      1.000000    170.900000   \n",
       "\n",
       "            element       fixture  goals_conceded  goals_scored     ict_index  \\\n",
       "count  96169.000000  96169.000000    96169.000000  96169.000000  96169.000000   \n",
       "mean     327.063264    198.413824        0.495887      0.045514      1.715793   \n",
       "std      194.313766    108.884200        0.974269      0.233644      3.042551   \n",
       "min        1.000000      1.000000        0.000000      0.000000      0.000000   \n",
       "25%      159.000000    105.000000        0.000000      0.000000      0.000000   \n",
       "50%      318.000000    203.000000        0.000000      0.000000      0.000000   \n",
       "75%      486.000000    293.000000        1.000000      0.000000      2.500000   \n",
       "max      778.000000    380.000000        9.000000      4.000000     32.800000   \n",
       "\n",
       "       ...  team_a_score  team_h_score        threat  total_points  \\\n",
       "count  ...  96169.000000  96169.000000  96169.000000  96169.000000   \n",
       "mean   ...      1.265158      1.516393      5.287598      1.379270   \n",
       "std    ...      1.229086      1.349184     13.368420      2.542535   \n",
       "min    ...      0.000000      0.000000      0.000000     -7.000000   \n",
       "25%    ...      0.000000      1.000000      0.000000      0.000000   \n",
       "50%    ...      1.000000      1.000000      0.000000      0.000000   \n",
       "75%    ...      2.000000      2.000000      2.000000      2.000000   \n",
       "max    ...      7.000000      9.000000    186.000000     29.000000   \n",
       "\n",
       "       transfers_balance  transfers_in  transfers_out         value  \\\n",
       "count       9.616900e+04  9.616900e+04   9.616900e+04  96169.000000   \n",
       "mean        1.677100e+03  1.454716e+04   1.286945e+04     51.352390   \n",
       "std         6.581628e+04  5.725343e+04   4.840128e+04     12.667432   \n",
       "min        -2.180978e+06  0.000000e+00   0.000000e+00     37.000000   \n",
       "25%        -1.374000e+03  4.600000e+01   1.280000e+02     44.000000   \n",
       "50%        -5.800000e+01  4.380000e+02   1.104000e+03     48.000000   \n",
       "75%         7.900000e+01  5.042000e+03   7.562000e+03     54.000000   \n",
       "max         1.983733e+06  2.104464e+06   2.233619e+06    133.000000   \n",
       "\n",
       "       yellow_cards            GW  \n",
       "count  96169.000000  96169.000000  \n",
       "mean       0.053167     20.772099  \n",
       "std        0.224367     10.941742  \n",
       "min        0.000000      1.000000  \n",
       "25%        0.000000     11.000000  \n",
       "50%        0.000000     22.000000  \n",
       "75%        0.000000     30.000000  \n",
       "max        1.000000     38.000000  \n",
       "\n",
       "[8 rows x 30 columns]"
      ]
     },
     "execution_count": 5,
     "metadata": {},
     "output_type": "execute_result"
    }
   ],
   "source": [
    "df.describe() "
   ]
  },
  {
   "cell_type": "code",
   "execution_count": 6,
   "id": "1ba2873c",
   "metadata": {
    "execution": {
     "iopub.execute_input": "2025-10-21T18:30:40.909026Z",
     "iopub.status.busy": "2025-10-21T18:30:40.908653Z",
     "iopub.status.idle": "2025-10-21T18:30:40.952117Z",
     "shell.execute_reply": "2025-10-21T18:30:40.951128Z"
    },
    "papermill": {
     "duration": 0.056003,
     "end_time": "2025-10-21T18:30:40.953661",
     "exception": false,
     "start_time": "2025-10-21T18:30:40.897658",
     "status": "completed"
    },
    "tags": []
   },
   "outputs": [
    {
     "data": {
      "text/plain": [
       "season_x                 0\n",
       "name                     0\n",
       "position                 0\n",
       "team_x               19852\n",
       "assists                  0\n",
       "bonus                    0\n",
       "bps                      0\n",
       "clean_sheets             0\n",
       "creativity               0\n",
       "element                  0\n",
       "fixture                  0\n",
       "goals_conceded           0\n",
       "goals_scored             0\n",
       "ict_index                0\n",
       "influence                0\n",
       "kickoff_time             0\n",
       "minutes                  0\n",
       "opponent_team            0\n",
       "opp_team_name            0\n",
       "own_goals                0\n",
       "penalties_missed         0\n",
       "penalties_saved          0\n",
       "red_cards                0\n",
       "round                    0\n",
       "saves                    0\n",
       "selected                 0\n",
       "team_a_score             0\n",
       "team_h_score             0\n",
       "threat                   0\n",
       "total_points             0\n",
       "transfers_balance        0\n",
       "transfers_in             0\n",
       "transfers_out            0\n",
       "value                    0\n",
       "was_home                 0\n",
       "yellow_cards             0\n",
       "GW                       0\n",
       "dtype: int64"
      ]
     },
     "execution_count": 6,
     "metadata": {},
     "output_type": "execute_result"
    }
   ],
   "source": [
    "df.isnull().sum()"
   ]
  },
  {
   "cell_type": "code",
   "execution_count": 7,
   "id": "f30c79c7",
   "metadata": {
    "execution": {
     "iopub.execute_input": "2025-10-21T18:30:40.976652Z",
     "iopub.status.busy": "2025-10-21T18:30:40.976351Z",
     "iopub.status.idle": "2025-10-21T18:30:43.126564Z",
     "shell.execute_reply": "2025-10-21T18:30:43.125276Z"
    },
    "papermill": {
     "duration": 2.165343,
     "end_time": "2025-10-21T18:30:43.130197",
     "exception": false,
     "start_time": "2025-10-21T18:30:40.964854",
     "status": "completed"
    },
    "tags": []
   },
   "outputs": [
    {
     "data": {
      "text/plain": [
       "<Axes: >"
      ]
     },
     "execution_count": 7,
     "metadata": {},
     "output_type": "execute_result"
    },
    {
     "data": {
      "image/png": "[encoded data removed]",
      "text/plain": [
       "<Figure size 2500x1000 with 2 Axes>"
      ]
     },
     "metadata": {},
     "output_type": "display_data"
    }
   ],
   "source": [
    "msno.matrix(df)"
   ]
  },
  {
   "cell_type": "code",
   "execution_count": 8,
   "id": "e065c388",
   "metadata": {
    "execution": {
     "iopub.execute_input": "2025-10-21T18:30:43.158287Z",
     "iopub.status.busy": "2025-10-21T18:30:43.157937Z",
     "iopub.status.idle": "2025-10-21T18:30:43.164410Z",
     "shell.execute_reply": "2025-10-21T18:30:43.163668Z"
    },
    "papermill": {
     "duration": 0.022009,
     "end_time": "2025-10-21T18:30:43.165817",
     "exception": false,
     "start_time": "2025-10-21T18:30:43.143808",
     "status": "completed"
    },
    "tags": []
   },
   "outputs": [
    {
     "data": {
      "text/plain": [
       "['season_x',\n",
       " 'name',\n",
       " 'position',\n",
       " 'team_x',\n",
       " 'assists',\n",
       " 'bonus',\n",
       " 'bps',\n",
       " 'clean_sheets',\n",
       " 'creativity',\n",
       " 'element',\n",
       " 'fixture',\n",
       " 'goals_conceded',\n",
       " 'goals_scored',\n",
       " 'ict_index',\n",
       " 'influence',\n",
       " 'kickoff_time',\n",
       " 'minutes',\n",
       " 'opponent_team',\n",
       " 'opp_team_name',\n",
       " 'own_goals',\n",
       " 'penalties_missed',\n",
       " 'penalties_saved',\n",
       " 'red_cards',\n",
       " 'round',\n",
       " 'saves',\n",
       " 'selected',\n",
       " 'team_a_score',\n",
       " 'team_h_score',\n",
       " 'threat',\n",
       " 'total_points',\n",
       " 'transfers_balance',\n",
       " 'transfers_in',\n",
       " 'transfers_out',\n",
       " 'value',\n",
       " 'was_home',\n",
       " 'yellow_cards',\n",
       " 'GW']"
      ]
     },
     "execution_count": 8,
     "metadata": {},
     "output_type": "execute_result"
    }
   ],
   "source": [
    "# listing the list of attributes in the dataset\n",
    "\n",
    "df.columns.tolist()"
   ]
  },
  {
   "cell_type": "code",
   "execution_count": 9,
   "id": "8db38688",
   "metadata": {
    "execution": {
     "iopub.execute_input": "2025-10-21T18:30:43.193263Z",
     "iopub.status.busy": "2025-10-21T18:30:43.192975Z",
     "iopub.status.idle": "2025-10-21T18:30:43.215802Z",
     "shell.execute_reply": "2025-10-21T18:30:43.214704Z"
    },
    "papermill": {
     "duration": 0.038731,
     "end_time": "2025-10-21T18:30:43.217780",
     "exception": false,
     "start_time": "2025-10-21T18:30:43.179049",
     "status": "completed"
    },
    "tags": []
   },
   "outputs": [
    {
     "data": {
      "text/plain": [
       "array(['DEF', 'MID', 'GK', 'FWD'], dtype=object)"
      ]
     },
     "execution_count": 9,
     "metadata": {},
     "output_type": "execute_result"
    }
   ],
   "source": [
    "df.loc[df[\"position\"] == \"GKP\", \"position\"] = \"GK\"\n",
    "df['position'].unique()\n",
    "# df[df['position'] == \"GKP\"]"
   ]
  },
  {
   "cell_type": "code",
   "execution_count": 10,
   "id": "8cb503f3",
   "metadata": {
    "execution": {
     "iopub.execute_input": "2025-10-21T18:30:43.248540Z",
     "iopub.status.busy": "2025-10-21T18:30:43.248256Z",
     "iopub.status.idle": "2025-10-21T18:30:43.296567Z",
     "shell.execute_reply": "2025-10-21T18:30:43.295247Z"
    },
    "papermill": {
     "duration": 0.064045,
     "end_time": "2025-10-21T18:30:43.298275",
     "exception": false,
     "start_time": "2025-10-21T18:30:43.234230",
     "status": "completed"
    },
    "tags": []
   },
   "outputs": [],
   "source": [
    "# 1️⃣ Sort by player, season, and gameweek\n",
    "df = df.sort_values(by=[\"season_x\", \"name\", \"GW\"]).reset_index(drop=True)"
   ]
  },
  {
   "cell_type": "code",
   "execution_count": 11,
   "id": "d1641707",
   "metadata": {
    "execution": {
     "iopub.execute_input": "2025-10-21T18:30:43.326887Z",
     "iopub.status.busy": "2025-10-21T18:30:43.326514Z",
     "iopub.status.idle": "2025-10-21T18:30:43.832253Z",
     "shell.execute_reply": "2025-10-21T18:30:43.831180Z"
    },
    "papermill": {
     "duration": 0.522165,
     "end_time": "2025-10-21T18:30:43.834046",
     "exception": false,
     "start_time": "2025-10-21T18:30:43.311881",
     "status": "completed"
    },
    "tags": []
   },
   "outputs": [
    {
     "name": "stderr",
     "output_type": "stream",
     "text": [
      "/tmp/ipykernel_13/800715512.py:5: FutureWarning: Series.fillna with 'method' is deprecated and will raise in a future version. Use obj.ffill() or obj.bfill() instead.\n",
      "  df[\"team_x\"] = df.groupby(\"name\")[\"team_x\"].transform(lambda x: x.fillna(method=\"ffill\").fillna(method=\"bfill\"))\n"
     ]
    }
   ],
   "source": [
    "# Fill NaNs in \"team_x\" within each \"name\" group using nearest non-null values:\n",
    "# - Forward fill (ffill) to use the previous value\n",
    "# - Backward fill (bfill) for any remaining NaNs\n",
    "\n",
    "df[\"team_x\"] = df.groupby(\"name\")[\"team_x\"].transform(lambda x: x.fillna(method=\"ffill\").fillna(method=\"bfill\"))"
   ]
  },
  {
   "cell_type": "code",
   "execution_count": 12,
   "id": "64dd6169",
   "metadata": {
    "execution": {
     "iopub.execute_input": "2025-10-21T18:30:43.861635Z",
     "iopub.status.busy": "2025-10-21T18:30:43.861327Z",
     "iopub.status.idle": "2025-10-21T18:30:45.593686Z",
     "shell.execute_reply": "2025-10-21T18:30:45.592701Z"
    },
    "papermill": {
     "duration": 1.74945,
     "end_time": "2025-10-21T18:30:45.596841",
     "exception": false,
     "start_time": "2025-10-21T18:30:43.847391",
     "status": "completed"
    },
    "tags": []
   },
   "outputs": [
    {
     "data": {
      "text/plain": [
       "<Axes: >"
      ]
     },
     "execution_count": 12,
     "metadata": {},
     "output_type": "execute_result"
    },
    {
     "data": {
      "image/png": "[encoded data removed]",
      "text/plain": [
       "<Figure size 2500x1000 with 2 Axes>"
      ]
     },
     "metadata": {},
     "output_type": "display_data"
    }
   ],
   "source": [
    "# checking if there is still nan values\n",
    "msno.matrix(df)"
   ]
  },
  {
   "cell_type": "code",
   "execution_count": 13,
   "id": "47fa4641",
   "metadata": {
    "execution": {
     "iopub.execute_input": "2025-10-21T18:30:45.633090Z",
     "iopub.status.busy": "2025-10-21T18:30:45.632786Z",
     "iopub.status.idle": "2025-10-21T18:30:45.679497Z",
     "shell.execute_reply": "2025-10-21T18:30:45.677646Z"
    },
    "papermill": {
     "duration": 0.066564,
     "end_time": "2025-10-21T18:30:45.681186",
     "exception": false,
     "start_time": "2025-10-21T18:30:45.614622",
     "status": "completed"
    },
    "tags": []
   },
   "outputs": [
    {
     "name": "stdout",
     "output_type": "stream",
     "text": [
      "                  name  GW season_x  count\n",
      "41      Aaron Connolly  22  2021-22      2\n",
      "46      Aaron Connolly  25  2021-22      2\n",
      "54      Aaron Connolly  29  2021-22      2\n",
      "61      Aaron Connolly  33  2021-22      2\n",
      "161    Aaron Cresswell  19  2020-21      2\n",
      "...                ...  ..      ...    ...\n",
      "90212   Çaglar Söyüncü  36  2021-22      2\n",
      "90215   Çaglar Söyüncü  37  2021-22      2\n",
      "90235     Ørjan Nyland  19  2020-21      2\n",
      "90242     Ørjan Nyland  26  2020-21      2\n",
      "90251     Ørjan Nyland  35  2020-21      2\n",
      "\n",
      "[5860 rows x 4 columns]\n"
     ]
    }
   ],
   "source": [
    "# finding duplicate cells\n",
    "dupe_groups = (\n",
    "    \n",
    "    df.groupby([\"name\", \"GW\", \"season_x\"])\n",
    "      .size()\n",
    "      .reset_index(name=\"count\")\n",
    ")\n",
    "\n",
    "dupe_groups = dupe_groups[dupe_groups[\"count\"] > 1]\n",
    "print(dupe_groups)"
   ]
  },
  {
   "cell_type": "code",
   "execution_count": 14,
   "id": "f2e05260",
   "metadata": {
    "execution": {
     "iopub.execute_input": "2025-10-21T18:30:45.714331Z",
     "iopub.status.busy": "2025-10-21T18:30:45.714024Z",
     "iopub.status.idle": "2025-10-21T18:30:45.756005Z",
     "shell.execute_reply": "2025-10-21T18:30:45.755002Z"
    },
    "papermill": {
     "duration": 0.060135,
     "end_time": "2025-10-21T18:30:45.757414",
     "exception": false,
     "start_time": "2025-10-21T18:30:45.697279",
     "status": "completed"
    },
    "tags": []
   },
   "outputs": [
    {
     "data": {
      "text/plain": [
       "season_x             38\n",
       "name                 38\n",
       "position             38\n",
       "team_x               38\n",
       "assists              38\n",
       "bonus                38\n",
       "bps                  38\n",
       "clean_sheets         38\n",
       "creativity           38\n",
       "element              38\n",
       "fixture              38\n",
       "goals_conceded       38\n",
       "goals_scored         38\n",
       "ict_index            38\n",
       "influence            38\n",
       "kickoff_time         38\n",
       "minutes              38\n",
       "opponent_team        38\n",
       "opp_team_name        38\n",
       "own_goals            38\n",
       "penalties_missed     38\n",
       "penalties_saved      38\n",
       "red_cards            38\n",
       "round                38\n",
       "saves                38\n",
       "selected             38\n",
       "team_a_score         38\n",
       "team_h_score         38\n",
       "threat               38\n",
       "total_points         38\n",
       "transfers_balance    38\n",
       "transfers_in         38\n",
       "transfers_out        38\n",
       "value                38\n",
       "was_home             38\n",
       "yellow_cards         38\n",
       "GW                   38\n",
       "dtype: int64"
      ]
     },
     "execution_count": 14,
     "metadata": {},
     "output_type": "execute_result"
    }
   ],
   "source": [
    "# printing a cell to ensuring that the cell is duplicate\n",
    "\n",
    "df[(df[\"name\"] == \"Çaglar Söyüncü\") & (df[\"GW\"] == 36) & (df[\"season_x\"] == \"2021-22\")]\n",
    "\n",
    "player = df.loc[(df[\"name\"] == \"Çaglar Söyüncü\") & (df[\"season_x\"] == \"2021-22\")]\n",
    "player.count()"
   ]
  },
  {
   "cell_type": "code",
   "execution_count": 15,
   "id": "b17a4b9c",
   "metadata": {
    "execution": {
     "iopub.execute_input": "2025-10-21T18:30:45.857625Z",
     "iopub.status.busy": "2025-10-21T18:30:45.857307Z",
     "iopub.status.idle": "2025-10-21T18:30:45.862014Z",
     "shell.execute_reply": "2025-10-21T18:30:45.860973Z"
    },
    "papermill": {
     "duration": 0.023455,
     "end_time": "2025-10-21T18:30:45.863539",
     "exception": false,
     "start_time": "2025-10-21T18:30:45.840084",
     "status": "completed"
    },
    "tags": []
   },
   "outputs": [],
   "source": [
    "# removed duplicated cells\n",
    "\n",
    "# df = df.drop_duplicates(subset=[\"name\", \"GW\", \"season_x\"], keep=\"first\")\n",
    "\n",
    "# dupe_groups = (\n",
    "#     df.groupby([\"name\", \"GW\", \"season_x\"]) \n",
    "#       .size()\n",
    "#       .reset_index(name=\"count\")\n",
    "# )\n",
    "\n",
    "# dupe_groups = dupe_groups[dupe_groups[\"count\"] > 1]\n",
    "# print(dupe_groups)"
   ]
  },
  {
   "cell_type": "code",
   "execution_count": 16,
   "id": "f455e436",
   "metadata": {
    "execution": {
     "iopub.execute_input": "2025-10-21T18:30:45.897581Z",
     "iopub.status.busy": "2025-10-21T18:30:45.897291Z",
     "iopub.status.idle": "2025-10-21T18:30:45.925878Z",
     "shell.execute_reply": "2025-10-21T18:30:45.924997Z"
    },
    "papermill": {
     "duration": 0.047002,
     "end_time": "2025-10-21T18:30:45.927458",
     "exception": false,
     "start_time": "2025-10-21T18:30:45.880456",
     "status": "completed"
    },
    "tags": []
   },
   "outputs": [
    {
     "data": {
      "text/html": [
       "<div>\n",
       "<style scoped>\n",
       "    .dataframe tbody tr th:only-of-type {\n",
       "        vertical-align: middle;\n",
       "    }\n",
       "\n",
       "    .dataframe tbody tr th {\n",
       "        vertical-align: top;\n",
       "    }\n",
       "\n",
       "    .dataframe thead th {\n",
       "        text-align: right;\n",
       "    }\n",
       "</style>\n",
       "<table border=\"1\" class=\"dataframe\">\n",
       "  <thead>\n",
       "    <tr style=\"text-align: right;\">\n",
       "      <th></th>\n",
       "      <th>season_x</th>\n",
       "      <th>GW</th>\n",
       "      <th>opponent_team</th>\n",
       "    </tr>\n",
       "  </thead>\n",
       "  <tbody>\n",
       "    <tr>\n",
       "      <th>16564</th>\n",
       "      <td>2017-18</td>\n",
       "      <td>1</td>\n",
       "      <td>18</td>\n",
       "    </tr>\n",
       "    <tr>\n",
       "      <th>16565</th>\n",
       "      <td>2017-18</td>\n",
       "      <td>2</td>\n",
       "      <td>6</td>\n",
       "    </tr>\n",
       "    <tr>\n",
       "      <th>16566</th>\n",
       "      <td>2017-18</td>\n",
       "      <td>3</td>\n",
       "      <td>1</td>\n",
       "    </tr>\n",
       "    <tr>\n",
       "      <th>16567</th>\n",
       "      <td>2017-18</td>\n",
       "      <td>4</td>\n",
       "      <td>11</td>\n",
       "    </tr>\n",
       "    <tr>\n",
       "      <th>16568</th>\n",
       "      <td>2017-18</td>\n",
       "      <td>5</td>\n",
       "      <td>4</td>\n",
       "    </tr>\n",
       "    <tr>\n",
       "      <th>16569</th>\n",
       "      <td>2017-18</td>\n",
       "      <td>6</td>\n",
       "      <td>9</td>\n",
       "    </tr>\n",
       "    <tr>\n",
       "      <th>16570</th>\n",
       "      <td>2017-18</td>\n",
       "      <td>7</td>\n",
       "      <td>13</td>\n",
       "    </tr>\n",
       "    <tr>\n",
       "      <th>16571</th>\n",
       "      <td>2017-18</td>\n",
       "      <td>8</td>\n",
       "      <td>12</td>\n",
       "    </tr>\n",
       "    <tr>\n",
       "      <th>16572</th>\n",
       "      <td>2017-18</td>\n",
       "      <td>9</td>\n",
       "      <td>17</td>\n",
       "    </tr>\n",
       "    <tr>\n",
       "      <th>16573</th>\n",
       "      <td>2017-18</td>\n",
       "      <td>10</td>\n",
       "      <td>8</td>\n",
       "    </tr>\n",
       "    <tr>\n",
       "      <th>16574</th>\n",
       "      <td>2017-18</td>\n",
       "      <td>11</td>\n",
       "      <td>20</td>\n",
       "    </tr>\n",
       "    <tr>\n",
       "      <th>16575</th>\n",
       "      <td>2017-18</td>\n",
       "      <td>12</td>\n",
       "      <td>14</td>\n",
       "    </tr>\n",
       "    <tr>\n",
       "      <th>16576</th>\n",
       "      <td>2017-18</td>\n",
       "      <td>13</td>\n",
       "      <td>5</td>\n",
       "    </tr>\n",
       "    <tr>\n",
       "      <th>16577</th>\n",
       "      <td>2017-18</td>\n",
       "      <td>14</td>\n",
       "      <td>15</td>\n",
       "    </tr>\n",
       "    <tr>\n",
       "      <th>16578</th>\n",
       "      <td>2017-18</td>\n",
       "      <td>15</td>\n",
       "      <td>3</td>\n",
       "    </tr>\n",
       "    <tr>\n",
       "      <th>16579</th>\n",
       "      <td>2017-18</td>\n",
       "      <td>16</td>\n",
       "      <td>7</td>\n",
       "    </tr>\n",
       "    <tr>\n",
       "      <th>16580</th>\n",
       "      <td>2017-18</td>\n",
       "      <td>17</td>\n",
       "      <td>19</td>\n",
       "    </tr>\n",
       "    <tr>\n",
       "      <th>16581</th>\n",
       "      <td>2017-18</td>\n",
       "      <td>18</td>\n",
       "      <td>2</td>\n",
       "    </tr>\n",
       "    <tr>\n",
       "      <th>16582</th>\n",
       "      <td>2017-18</td>\n",
       "      <td>19</td>\n",
       "      <td>1</td>\n",
       "    </tr>\n",
       "    <tr>\n",
       "      <th>16583</th>\n",
       "      <td>2017-18</td>\n",
       "      <td>20</td>\n",
       "      <td>16</td>\n",
       "    </tr>\n",
       "    <tr>\n",
       "      <th>16584</th>\n",
       "      <td>2017-18</td>\n",
       "      <td>21</td>\n",
       "      <td>9</td>\n",
       "    </tr>\n",
       "    <tr>\n",
       "      <th>16585</th>\n",
       "      <td>2017-18</td>\n",
       "      <td>22</td>\n",
       "      <td>4</td>\n",
       "    </tr>\n",
       "    <tr>\n",
       "      <th>16586</th>\n",
       "      <td>2017-18</td>\n",
       "      <td>23</td>\n",
       "      <td>11</td>\n",
       "    </tr>\n",
       "    <tr>\n",
       "      <th>16587</th>\n",
       "      <td>2017-18</td>\n",
       "      <td>24</td>\n",
       "      <td>16</td>\n",
       "    </tr>\n",
       "    <tr>\n",
       "      <th>16588</th>\n",
       "      <td>2017-18</td>\n",
       "      <td>25</td>\n",
       "      <td>8</td>\n",
       "    </tr>\n",
       "    <tr>\n",
       "      <th>16589</th>\n",
       "      <td>2017-18</td>\n",
       "      <td>26</td>\n",
       "      <td>17</td>\n",
       "    </tr>\n",
       "    <tr>\n",
       "      <th>16590</th>\n",
       "      <td>2017-18</td>\n",
       "      <td>27</td>\n",
       "      <td>14</td>\n",
       "    </tr>\n",
       "    <tr>\n",
       "      <th>16591</th>\n",
       "      <td>2017-18</td>\n",
       "      <td>28</td>\n",
       "      <td>20</td>\n",
       "    </tr>\n",
       "    <tr>\n",
       "      <th>16592</th>\n",
       "      <td>2017-18</td>\n",
       "      <td>29</td>\n",
       "      <td>13</td>\n",
       "    </tr>\n",
       "    <tr>\n",
       "      <th>16593</th>\n",
       "      <td>2017-18</td>\n",
       "      <td>30</td>\n",
       "      <td>12</td>\n",
       "    </tr>\n",
       "    <tr>\n",
       "      <th>16594</th>\n",
       "      <td>2017-18</td>\n",
       "      <td>31</td>\n",
       "      <td>18</td>\n",
       "    </tr>\n",
       "    <tr>\n",
       "      <th>16595</th>\n",
       "      <td>2017-18</td>\n",
       "      <td>32</td>\n",
       "      <td>6</td>\n",
       "    </tr>\n",
       "    <tr>\n",
       "      <th>16596</th>\n",
       "      <td>2017-18</td>\n",
       "      <td>33</td>\n",
       "      <td>7</td>\n",
       "    </tr>\n",
       "    <tr>\n",
       "      <th>16597</th>\n",
       "      <td>2017-18</td>\n",
       "      <td>34</td>\n",
       "      <td>2</td>\n",
       "    </tr>\n",
       "    <tr>\n",
       "      <th>16598</th>\n",
       "      <td>2017-18</td>\n",
       "      <td>35</td>\n",
       "      <td>19</td>\n",
       "    </tr>\n",
       "    <tr>\n",
       "      <th>16599</th>\n",
       "      <td>2017-18</td>\n",
       "      <td>36</td>\n",
       "      <td>15</td>\n",
       "    </tr>\n",
       "    <tr>\n",
       "      <th>16600</th>\n",
       "      <td>2017-18</td>\n",
       "      <td>37</td>\n",
       "      <td>5</td>\n",
       "    </tr>\n",
       "    <tr>\n",
       "      <th>16601</th>\n",
       "      <td>2017-18</td>\n",
       "      <td>38</td>\n",
       "      <td>3</td>\n",
       "    </tr>\n",
       "  </tbody>\n",
       "</table>\n",
       "</div>"
      ],
      "text/plain": [
       "      season_x  GW  opponent_team\n",
       "16564  2017-18   1             18\n",
       "16565  2017-18   2              6\n",
       "16566  2017-18   3              1\n",
       "16567  2017-18   4             11\n",
       "16568  2017-18   5              4\n",
       "16569  2017-18   6              9\n",
       "16570  2017-18   7             13\n",
       "16571  2017-18   8             12\n",
       "16572  2017-18   9             17\n",
       "16573  2017-18  10              8\n",
       "16574  2017-18  11             20\n",
       "16575  2017-18  12             14\n",
       "16576  2017-18  13              5\n",
       "16577  2017-18  14             15\n",
       "16578  2017-18  15              3\n",
       "16579  2017-18  16              7\n",
       "16580  2017-18  17             19\n",
       "16581  2017-18  18              2\n",
       "16582  2017-18  19              1\n",
       "16583  2017-18  20             16\n",
       "16584  2017-18  21              9\n",
       "16585  2017-18  22              4\n",
       "16586  2017-18  23             11\n",
       "16587  2017-18  24             16\n",
       "16588  2017-18  25              8\n",
       "16589  2017-18  26             17\n",
       "16590  2017-18  27             14\n",
       "16591  2017-18  28             20\n",
       "16592  2017-18  29             13\n",
       "16593  2017-18  30             12\n",
       "16594  2017-18  31             18\n",
       "16595  2017-18  32              6\n",
       "16596  2017-18  33              7\n",
       "16597  2017-18  34              2\n",
       "16598  2017-18  35             19\n",
       "16599  2017-18  36             15\n",
       "16600  2017-18  37              5\n",
       "16601  2017-18  38              3"
      ]
     },
     "execution_count": 16,
     "metadata": {},
     "output_type": "execute_result"
    }
   ],
   "source": [
    "# ensuring that there is a cell for each gameweek\n",
    "\n",
    "salah_2017 = df.loc[(df[\"name\"] == \"Mohamed Salah\") & (df[\"season_x\"] == \"2017-18\")]\n",
    "salah_2017.count()\n",
    "salah_2017[[\"season_x\",\"GW\",\"opponent_team\"]]"
   ]
  },
  {
   "cell_type": "code",
   "execution_count": 17,
   "id": "0298f1d3",
   "metadata": {
    "execution": {
     "iopub.execute_input": "2025-10-21T18:30:45.962128Z",
     "iopub.status.busy": "2025-10-21T18:30:45.961776Z",
     "iopub.status.idle": "2025-10-21T18:30:46.026208Z",
     "shell.execute_reply": "2025-10-21T18:30:46.025269Z"
    },
    "papermill": {
     "duration": 0.083564,
     "end_time": "2025-10-21T18:30:46.027704",
     "exception": false,
     "start_time": "2025-10-21T18:30:45.944140",
     "status": "completed"
    },
    "tags": []
   },
   "outputs": [
    {
     "data": {
      "text/plain": [
       "season_x                    0\n",
       "name                        0\n",
       "position                    0\n",
       "team_x                      0\n",
       "assists                     0\n",
       "bonus                       0\n",
       "bps                         0\n",
       "clean_sheets                0\n",
       "creativity                  0\n",
       "element                     0\n",
       "fixture                     0\n",
       "goals_conceded              0\n",
       "goals_scored                0\n",
       "ict_index                   0\n",
       "influence                   0\n",
       "kickoff_time                0\n",
       "minutes                     0\n",
       "opponent_team               0\n",
       "opp_team_name               0\n",
       "own_goals                   0\n",
       "penalties_missed            0\n",
       "penalties_saved             0\n",
       "red_cards                   0\n",
       "round                       0\n",
       "saves                       0\n",
       "selected                    0\n",
       "team_a_score                0\n",
       "team_h_score                0\n",
       "threat                      0\n",
       "total_points                0\n",
       "transfers_balance           0\n",
       "transfers_in                0\n",
       "transfers_out               0\n",
       "value                       0\n",
       "was_home                    0\n",
       "yellow_cards                0\n",
       "GW                          0\n",
       "upcoming_total_points    2782\n",
       "dtype: int64"
      ]
     },
     "execution_count": 17,
     "metadata": {},
     "output_type": "execute_result"
    }
   ],
   "source": [
    "# 2️⃣ Now shift total_points correctly\n",
    "df[\"upcoming_total_points\"] = (\n",
    "    df.groupby([\"name\", \"season_x\"])[\"total_points\"].shift(-1)\n",
    ")\n",
    "\n",
    "df.isnull().sum()"
   ]
  },
  {
   "cell_type": "code",
   "execution_count": 18,
   "id": "0966ff1a",
   "metadata": {
    "execution": {
     "iopub.execute_input": "2025-10-21T18:30:46.062277Z",
     "iopub.status.busy": "2025-10-21T18:30:46.061950Z",
     "iopub.status.idle": "2025-10-21T18:30:47.926523Z",
     "shell.execute_reply": "2025-10-21T18:30:47.924955Z"
    },
    "papermill": {
     "duration": 1.884743,
     "end_time": "2025-10-21T18:30:47.928950",
     "exception": false,
     "start_time": "2025-10-21T18:30:46.044207",
     "status": "completed"
    },
    "tags": []
   },
   "outputs": [
    {
     "data": {
      "text/plain": [
       "<Axes: >"
      ]
     },
     "execution_count": 18,
     "metadata": {},
     "output_type": "execute_result"
    },
    {
     "data": {
      "image/png": "[encoded data removed]",
      "text/plain": [
       "<Figure size 2500x1000 with 2 Axes>"
      ]
     },
     "metadata": {},
     "output_type": "display_data"
    }
   ],
   "source": [
    "# checking if there is still nan values\n",
    "msno.matrix(df)"
   ]
  },
  {
   "cell_type": "code",
   "execution_count": 19,
   "id": "94eb19df",
   "metadata": {
    "execution": {
     "iopub.execute_input": "2025-10-21T18:30:47.975932Z",
     "iopub.status.busy": "2025-10-21T18:30:47.975562Z",
     "iopub.status.idle": "2025-10-21T18:30:48.115919Z",
     "shell.execute_reply": "2025-10-21T18:30:48.114780Z"
    },
    "papermill": {
     "duration": 0.164053,
     "end_time": "2025-10-21T18:30:48.117952",
     "exception": false,
     "start_time": "2025-10-21T18:30:47.953899",
     "status": "completed"
    },
    "tags": []
   },
   "outputs": [],
   "source": [
    "# ensuring that all the nan values is in gameweek 38 (last gameweek)\n",
    "\n",
    "nan_rows = df[df[\"upcoming_total_points\"].isna()]\n",
    "\n",
    "# print(nan_rows[[\"name\", \"season_x\", \"GW\", \"upcoming_total_points\"]])\n",
    "for idx, row in nan_rows.iterrows():\n",
    "    if(row[\"GW\"] != 38 ): \n",
    "        print(row[[\"name\", \"season_x\", \"GW\", \"upcoming_total_points\"]])"
   ]
  },
  {
   "cell_type": "code",
   "execution_count": 20,
   "id": "69b8f8da",
   "metadata": {
    "execution": {
     "iopub.execute_input": "2025-10-21T18:30:48.158457Z",
     "iopub.status.busy": "2025-10-21T18:30:48.158133Z",
     "iopub.status.idle": "2025-10-21T18:30:48.162289Z",
     "shell.execute_reply": "2025-10-21T18:30:48.161349Z"
    },
    "papermill": {
     "duration": 0.026289,
     "end_time": "2025-10-21T18:30:48.163995",
     "exception": false,
     "start_time": "2025-10-21T18:30:48.137706",
     "status": "completed"
    },
    "tags": []
   },
   "outputs": [],
   "source": [
    "# salah_2017 = df.loc[(df[\"name\"] == \"Aaron Cresswell\") & (df[\"season_x\"] == \"2016-17\")]\n",
    "# salah_2017.count()\n",
    "\n",
    "# for idx, row in salah_2017.iterrows():\n",
    "#     print(row)\n",
    "#     print(f\"__________________________\")"
   ]
  },
  {
   "cell_type": "code",
   "execution_count": 21,
   "id": "12d82b80",
   "metadata": {
    "execution": {
     "iopub.execute_input": "2025-10-21T18:30:48.204430Z",
     "iopub.status.busy": "2025-10-21T18:30:48.204123Z",
     "iopub.status.idle": "2025-10-21T18:30:48.208219Z",
     "shell.execute_reply": "2025-10-21T18:30:48.207313Z"
    },
    "papermill": {
     "duration": 0.026443,
     "end_time": "2025-10-21T18:30:48.209570",
     "exception": false,
     "start_time": "2025-10-21T18:30:48.183127",
     "status": "completed"
    },
    "tags": []
   },
   "outputs": [],
   "source": [
    "# df.loc[df[\"name\"] == \"MVictor Lindelöf\", [\"season_x\" == \"2017-18\", \"GW\", \"total_points\", \"upcoming_total_points\"]]\n",
    "\n",
    "# df[(df[\"GW\"] == 10) & (df[\"season_x\"] == \"2017-18\") & (df[\"name\"] == \"MVictor Lindelöf\")]\n",
    "# df[(df[\"GW\"] == 10) & (df[\"season_x\"] == \"2017-18\")]"
   ]
  },
  {
   "cell_type": "code",
   "execution_count": 22,
   "id": "ea69b1ee",
   "metadata": {
    "execution": {
     "iopub.execute_input": "2025-10-21T18:30:48.253892Z",
     "iopub.status.busy": "2025-10-21T18:30:48.253142Z",
     "iopub.status.idle": "2025-10-21T18:30:50.014705Z",
     "shell.execute_reply": "2025-10-21T18:30:50.013293Z"
    },
    "papermill": {
     "duration": 1.785666,
     "end_time": "2025-10-21T18:30:50.016727",
     "exception": false,
     "start_time": "2025-10-21T18:30:48.231061",
     "status": "completed"
    },
    "tags": []
   },
   "outputs": [
    {
     "data": {
      "text/plain": [
       "<Axes: >"
      ]
     },
     "execution_count": 22,
     "metadata": {},
     "output_type": "execute_result"
    },
    {
     "data": {
      "image/png": "[encoded data removed]",
      "text/plain": [
       "<Figure size 2500x1000 with 2 Axes>"
      ]
     },
     "metadata": {},
     "output_type": "display_data"
    }
   ],
   "source": [
    "# drop gameweek 38 because it doesn't have upcoming_total_points so there is no predictions for this week\n",
    "\n",
    "df = df.dropna(subset=[\"upcoming_total_points\"]).reset_index(drop=True)\n",
    "msno.matrix(df)"
   ]
  },
  {
   "cell_type": "code",
   "execution_count": 23,
   "id": "790a9f07",
   "metadata": {
    "execution": {
     "iopub.execute_input": "2025-10-21T18:30:50.065616Z",
     "iopub.status.busy": "2025-10-21T18:30:50.065329Z",
     "iopub.status.idle": "2025-10-21T18:30:50.080037Z",
     "shell.execute_reply": "2025-10-21T18:30:50.079004Z"
    },
    "papermill": {
     "duration": 0.041853,
     "end_time": "2025-10-21T18:30:50.082130",
     "exception": false,
     "start_time": "2025-10-21T18:30:50.040277",
     "status": "completed"
    },
    "tags": []
   },
   "outputs": [],
   "source": [
    "# drop columns related to popularity\n",
    "df = df.drop(columns=['selected', 'transfers_out', 'transfers_in','transfers_balance'])"
   ]
  },
  {
   "cell_type": "code",
   "execution_count": 24,
   "id": "1c6373e9",
   "metadata": {
    "execution": {
     "iopub.execute_input": "2025-10-21T18:30:50.126922Z",
     "iopub.status.busy": "2025-10-21T18:30:50.126591Z",
     "iopub.status.idle": "2025-10-21T18:30:50.254242Z",
     "shell.execute_reply": "2025-10-21T18:30:50.253175Z"
    },
    "papermill": {
     "duration": 0.151872,
     "end_time": "2025-10-21T18:30:50.255913",
     "exception": false,
     "start_time": "2025-10-21T18:30:50.104041",
     "status": "completed"
    },
    "tags": []
   },
   "outputs": [
    {
     "data": {
      "text/html": [
       "<div>\n",
       "<style scoped>\n",
       "    .dataframe tbody tr th:only-of-type {\n",
       "        vertical-align: middle;\n",
       "    }\n",
       "\n",
       "    .dataframe tbody tr th {\n",
       "        vertical-align: top;\n",
       "    }\n",
       "\n",
       "    .dataframe thead th {\n",
       "        text-align: right;\n",
       "    }\n",
       "</style>\n",
       "<table border=\"1\" class=\"dataframe\">\n",
       "  <thead>\n",
       "    <tr style=\"text-align: right;\">\n",
       "      <th></th>\n",
       "      <th>season_x</th>\n",
       "      <th>name</th>\n",
       "      <th>position</th>\n",
       "      <th>team_x</th>\n",
       "      <th>assists</th>\n",
       "      <th>bonus</th>\n",
       "      <th>bps</th>\n",
       "      <th>clean_sheets</th>\n",
       "      <th>creativity</th>\n",
       "      <th>element</th>\n",
       "      <th>...</th>\n",
       "      <th>team_a_score</th>\n",
       "      <th>team_h_score</th>\n",
       "      <th>threat</th>\n",
       "      <th>total_points</th>\n",
       "      <th>value</th>\n",
       "      <th>was_home</th>\n",
       "      <th>yellow_cards</th>\n",
       "      <th>GW</th>\n",
       "      <th>upcoming_total_points</th>\n",
       "      <th>form</th>\n",
       "    </tr>\n",
       "  </thead>\n",
       "  <tbody>\n",
       "    <tr>\n",
       "      <th>0</th>\n",
       "      <td>2016-17</td>\n",
       "      <td>Aaron Cresswell</td>\n",
       "      <td>DEF</td>\n",
       "      <td>West Ham</td>\n",
       "      <td>0</td>\n",
       "      <td>0</td>\n",
       "      <td>0</td>\n",
       "      <td>0</td>\n",
       "      <td>0.0</td>\n",
       "      <td>454</td>\n",
       "      <td>...</td>\n",
       "      <td>1.0</td>\n",
       "      <td>2.0</td>\n",
       "      <td>0.0</td>\n",
       "      <td>0</td>\n",
       "      <td>55</td>\n",
       "      <td>False</td>\n",
       "      <td>0</td>\n",
       "      <td>1</td>\n",
       "      <td>0.0</td>\n",
       "      <td>0.000</td>\n",
       "    </tr>\n",
       "    <tr>\n",
       "      <th>1</th>\n",
       "      <td>2016-17</td>\n",
       "      <td>Aaron Cresswell</td>\n",
       "      <td>DEF</td>\n",
       "      <td>West Ham</td>\n",
       "      <td>0</td>\n",
       "      <td>0</td>\n",
       "      <td>0</td>\n",
       "      <td>0</td>\n",
       "      <td>0.0</td>\n",
       "      <td>454</td>\n",
       "      <td>...</td>\n",
       "      <td>0.0</td>\n",
       "      <td>1.0</td>\n",
       "      <td>0.0</td>\n",
       "      <td>0</td>\n",
       "      <td>55</td>\n",
       "      <td>True</td>\n",
       "      <td>0</td>\n",
       "      <td>2</td>\n",
       "      <td>0.0</td>\n",
       "      <td>0.000</td>\n",
       "    </tr>\n",
       "    <tr>\n",
       "      <th>2</th>\n",
       "      <td>2016-17</td>\n",
       "      <td>Aaron Cresswell</td>\n",
       "      <td>DEF</td>\n",
       "      <td>West Ham</td>\n",
       "      <td>0</td>\n",
       "      <td>0</td>\n",
       "      <td>0</td>\n",
       "      <td>0</td>\n",
       "      <td>0.0</td>\n",
       "      <td>454</td>\n",
       "      <td>...</td>\n",
       "      <td>1.0</td>\n",
       "      <td>3.0</td>\n",
       "      <td>0.0</td>\n",
       "      <td>0</td>\n",
       "      <td>54</td>\n",
       "      <td>False</td>\n",
       "      <td>0</td>\n",
       "      <td>3</td>\n",
       "      <td>0.0</td>\n",
       "      <td>0.000</td>\n",
       "    </tr>\n",
       "    <tr>\n",
       "      <th>3</th>\n",
       "      <td>2016-17</td>\n",
       "      <td>Aaron Cresswell</td>\n",
       "      <td>DEF</td>\n",
       "      <td>West Ham</td>\n",
       "      <td>0</td>\n",
       "      <td>0</td>\n",
       "      <td>0</td>\n",
       "      <td>0</td>\n",
       "      <td>0.0</td>\n",
       "      <td>454</td>\n",
       "      <td>...</td>\n",
       "      <td>4.0</td>\n",
       "      <td>2.0</td>\n",
       "      <td>0.0</td>\n",
       "      <td>0</td>\n",
       "      <td>54</td>\n",
       "      <td>True</td>\n",
       "      <td>0</td>\n",
       "      <td>4</td>\n",
       "      <td>0.0</td>\n",
       "      <td>0.000</td>\n",
       "    </tr>\n",
       "    <tr>\n",
       "      <th>4</th>\n",
       "      <td>2016-17</td>\n",
       "      <td>Aaron Cresswell</td>\n",
       "      <td>DEF</td>\n",
       "      <td>West Ham</td>\n",
       "      <td>0</td>\n",
       "      <td>0</td>\n",
       "      <td>0</td>\n",
       "      <td>0</td>\n",
       "      <td>0.0</td>\n",
       "      <td>454</td>\n",
       "      <td>...</td>\n",
       "      <td>2.0</td>\n",
       "      <td>4.0</td>\n",
       "      <td>0.0</td>\n",
       "      <td>0</td>\n",
       "      <td>54</td>\n",
       "      <td>False</td>\n",
       "      <td>0</td>\n",
       "      <td>5</td>\n",
       "      <td>0.0</td>\n",
       "      <td>0.000</td>\n",
       "    </tr>\n",
       "    <tr>\n",
       "      <th>5</th>\n",
       "      <td>2016-17</td>\n",
       "      <td>Aaron Cresswell</td>\n",
       "      <td>DEF</td>\n",
       "      <td>West Ham</td>\n",
       "      <td>0</td>\n",
       "      <td>0</td>\n",
       "      <td>0</td>\n",
       "      <td>0</td>\n",
       "      <td>0.0</td>\n",
       "      <td>454</td>\n",
       "      <td>...</td>\n",
       "      <td>3.0</td>\n",
       "      <td>0.0</td>\n",
       "      <td>0.0</td>\n",
       "      <td>0</td>\n",
       "      <td>54</td>\n",
       "      <td>True</td>\n",
       "      <td>0</td>\n",
       "      <td>6</td>\n",
       "      <td>0.0</td>\n",
       "      <td>0.000</td>\n",
       "    </tr>\n",
       "    <tr>\n",
       "      <th>6</th>\n",
       "      <td>2016-17</td>\n",
       "      <td>Aaron Cresswell</td>\n",
       "      <td>DEF</td>\n",
       "      <td>West Ham</td>\n",
       "      <td>0</td>\n",
       "      <td>0</td>\n",
       "      <td>0</td>\n",
       "      <td>0</td>\n",
       "      <td>0.0</td>\n",
       "      <td>454</td>\n",
       "      <td>...</td>\n",
       "      <td>1.0</td>\n",
       "      <td>1.0</td>\n",
       "      <td>0.0</td>\n",
       "      <td>0</td>\n",
       "      <td>53</td>\n",
       "      <td>True</td>\n",
       "      <td>0</td>\n",
       "      <td>7</td>\n",
       "      <td>6.0</td>\n",
       "      <td>0.000</td>\n",
       "    </tr>\n",
       "    <tr>\n",
       "      <th>7</th>\n",
       "      <td>2016-17</td>\n",
       "      <td>Aaron Cresswell</td>\n",
       "      <td>DEF</td>\n",
       "      <td>West Ham</td>\n",
       "      <td>1</td>\n",
       "      <td>0</td>\n",
       "      <td>23</td>\n",
       "      <td>1</td>\n",
       "      <td>25.1</td>\n",
       "      <td>454</td>\n",
       "      <td>...</td>\n",
       "      <td>1.0</td>\n",
       "      <td>0.0</td>\n",
       "      <td>6.0</td>\n",
       "      <td>6</td>\n",
       "      <td>53</td>\n",
       "      <td>False</td>\n",
       "      <td>0</td>\n",
       "      <td>8</td>\n",
       "      <td>0.0</td>\n",
       "      <td>0.150</td>\n",
       "    </tr>\n",
       "    <tr>\n",
       "      <th>8</th>\n",
       "      <td>2016-17</td>\n",
       "      <td>Aaron Cresswell</td>\n",
       "      <td>DEF</td>\n",
       "      <td>West Ham</td>\n",
       "      <td>0</td>\n",
       "      <td>0</td>\n",
       "      <td>0</td>\n",
       "      <td>0</td>\n",
       "      <td>0.0</td>\n",
       "      <td>454</td>\n",
       "      <td>...</td>\n",
       "      <td>0.0</td>\n",
       "      <td>1.0</td>\n",
       "      <td>0.0</td>\n",
       "      <td>0</td>\n",
       "      <td>53</td>\n",
       "      <td>True</td>\n",
       "      <td>0</td>\n",
       "      <td>9</td>\n",
       "      <td>1.0</td>\n",
       "      <td>0.150</td>\n",
       "    </tr>\n",
       "    <tr>\n",
       "      <th>9</th>\n",
       "      <td>2016-17</td>\n",
       "      <td>Aaron Cresswell</td>\n",
       "      <td>DEF</td>\n",
       "      <td>West Ham</td>\n",
       "      <td>0</td>\n",
       "      <td>0</td>\n",
       "      <td>12</td>\n",
       "      <td>0</td>\n",
       "      <td>7.9</td>\n",
       "      <td>454</td>\n",
       "      <td>...</td>\n",
       "      <td>0.0</td>\n",
       "      <td>2.0</td>\n",
       "      <td>0.0</td>\n",
       "      <td>1</td>\n",
       "      <td>53</td>\n",
       "      <td>False</td>\n",
       "      <td>0</td>\n",
       "      <td>10</td>\n",
       "      <td>2.0</td>\n",
       "      <td>0.175</td>\n",
       "    </tr>\n",
       "  </tbody>\n",
       "</table>\n",
       "<p>10 rows × 35 columns</p>\n",
       "</div>"
      ],
      "text/plain": [
       "  season_x             name position    team_x  assists  bonus  bps  \\\n",
       "0  2016-17  Aaron Cresswell      DEF  West Ham        0      0    0   \n",
       "1  2016-17  Aaron Cresswell      DEF  West Ham        0      0    0   \n",
       "2  2016-17  Aaron Cresswell      DEF  West Ham        0      0    0   \n",
       "3  2016-17  Aaron Cresswell      DEF  West Ham        0      0    0   \n",
       "4  2016-17  Aaron Cresswell      DEF  West Ham        0      0    0   \n",
       "5  2016-17  Aaron Cresswell      DEF  West Ham        0      0    0   \n",
       "6  2016-17  Aaron Cresswell      DEF  West Ham        0      0    0   \n",
       "7  2016-17  Aaron Cresswell      DEF  West Ham        1      0   23   \n",
       "8  2016-17  Aaron Cresswell      DEF  West Ham        0      0    0   \n",
       "9  2016-17  Aaron Cresswell      DEF  West Ham        0      0   12   \n",
       "\n",
       "   clean_sheets  creativity  element  ...  team_a_score  team_h_score  threat  \\\n",
       "0             0         0.0      454  ...           1.0           2.0     0.0   \n",
       "1             0         0.0      454  ...           0.0           1.0     0.0   \n",
       "2             0         0.0      454  ...           1.0           3.0     0.0   \n",
       "3             0         0.0      454  ...           4.0           2.0     0.0   \n",
       "4             0         0.0      454  ...           2.0           4.0     0.0   \n",
       "5             0         0.0      454  ...           3.0           0.0     0.0   \n",
       "6             0         0.0      454  ...           1.0           1.0     0.0   \n",
       "7             1        25.1      454  ...           1.0           0.0     6.0   \n",
       "8             0         0.0      454  ...           0.0           1.0     0.0   \n",
       "9             0         7.9      454  ...           0.0           2.0     0.0   \n",
       "\n",
       "   total_points  value was_home  yellow_cards  GW upcoming_total_points   form  \n",
       "0             0     55    False             0   1                   0.0  0.000  \n",
       "1             0     55     True             0   2                   0.0  0.000  \n",
       "2             0     54    False             0   3                   0.0  0.000  \n",
       "3             0     54     True             0   4                   0.0  0.000  \n",
       "4             0     54    False             0   5                   0.0  0.000  \n",
       "5             0     54     True             0   6                   0.0  0.000  \n",
       "6             0     53     True             0   7                   6.0  0.000  \n",
       "7             6     53    False             0   8                   0.0  0.150  \n",
       "8             0     53     True             0   9                   1.0  0.150  \n",
       "9             1     53    False             0  10                   2.0  0.175  \n",
       "\n",
       "[10 rows x 35 columns]"
      ]
     },
     "execution_count": 24,
     "metadata": {},
     "output_type": "execute_result"
    }
   ],
   "source": [
    "# created the form attribute\n",
    "\n",
    "df[\"form\"] = (\n",
    "    df.groupby([\"name\", \"season_x\"])[\"total_points\"]\n",
    "      .rolling(window=4, min_periods=1)\n",
    "      .mean()\n",
    "      .reset_index(level=[0,1], drop=True) / 10\n",
    ")\n",
    "\n",
    "df.head(10)"
   ]
  },
  {
   "cell_type": "code",
   "execution_count": 25,
   "id": "44682183",
   "metadata": {
    "execution": {
     "iopub.execute_input": "2025-10-21T18:30:50.301150Z",
     "iopub.status.busy": "2025-10-21T18:30:50.300824Z",
     "iopub.status.idle": "2025-10-21T18:30:50.348079Z",
     "shell.execute_reply": "2025-10-21T18:30:50.346788Z"
    },
    "papermill": {
     "duration": 0.072091,
     "end_time": "2025-10-21T18:30:50.350148",
     "exception": false,
     "start_time": "2025-10-21T18:30:50.278057",
     "status": "completed"
    },
    "tags": []
   },
   "outputs": [
    {
     "name": "stdout",
     "output_type": "stream",
     "text": [
      "<class 'pandas.core.frame.DataFrame'>\n",
      "RangeIndex: 93387 entries, 0 to 93386\n",
      "Data columns (total 35 columns):\n",
      " #   Column                 Non-Null Count  Dtype  \n",
      "---  ------                 --------------  -----  \n",
      " 0   season_x               93387 non-null  object \n",
      " 1   name                   93387 non-null  object \n",
      " 2   position               93387 non-null  object \n",
      " 3   team_x                 93387 non-null  object \n",
      " 4   assists                93387 non-null  int64  \n",
      " 5   bonus                  93387 non-null  int64  \n",
      " 6   bps                    93387 non-null  int64  \n",
      " 7   clean_sheets           93387 non-null  int64  \n",
      " 8   creativity             93387 non-null  float64\n",
      " 9   element                93387 non-null  int64  \n",
      " 10  fixture                93387 non-null  int64  \n",
      " 11  goals_conceded         93387 non-null  int64  \n",
      " 12  goals_scored           93387 non-null  int64  \n",
      " 13  ict_index              93387 non-null  float64\n",
      " 14  influence              93387 non-null  float64\n",
      " 15  kickoff_time           93387 non-null  object \n",
      " 16  minutes                93387 non-null  int64  \n",
      " 17  opponent_team          93387 non-null  int64  \n",
      " 18  opp_team_name          93387 non-null  object \n",
      " 19  own_goals              93387 non-null  int64  \n",
      " 20  penalties_missed       93387 non-null  int64  \n",
      " 21  penalties_saved        93387 non-null  int64  \n",
      " 22  red_cards              93387 non-null  int64  \n",
      " 23  round                  93387 non-null  int64  \n",
      " 24  saves                  93387 non-null  int64  \n",
      " 25  team_a_score           93387 non-null  float64\n",
      " 26  team_h_score           93387 non-null  float64\n",
      " 27  threat                 93387 non-null  float64\n",
      " 28  total_points           93387 non-null  int64  \n",
      " 29  value                  93387 non-null  int64  \n",
      " 30  was_home               93387 non-null  bool   \n",
      " 31  yellow_cards           93387 non-null  int64  \n",
      " 32  GW                     93387 non-null  int64  \n",
      " 33  upcoming_total_points  93387 non-null  float64\n",
      " 34  form                   93387 non-null  float64\n",
      "dtypes: bool(1), float64(8), int64(20), object(6)\n",
      "memory usage: 24.3+ MB\n"
     ]
    }
   ],
   "source": [
    "df.info()"
   ]
  },
  {
   "cell_type": "code",
   "execution_count": 26,
   "id": "6069b27e",
   "metadata": {
    "execution": {
     "iopub.execute_input": "2025-10-21T18:30:50.397067Z",
     "iopub.status.busy": "2025-10-21T18:30:50.396708Z",
     "iopub.status.idle": "2025-10-21T18:30:50.429012Z",
     "shell.execute_reply": "2025-10-21T18:30:50.427960Z"
    },
    "papermill": {
     "duration": 0.058351,
     "end_time": "2025-10-21T18:30:50.430865",
     "exception": false,
     "start_time": "2025-10-21T18:30:50.372514",
     "status": "completed"
    },
    "tags": []
   },
   "outputs": [],
   "source": [
    "# Split dataset by position\n",
    "df_GK = df[df['position'] == 'GK']\n",
    "df_Player = df[df['position'] != 'GK']"
   ]
  },
  {
   "cell_type": "code",
   "execution_count": 27,
   "id": "1dabb32b",
   "metadata": {
    "execution": {
     "iopub.execute_input": "2025-10-21T18:30:50.478003Z",
     "iopub.status.busy": "2025-10-21T18:30:50.477659Z",
     "iopub.status.idle": "2025-10-21T18:30:50.517838Z",
     "shell.execute_reply": "2025-10-21T18:30:50.516869Z"
    },
    "papermill": {
     "duration": 0.06529,
     "end_time": "2025-10-21T18:30:50.519317",
     "exception": false,
     "start_time": "2025-10-21T18:30:50.454027",
     "status": "completed"
    },
    "tags": []
   },
   "outputs": [
    {
     "name": "stderr",
     "output_type": "stream",
     "text": [
      "/tmp/ipykernel_13/640508901.py:5: SettingWithCopyWarning: \n",
      "A value is trying to be set on a copy of a slice from a DataFrame.\n",
      "Try using .loc[row_indexer,col_indexer] = value instead\n",
      "\n",
      "See the caveats in the documentation: https://pandas.pydata.org/pandas-docs/stable/user_guide/indexing.html#returning-a-view-versus-a-copy\n",
      "  df_Player['position_encoded'] = encoder.fit_transform(df_Player['position'])\n"
     ]
    }
   ],
   "source": [
    "from sklearn.preprocessing import LabelEncoder\n",
    "\n",
    "encoder = LabelEncoder()\n",
    "df['position_encoded'] = encoder.fit_transform(df['position'])\n",
    "df_Player['position_encoded'] = encoder.fit_transform(df_Player['position'])\n"
   ]
  },
  {
   "cell_type": "code",
   "execution_count": 28,
   "id": "1b2551eb",
   "metadata": {
    "execution": {
     "iopub.execute_input": "2025-10-21T18:30:50.566170Z",
     "iopub.status.busy": "2025-10-21T18:30:50.565865Z",
     "iopub.status.idle": "2025-10-21T18:30:50.581821Z",
     "shell.execute_reply": "2025-10-21T18:30:50.580773Z"
    },
    "papermill": {
     "duration": 0.042717,
     "end_time": "2025-10-21T18:30:50.584240",
     "exception": false,
     "start_time": "2025-10-21T18:30:50.541523",
     "status": "completed"
    },
    "tags": []
   },
   "outputs": [],
   "source": [
    "# Feature and target \n",
    "\n",
    "# in case seperate models for players and goal keepers\n",
    "X_Player = df_Player[['form', 'creativity', 'influence', 'threat', 'ict_index', 'goals_scored','assists', 'clean_sheets', 'yellow_cards', 'red_cards', 'penalties_missed', 'own_goals',\"bps\",\"bonus\",'goals_conceded',\"minutes\", \"value\",\"position_encoded\"]]\n",
    "y_Player = df_Player['upcoming_total_points'] \n",
    "\n",
    "X_GK = df_GK[['form','goals_scored','assists', 'clean_sheets', 'yellow_cards', 'red_cards', 'penalties_missed', 'own_goals',\"bps\",\"bonus\",\"goals_conceded\", \"minutes\", \"value\", 'saves', 'penalties_saved']]\n",
    "y_GK = df_GK['upcoming_total_points'] \n",
    "\n",
    "# for single model\n",
    "X_overAll = df[['form', 'creativity', 'influence', 'threat', 'ict_index', 'goals_scored','assists', 'clean_sheets', 'yellow_cards', 'red_cards', 'penalties_missed', 'own_goals', \"value\",\"bps\",\"bonus\",\"goals_conceded\", \"minutes\", 'saves', 'penalties_saved',\"position_encoded\"]]\n",
    "y_overAll = df['upcoming_total_points'] \n",
    "\n",
    "\n",
    "# -non_numirical\n",
    "# season_x\n",
    "# name\n",
    "# position\n",
    "# team_x\n",
    "# kickoff_time\n",
    "# opp_team_name\n",
    "# was_home\n",
    "\n",
    "\n",
    "# -may be used\n",
    "# opponent_team\n",
    "# round\n",
    "# team_a_score\n",
    "# team_h_score\n",
    "# total_points\n",
    "# GW\n",
    "\n",
    "\n",
    "# ids\n",
    "# element\n",
    "# fixture"
   ]
  },
  {
   "cell_type": "code",
   "execution_count": 29,
   "id": "f6351447",
   "metadata": {
    "execution": {
     "iopub.execute_input": "2025-10-21T18:30:50.630044Z",
     "iopub.status.busy": "2025-10-21T18:30:50.629681Z",
     "iopub.status.idle": "2025-10-21T18:30:50.732582Z",
     "shell.execute_reply": "2025-10-21T18:30:50.731373Z"
    },
    "papermill": {
     "duration": 0.128335,
     "end_time": "2025-10-21T18:30:50.734460",
     "exception": false,
     "start_time": "2025-10-21T18:30:50.606125",
     "status": "completed"
    },
    "tags": []
   },
   "outputs": [],
   "source": [
    "# Scale the features \n",
    "scaler = StandardScaler() \n",
    "X_Player_scaled = scaler.fit_transform(X_Player)\n",
    "\n",
    "X_GK_scaled = scaler.fit_transform(X_GK)\n",
    "\n",
    "X_overAll_scaled = scaler.fit_transform(X_overAll)"
   ]
  },
  {
   "cell_type": "code",
   "execution_count": 30,
   "id": "0c31a9c3",
   "metadata": {
    "execution": {
     "iopub.execute_input": "2025-10-21T18:30:50.784562Z",
     "iopub.status.busy": "2025-10-21T18:30:50.784250Z",
     "iopub.status.idle": "2025-10-21T18:30:50.806799Z",
     "shell.execute_reply": "2025-10-21T18:30:50.805864Z"
    },
    "papermill": {
     "duration": 0.047721,
     "end_time": "2025-10-21T18:30:50.808541",
     "exception": false,
     "start_time": "2025-10-21T18:30:50.760820",
     "status": "completed"
    },
    "tags": []
   },
   "outputs": [],
   "source": [
    "# Split the dataset into train and test sets: for player\n",
    "X_Player_train, X_Player_test, y_Player_train, y_Player_test = train_test_split(X_Player_scaled, y_Player, \n",
    "test_size=0.2, random_state=42) "
   ]
  },
  {
   "cell_type": "code",
   "execution_count": 31,
   "id": "7c8211f2",
   "metadata": {
    "execution": {
     "iopub.execute_input": "2025-10-21T18:30:50.854833Z",
     "iopub.status.busy": "2025-10-21T18:30:50.854462Z",
     "iopub.status.idle": "2025-10-21T18:30:50.861970Z",
     "shell.execute_reply": "2025-10-21T18:30:50.861039Z"
    },
    "papermill": {
     "duration": 0.033185,
     "end_time": "2025-10-21T18:30:50.863603",
     "exception": false,
     "start_time": "2025-10-21T18:30:50.830418",
     "status": "completed"
    },
    "tags": []
   },
   "outputs": [],
   "source": [
    "# Split the dataset into train and test sets: for Goal keeper\n",
    "X_GK_train, X_GK_test, y_GK_train, y_GK_test = train_test_split(X_GK_scaled, y_GK, \n",
    "test_size=0.2, random_state=42) "
   ]
  },
  {
   "cell_type": "code",
   "execution_count": 32,
   "id": "f8867396",
   "metadata": {
    "execution": {
     "iopub.execute_input": "2025-10-21T18:30:50.921182Z",
     "iopub.status.busy": "2025-10-21T18:30:50.920667Z",
     "iopub.status.idle": "2025-10-21T18:30:50.958958Z",
     "shell.execute_reply": "2025-10-21T18:30:50.958026Z"
    },
    "papermill": {
     "duration": 0.068434,
     "end_time": "2025-10-21T18:30:50.960620",
     "exception": false,
     "start_time": "2025-10-21T18:30:50.892186",
     "status": "completed"
    },
    "tags": []
   },
   "outputs": [],
   "source": [
    "# Split the dataset into train and test sets: for single model\n",
    "X_overAll_train, X_overAll_test, y_overAll_train, y_overAll_test = train_test_split(X_overAll_scaled, y_overAll, \n",
    "test_size=0.2, random_state=42) "
   ]
  },
  {
   "cell_type": "code",
   "execution_count": 33,
   "id": "3b22b927",
   "metadata": {
    "execution": {
     "iopub.execute_input": "2025-10-21T18:30:51.011949Z",
     "iopub.status.busy": "2025-10-21T18:30:51.011465Z",
     "iopub.status.idle": "2025-10-21T18:30:51.018438Z",
     "shell.execute_reply": "2025-10-21T18:30:51.016609Z"
    },
    "papermill": {
     "duration": 0.036455,
     "end_time": "2025-10-21T18:30:51.020830",
     "exception": false,
     "start_time": "2025-10-21T18:30:50.984375",
     "status": "completed"
    },
    "tags": []
   },
   "outputs": [
    {
     "name": "stdout",
     "output_type": "stream",
     "text": [
      "Train data shape: (66435, 18) Train Label shape (66435,)\n",
      "Test data shape: (16609, 18) Test Label shape (16609,)\n"
     ]
    }
   ],
   "source": [
    "#Explore the size and dimension of the train and test data after splitting: \n",
    "print(\"Train data shape:\",X_Player_train.shape, \"Train Label shape\", y_Player_train.shape) \n",
    "print(\"Test data shape:\",X_Player_test.shape, \"Test Label shape\", y_Player_test.shape) "
   ]
  },
  {
   "cell_type": "code",
   "execution_count": 34,
   "id": "45593d14",
   "metadata": {
    "execution": {
     "iopub.execute_input": "2025-10-21T18:30:51.068238Z",
     "iopub.status.busy": "2025-10-21T18:30:51.067855Z",
     "iopub.status.idle": "2025-10-21T18:30:51.075933Z",
     "shell.execute_reply": "2025-10-21T18:30:51.074650Z"
    },
    "papermill": {
     "duration": 0.033827,
     "end_time": "2025-10-21T18:30:51.078082",
     "exception": false,
     "start_time": "2025-10-21T18:30:51.044255",
     "status": "completed"
    },
    "tags": []
   },
   "outputs": [
    {
     "name": "stdout",
     "output_type": "stream",
     "text": [
      "Train data shape: (8274, 15) Train Label shape (8274,)\n",
      "Test data shape: (2069, 15) Test Label shape (2069,)\n"
     ]
    }
   ],
   "source": [
    "#Explore the size and dimension of the train and test data after splitting: \n",
    "print(\"Train data shape:\",X_GK_train.shape, \"Train Label shape\", y_GK_train.shape) \n",
    "print(\"Test data shape:\",X_GK_test.shape, \"Test Label shape\", y_GK_test.shape) "
   ]
  },
  {
   "cell_type": "code",
   "execution_count": 35,
   "id": "082fbbd2",
   "metadata": {
    "execution": {
     "iopub.execute_input": "2025-10-21T18:30:51.129631Z",
     "iopub.status.busy": "2025-10-21T18:30:51.129345Z",
     "iopub.status.idle": "2025-10-21T18:30:51.135335Z",
     "shell.execute_reply": "2025-10-21T18:30:51.134255Z"
    },
    "papermill": {
     "duration": 0.035684,
     "end_time": "2025-10-21T18:30:51.137344",
     "exception": false,
     "start_time": "2025-10-21T18:30:51.101660",
     "status": "completed"
    },
    "tags": []
   },
   "outputs": [
    {
     "name": "stdout",
     "output_type": "stream",
     "text": [
      "Train data shape: (74709, 20) Train Label shape (74709,)\n",
      "Test data shape: (18678, 20) Test Label shape (18678,)\n"
     ]
    }
   ],
   "source": [
    "#Explore the size and dimension of the train and test data after splitting: \n",
    "print(\"Train data shape:\",X_overAll_train.shape, \"Train Label shape\", y_overAll_train.shape) \n",
    "print(\"Test data shape:\",X_overAll_test.shape, \"Test Label shape\", y_overAll_test.shape) "
   ]
  },
  {
   "cell_type": "code",
   "execution_count": 36,
   "id": "acf6e25f",
   "metadata": {
    "execution": {
     "iopub.execute_input": "2025-10-21T18:30:51.184472Z",
     "iopub.status.busy": "2025-10-21T18:30:51.184187Z",
     "iopub.status.idle": "2025-10-21T18:30:51.321208Z",
     "shell.execute_reply": "2025-10-21T18:30:51.319677Z"
    },
    "papermill": {
     "duration": 0.164304,
     "end_time": "2025-10-21T18:30:51.323769",
     "exception": false,
     "start_time": "2025-10-21T18:30:51.159465",
     "status": "completed"
    },
    "tags": []
   },
   "outputs": [
    {
     "name": "stderr",
     "output_type": "stream",
     "text": [
      "2025-10-21 18:30:51.197477: E external/local_xla/xla/stream_executor/cuda/cuda_driver.cc:152] failed call to cuInit: INTERNAL: CUDA error: Failed call to cuInit: UNKNOWN ERROR (303)\n"
     ]
    },
    {
     "data": {
      "text/html": [
       "<pre style=\"white-space:pre;overflow-x:auto;line-height:normal;font-family:Menlo,'DejaVu Sans Mono',consolas,'Courier New',monospace\"><span style=\"font-weight: bold\">Model: \"sequential\"</span>\n",
       "</pre>\n"
      ],
      "text/plain": [
       "\u001b[1mModel: \"sequential\"\u001b[0m\n"
      ]
     },
     "metadata": {},
     "output_type": "display_data"
    },
    {
     "data": {
      "text/html": [
       "<pre style=\"white-space:pre;overflow-x:auto;line-height:normal;font-family:Menlo,'DejaVu Sans Mono',consolas,'Courier New',monospace\">┏━━━━━━━━━━━━━━━━━━━━━━━━━━━━━━━━━┳━━━━━━━━━━━━━━━━━━━━━━━━┳━━━━━━━━━━━━━━━┓\n",
       "┃<span style=\"font-weight: bold\"> Layer (type)                    </span>┃<span style=\"font-weight: bold\"> Output Shape           </span>┃<span style=\"font-weight: bold\">       Param # </span>┃\n",
       "┡━━━━━━━━━━━━━━━━━━━━━━━━━━━━━━━━━╇━━━━━━━━━━━━━━━━━━━━━━━━╇━━━━━━━━━━━━━━━┩\n",
       "│ dense (<span style=\"color: #0087ff; text-decoration-color: #0087ff\">Dense</span>)                   │ (<span style=\"color: #00d7ff; text-decoration-color: #00d7ff\">None</span>, <span style=\"color: #00af00; text-decoration-color: #00af00\">16</span>)             │           <span style=\"color: #00af00; text-decoration-color: #00af00\">304</span> │\n",
       "├─────────────────────────────────┼────────────────────────┼───────────────┤\n",
       "│ dense_1 (<span style=\"color: #0087ff; text-decoration-color: #0087ff\">Dense</span>)                 │ (<span style=\"color: #00d7ff; text-decoration-color: #00d7ff\">None</span>, <span style=\"color: #00af00; text-decoration-color: #00af00\">32</span>)             │           <span style=\"color: #00af00; text-decoration-color: #00af00\">544</span> │\n",
       "├─────────────────────────────────┼────────────────────────┼───────────────┤\n",
       "│ dense_2 (<span style=\"color: #0087ff; text-decoration-color: #0087ff\">Dense</span>)                 │ (<span style=\"color: #00d7ff; text-decoration-color: #00d7ff\">None</span>, <span style=\"color: #00af00; text-decoration-color: #00af00\">64</span>)             │         <span style=\"color: #00af00; text-decoration-color: #00af00\">2,112</span> │\n",
       "├─────────────────────────────────┼────────────────────────┼───────────────┤\n",
       "│ dense_3 (<span style=\"color: #0087ff; text-decoration-color: #0087ff\">Dense</span>)                 │ (<span style=\"color: #00d7ff; text-decoration-color: #00d7ff\">None</span>, <span style=\"color: #00af00; text-decoration-color: #00af00\">1</span>)              │            <span style=\"color: #00af00; text-decoration-color: #00af00\">65</span> │\n",
       "└─────────────────────────────────┴────────────────────────┴───────────────┘\n",
       "</pre>\n"
      ],
      "text/plain": [
       "┏━━━━━━━━━━━━━━━━━━━━━━━━━━━━━━━━━┳━━━━━━━━━━━━━━━━━━━━━━━━┳━━━━━━━━━━━━━━━┓\n",
       "┃\u001b[1m \u001b[0m\u001b[1mLayer (type)                   \u001b[0m\u001b[1m \u001b[0m┃\u001b[1m \u001b[0m\u001b[1mOutput Shape          \u001b[0m\u001b[1m \u001b[0m┃\u001b[1m \u001b[0m\u001b[1m      Param #\u001b[0m\u001b[1m \u001b[0m┃\n",
       "┡━━━━━━━━━━━━━━━━━━━━━━━━━━━━━━━━━╇━━━━━━━━━━━━━━━━━━━━━━━━╇━━━━━━━━━━━━━━━┩\n",
       "│ dense (\u001b[38;5;33mDense\u001b[0m)                   │ (\u001b[38;5;45mNone\u001b[0m, \u001b[38;5;34m16\u001b[0m)             │           \u001b[38;5;34m304\u001b[0m │\n",
       "├─────────────────────────────────┼────────────────────────┼───────────────┤\n",
       "│ dense_1 (\u001b[38;5;33mDense\u001b[0m)                 │ (\u001b[38;5;45mNone\u001b[0m, \u001b[38;5;34m32\u001b[0m)             │           \u001b[38;5;34m544\u001b[0m │\n",
       "├─────────────────────────────────┼────────────────────────┼───────────────┤\n",
       "│ dense_2 (\u001b[38;5;33mDense\u001b[0m)                 │ (\u001b[38;5;45mNone\u001b[0m, \u001b[38;5;34m64\u001b[0m)             │         \u001b[38;5;34m2,112\u001b[0m │\n",
       "├─────────────────────────────────┼────────────────────────┼───────────────┤\n",
       "│ dense_3 (\u001b[38;5;33mDense\u001b[0m)                 │ (\u001b[38;5;45mNone\u001b[0m, \u001b[38;5;34m1\u001b[0m)              │            \u001b[38;5;34m65\u001b[0m │\n",
       "└─────────────────────────────────┴────────────────────────┴───────────────┘\n"
      ]
     },
     "metadata": {},
     "output_type": "display_data"
    },
    {
     "data": {
      "text/html": [
       "<pre style=\"white-space:pre;overflow-x:auto;line-height:normal;font-family:Menlo,'DejaVu Sans Mono',consolas,'Courier New',monospace\"><span style=\"font-weight: bold\"> Total params: </span><span style=\"color: #00af00; text-decoration-color: #00af00\">3,025</span> (11.82 KB)\n",
       "</pre>\n"
      ],
      "text/plain": [
       "\u001b[1m Total params: \u001b[0m\u001b[38;5;34m3,025\u001b[0m (11.82 KB)\n"
      ]
     },
     "metadata": {},
     "output_type": "display_data"
    },
    {
     "data": {
      "text/html": [
       "<pre style=\"white-space:pre;overflow-x:auto;line-height:normal;font-family:Menlo,'DejaVu Sans Mono',consolas,'Courier New',monospace\"><span style=\"font-weight: bold\"> Trainable params: </span><span style=\"color: #00af00; text-decoration-color: #00af00\">3,025</span> (11.82 KB)\n",
       "</pre>\n"
      ],
      "text/plain": [
       "\u001b[1m Trainable params: \u001b[0m\u001b[38;5;34m3,025\u001b[0m (11.82 KB)\n"
      ]
     },
     "metadata": {},
     "output_type": "display_data"
    },
    {
     "data": {
      "text/html": [
       "<pre style=\"white-space:pre;overflow-x:auto;line-height:normal;font-family:Menlo,'DejaVu Sans Mono',consolas,'Courier New',monospace\"><span style=\"font-weight: bold\"> Non-trainable params: </span><span style=\"color: #00af00; text-decoration-color: #00af00\">0</span> (0.00 B)\n",
       "</pre>\n"
      ],
      "text/plain": [
       "\u001b[1m Non-trainable params: \u001b[0m\u001b[38;5;34m0\u001b[0m (0.00 B)\n"
      ]
     },
     "metadata": {},
     "output_type": "display_data"
    }
   ],
   "source": [
    "model_Player = Sequential([ \n",
    "Input(shape=(X_Player_train.shape[1],)),\n",
    "layers.Dense(16, activation='relu'), \n",
    "layers.Dense(32, activation='relu'),\n",
    "layers.Dense(64, activation='relu'), \n",
    "layers.Dense(1, activation='linear')\n",
    "]) \n",
    "model_Player.summary()"
   ]
  },
  {
   "cell_type": "code",
   "execution_count": 37,
   "id": "11279e67",
   "metadata": {
    "execution": {
     "iopub.execute_input": "2025-10-21T18:30:51.373728Z",
     "iopub.status.busy": "2025-10-21T18:30:51.373416Z",
     "iopub.status.idle": "2025-10-21T18:30:51.432914Z",
     "shell.execute_reply": "2025-10-21T18:30:51.432003Z"
    },
    "papermill": {
     "duration": 0.086145,
     "end_time": "2025-10-21T18:30:51.434517",
     "exception": false,
     "start_time": "2025-10-21T18:30:51.348372",
     "status": "completed"
    },
    "tags": []
   },
   "outputs": [
    {
     "data": {
      "text/html": [
       "<pre style=\"white-space:pre;overflow-x:auto;line-height:normal;font-family:Menlo,'DejaVu Sans Mono',consolas,'Courier New',monospace\"><span style=\"font-weight: bold\">Model: \"sequential_1\"</span>\n",
       "</pre>\n"
      ],
      "text/plain": [
       "\u001b[1mModel: \"sequential_1\"\u001b[0m\n"
      ]
     },
     "metadata": {},
     "output_type": "display_data"
    },
    {
     "data": {
      "text/html": [
       "<pre style=\"white-space:pre;overflow-x:auto;line-height:normal;font-family:Menlo,'DejaVu Sans Mono',consolas,'Courier New',monospace\">┏━━━━━━━━━━━━━━━━━━━━━━━━━━━━━━━━━┳━━━━━━━━━━━━━━━━━━━━━━━━┳━━━━━━━━━━━━━━━┓\n",
       "┃<span style=\"font-weight: bold\"> Layer (type)                    </span>┃<span style=\"font-weight: bold\"> Output Shape           </span>┃<span style=\"font-weight: bold\">       Param # </span>┃\n",
       "┡━━━━━━━━━━━━━━━━━━━━━━━━━━━━━━━━━╇━━━━━━━━━━━━━━━━━━━━━━━━╇━━━━━━━━━━━━━━━┩\n",
       "│ dense_4 (<span style=\"color: #0087ff; text-decoration-color: #0087ff\">Dense</span>)                 │ (<span style=\"color: #00d7ff; text-decoration-color: #00d7ff\">None</span>, <span style=\"color: #00af00; text-decoration-color: #00af00\">18</span>)             │           <span style=\"color: #00af00; text-decoration-color: #00af00\">288</span> │\n",
       "├─────────────────────────────────┼────────────────────────┼───────────────┤\n",
       "│ dense_5 (<span style=\"color: #0087ff; text-decoration-color: #0087ff\">Dense</span>)                 │ (<span style=\"color: #00d7ff; text-decoration-color: #00d7ff\">None</span>, <span style=\"color: #00af00; text-decoration-color: #00af00\">32</span>)             │           <span style=\"color: #00af00; text-decoration-color: #00af00\">608</span> │\n",
       "├─────────────────────────────────┼────────────────────────┼───────────────┤\n",
       "│ dense_6 (<span style=\"color: #0087ff; text-decoration-color: #0087ff\">Dense</span>)                 │ (<span style=\"color: #00d7ff; text-decoration-color: #00d7ff\">None</span>, <span style=\"color: #00af00; text-decoration-color: #00af00\">64</span>)             │         <span style=\"color: #00af00; text-decoration-color: #00af00\">2,112</span> │\n",
       "├─────────────────────────────────┼────────────────────────┼───────────────┤\n",
       "│ dense_7 (<span style=\"color: #0087ff; text-decoration-color: #0087ff\">Dense</span>)                 │ (<span style=\"color: #00d7ff; text-decoration-color: #00d7ff\">None</span>, <span style=\"color: #00af00; text-decoration-color: #00af00\">1</span>)              │            <span style=\"color: #00af00; text-decoration-color: #00af00\">65</span> │\n",
       "└─────────────────────────────────┴────────────────────────┴───────────────┘\n",
       "</pre>\n"
      ],
      "text/plain": [
       "┏━━━━━━━━━━━━━━━━━━━━━━━━━━━━━━━━━┳━━━━━━━━━━━━━━━━━━━━━━━━┳━━━━━━━━━━━━━━━┓\n",
       "┃\u001b[1m \u001b[0m\u001b[1mLayer (type)                   \u001b[0m\u001b[1m \u001b[0m┃\u001b[1m \u001b[0m\u001b[1mOutput Shape          \u001b[0m\u001b[1m \u001b[0m┃\u001b[1m \u001b[0m\u001b[1m      Param #\u001b[0m\u001b[1m \u001b[0m┃\n",
       "┡━━━━━━━━━━━━━━━━━━━━━━━━━━━━━━━━━╇━━━━━━━━━━━━━━━━━━━━━━━━╇━━━━━━━━━━━━━━━┩\n",
       "│ dense_4 (\u001b[38;5;33mDense\u001b[0m)                 │ (\u001b[38;5;45mNone\u001b[0m, \u001b[38;5;34m18\u001b[0m)             │           \u001b[38;5;34m288\u001b[0m │\n",
       "├─────────────────────────────────┼────────────────────────┼───────────────┤\n",
       "│ dense_5 (\u001b[38;5;33mDense\u001b[0m)                 │ (\u001b[38;5;45mNone\u001b[0m, \u001b[38;5;34m32\u001b[0m)             │           \u001b[38;5;34m608\u001b[0m │\n",
       "├─────────────────────────────────┼────────────────────────┼───────────────┤\n",
       "│ dense_6 (\u001b[38;5;33mDense\u001b[0m)                 │ (\u001b[38;5;45mNone\u001b[0m, \u001b[38;5;34m64\u001b[0m)             │         \u001b[38;5;34m2,112\u001b[0m │\n",
       "├─────────────────────────────────┼────────────────────────┼───────────────┤\n",
       "│ dense_7 (\u001b[38;5;33mDense\u001b[0m)                 │ (\u001b[38;5;45mNone\u001b[0m, \u001b[38;5;34m1\u001b[0m)              │            \u001b[38;5;34m65\u001b[0m │\n",
       "└─────────────────────────────────┴────────────────────────┴───────────────┘\n"
      ]
     },
     "metadata": {},
     "output_type": "display_data"
    },
    {
     "data": {
      "text/html": [
       "<pre style=\"white-space:pre;overflow-x:auto;line-height:normal;font-family:Menlo,'DejaVu Sans Mono',consolas,'Courier New',monospace\"><span style=\"font-weight: bold\"> Total params: </span><span style=\"color: #00af00; text-decoration-color: #00af00\">3,073</span> (12.00 KB)\n",
       "</pre>\n"
      ],
      "text/plain": [
       "\u001b[1m Total params: \u001b[0m\u001b[38;5;34m3,073\u001b[0m (12.00 KB)\n"
      ]
     },
     "metadata": {},
     "output_type": "display_data"
    },
    {
     "data": {
      "text/html": [
       "<pre style=\"white-space:pre;overflow-x:auto;line-height:normal;font-family:Menlo,'DejaVu Sans Mono',consolas,'Courier New',monospace\"><span style=\"font-weight: bold\"> Trainable params: </span><span style=\"color: #00af00; text-decoration-color: #00af00\">3,073</span> (12.00 KB)\n",
       "</pre>\n"
      ],
      "text/plain": [
       "\u001b[1m Trainable params: \u001b[0m\u001b[38;5;34m3,073\u001b[0m (12.00 KB)\n"
      ]
     },
     "metadata": {},
     "output_type": "display_data"
    },
    {
     "data": {
      "text/html": [
       "<pre style=\"white-space:pre;overflow-x:auto;line-height:normal;font-family:Menlo,'DejaVu Sans Mono',consolas,'Courier New',monospace\"><span style=\"font-weight: bold\"> Non-trainable params: </span><span style=\"color: #00af00; text-decoration-color: #00af00\">0</span> (0.00 B)\n",
       "</pre>\n"
      ],
      "text/plain": [
       "\u001b[1m Non-trainable params: \u001b[0m\u001b[38;5;34m0\u001b[0m (0.00 B)\n"
      ]
     },
     "metadata": {},
     "output_type": "display_data"
    }
   ],
   "source": [
    "model_GK = Sequential([ \n",
    "Input(shape=(X_GK_train.shape[1],)),\n",
    "layers.Dense(18, activation='relu'), \n",
    "layers.Dense(32, activation='relu'),\n",
    "layers.Dense(64, activation='relu'),  \n",
    "layers.Dense(1, activation='linear')  \n",
    "]) \n",
    "model_GK.summary()"
   ]
  },
  {
   "cell_type": "code",
   "execution_count": 38,
   "id": "18ce3866",
   "metadata": {
    "execution": {
     "iopub.execute_input": "2025-10-21T18:30:51.481838Z",
     "iopub.status.busy": "2025-10-21T18:30:51.481512Z",
     "iopub.status.idle": "2025-10-21T18:30:51.527667Z",
     "shell.execute_reply": "2025-10-21T18:30:51.526788Z"
    },
    "papermill": {
     "duration": 0.07156,
     "end_time": "2025-10-21T18:30:51.529195",
     "exception": false,
     "start_time": "2025-10-21T18:30:51.457635",
     "status": "completed"
    },
    "tags": []
   },
   "outputs": [
    {
     "data": {
      "text/html": [
       "<pre style=\"white-space:pre;overflow-x:auto;line-height:normal;font-family:Menlo,'DejaVu Sans Mono',consolas,'Courier New',monospace\"><span style=\"font-weight: bold\">Model: \"sequential_2\"</span>\n",
       "</pre>\n"
      ],
      "text/plain": [
       "\u001b[1mModel: \"sequential_2\"\u001b[0m\n"
      ]
     },
     "metadata": {},
     "output_type": "display_data"
    },
    {
     "data": {
      "text/html": [
       "<pre style=\"white-space:pre;overflow-x:auto;line-height:normal;font-family:Menlo,'DejaVu Sans Mono',consolas,'Courier New',monospace\">┏━━━━━━━━━━━━━━━━━━━━━━━━━━━━━━━━━┳━━━━━━━━━━━━━━━━━━━━━━━━┳━━━━━━━━━━━━━━━┓\n",
       "┃<span style=\"font-weight: bold\"> Layer (type)                    </span>┃<span style=\"font-weight: bold\"> Output Shape           </span>┃<span style=\"font-weight: bold\">       Param # </span>┃\n",
       "┡━━━━━━━━━━━━━━━━━━━━━━━━━━━━━━━━━╇━━━━━━━━━━━━━━━━━━━━━━━━╇━━━━━━━━━━━━━━━┩\n",
       "│ dense_8 (<span style=\"color: #0087ff; text-decoration-color: #0087ff\">Dense</span>)                 │ (<span style=\"color: #00d7ff; text-decoration-color: #00d7ff\">None</span>, <span style=\"color: #00af00; text-decoration-color: #00af00\">18</span>)             │           <span style=\"color: #00af00; text-decoration-color: #00af00\">378</span> │\n",
       "├─────────────────────────────────┼────────────────────────┼───────────────┤\n",
       "│ dense_9 (<span style=\"color: #0087ff; text-decoration-color: #0087ff\">Dense</span>)                 │ (<span style=\"color: #00d7ff; text-decoration-color: #00d7ff\">None</span>, <span style=\"color: #00af00; text-decoration-color: #00af00\">32</span>)             │           <span style=\"color: #00af00; text-decoration-color: #00af00\">608</span> │\n",
       "├─────────────────────────────────┼────────────────────────┼───────────────┤\n",
       "│ dense_10 (<span style=\"color: #0087ff; text-decoration-color: #0087ff\">Dense</span>)                │ (<span style=\"color: #00d7ff; text-decoration-color: #00d7ff\">None</span>, <span style=\"color: #00af00; text-decoration-color: #00af00\">64</span>)             │         <span style=\"color: #00af00; text-decoration-color: #00af00\">2,112</span> │\n",
       "├─────────────────────────────────┼────────────────────────┼───────────────┤\n",
       "│ dense_11 (<span style=\"color: #0087ff; text-decoration-color: #0087ff\">Dense</span>)                │ (<span style=\"color: #00d7ff; text-decoration-color: #00d7ff\">None</span>, <span style=\"color: #00af00; text-decoration-color: #00af00\">1</span>)              │            <span style=\"color: #00af00; text-decoration-color: #00af00\">65</span> │\n",
       "└─────────────────────────────────┴────────────────────────┴───────────────┘\n",
       "</pre>\n"
      ],
      "text/plain": [
       "┏━━━━━━━━━━━━━━━━━━━━━━━━━━━━━━━━━┳━━━━━━━━━━━━━━━━━━━━━━━━┳━━━━━━━━━━━━━━━┓\n",
       "┃\u001b[1m \u001b[0m\u001b[1mLayer (type)                   \u001b[0m\u001b[1m \u001b[0m┃\u001b[1m \u001b[0m\u001b[1mOutput Shape          \u001b[0m\u001b[1m \u001b[0m┃\u001b[1m \u001b[0m\u001b[1m      Param #\u001b[0m\u001b[1m \u001b[0m┃\n",
       "┡━━━━━━━━━━━━━━━━━━━━━━━━━━━━━━━━━╇━━━━━━━━━━━━━━━━━━━━━━━━╇━━━━━━━━━━━━━━━┩\n",
       "│ dense_8 (\u001b[38;5;33mDense\u001b[0m)                 │ (\u001b[38;5;45mNone\u001b[0m, \u001b[38;5;34m18\u001b[0m)             │           \u001b[38;5;34m378\u001b[0m │\n",
       "├─────────────────────────────────┼────────────────────────┼───────────────┤\n",
       "│ dense_9 (\u001b[38;5;33mDense\u001b[0m)                 │ (\u001b[38;5;45mNone\u001b[0m, \u001b[38;5;34m32\u001b[0m)             │           \u001b[38;5;34m608\u001b[0m │\n",
       "├─────────────────────────────────┼────────────────────────┼───────────────┤\n",
       "│ dense_10 (\u001b[38;5;33mDense\u001b[0m)                │ (\u001b[38;5;45mNone\u001b[0m, \u001b[38;5;34m64\u001b[0m)             │         \u001b[38;5;34m2,112\u001b[0m │\n",
       "├─────────────────────────────────┼────────────────────────┼───────────────┤\n",
       "│ dense_11 (\u001b[38;5;33mDense\u001b[0m)                │ (\u001b[38;5;45mNone\u001b[0m, \u001b[38;5;34m1\u001b[0m)              │            \u001b[38;5;34m65\u001b[0m │\n",
       "└─────────────────────────────────┴────────────────────────┴───────────────┘\n"
      ]
     },
     "metadata": {},
     "output_type": "display_data"
    },
    {
     "data": {
      "text/html": [
       "<pre style=\"white-space:pre;overflow-x:auto;line-height:normal;font-family:Menlo,'DejaVu Sans Mono',consolas,'Courier New',monospace\"><span style=\"font-weight: bold\"> Total params: </span><span style=\"color: #00af00; text-decoration-color: #00af00\">3,163</span> (12.36 KB)\n",
       "</pre>\n"
      ],
      "text/plain": [
       "\u001b[1m Total params: \u001b[0m\u001b[38;5;34m3,163\u001b[0m (12.36 KB)\n"
      ]
     },
     "metadata": {},
     "output_type": "display_data"
    },
    {
     "data": {
      "text/html": [
       "<pre style=\"white-space:pre;overflow-x:auto;line-height:normal;font-family:Menlo,'DejaVu Sans Mono',consolas,'Courier New',monospace\"><span style=\"font-weight: bold\"> Trainable params: </span><span style=\"color: #00af00; text-decoration-color: #00af00\">3,163</span> (12.36 KB)\n",
       "</pre>\n"
      ],
      "text/plain": [
       "\u001b[1m Trainable params: \u001b[0m\u001b[38;5;34m3,163\u001b[0m (12.36 KB)\n"
      ]
     },
     "metadata": {},
     "output_type": "display_data"
    },
    {
     "data": {
      "text/html": [
       "<pre style=\"white-space:pre;overflow-x:auto;line-height:normal;font-family:Menlo,'DejaVu Sans Mono',consolas,'Courier New',monospace\"><span style=\"font-weight: bold\"> Non-trainable params: </span><span style=\"color: #00af00; text-decoration-color: #00af00\">0</span> (0.00 B)\n",
       "</pre>\n"
      ],
      "text/plain": [
       "\u001b[1m Non-trainable params: \u001b[0m\u001b[38;5;34m0\u001b[0m (0.00 B)\n"
      ]
     },
     "metadata": {},
     "output_type": "display_data"
    }
   ],
   "source": [
    "model_overAll = Sequential([ \n",
    "Input(shape=(X_overAll_train.shape[1],)),\n",
    "layers.Dense(18, activation='relu'), \n",
    "layers.Dense(32, activation='relu'),\n",
    "layers.Dense(64, activation='relu'),  \n",
    "layers.Dense(1, activation='linear')  \n",
    "]) \n",
    "model_overAll.summary()"
   ]
  },
  {
   "cell_type": "code",
   "execution_count": 39,
   "id": "55a8822c",
   "metadata": {
    "execution": {
     "iopub.execute_input": "2025-10-21T18:30:51.578056Z",
     "iopub.status.busy": "2025-10-21T18:30:51.577733Z",
     "iopub.status.idle": "2025-10-21T18:30:51.591625Z",
     "shell.execute_reply": "2025-10-21T18:30:51.590673Z"
    },
    "papermill": {
     "duration": 0.040442,
     "end_time": "2025-10-21T18:30:51.593386",
     "exception": false,
     "start_time": "2025-10-21T18:30:51.552944",
     "status": "completed"
    },
    "tags": []
   },
   "outputs": [],
   "source": [
    "model_Player.compile(optimizer='adam', \n",
    "loss='mse', \n",
    "metrics=['mae', 'mse']) "
   ]
  },
  {
   "cell_type": "code",
   "execution_count": 40,
   "id": "5931de28",
   "metadata": {
    "execution": {
     "iopub.execute_input": "2025-10-21T18:30:51.643479Z",
     "iopub.status.busy": "2025-10-21T18:30:51.642604Z",
     "iopub.status.idle": "2025-10-21T18:30:51.652656Z",
     "shell.execute_reply": "2025-10-21T18:30:51.651838Z"
    },
    "papermill": {
     "duration": 0.036486,
     "end_time": "2025-10-21T18:30:51.654369",
     "exception": false,
     "start_time": "2025-10-21T18:30:51.617883",
     "status": "completed"
    },
    "tags": []
   },
   "outputs": [],
   "source": [
    "model_GK.compile(optimizer='adam', \n",
    "loss='mse', \n",
    "metrics=['mae', 'mse']) "
   ]
  },
  {
   "cell_type": "code",
   "execution_count": 41,
   "id": "1b93517e",
   "metadata": {
    "execution": {
     "iopub.execute_input": "2025-10-21T18:30:51.703586Z",
     "iopub.status.busy": "2025-10-21T18:30:51.703077Z",
     "iopub.status.idle": "2025-10-21T18:30:51.713669Z",
     "shell.execute_reply": "2025-10-21T18:30:51.712880Z"
    },
    "papermill": {
     "duration": 0.037289,
     "end_time": "2025-10-21T18:30:51.715368",
     "exception": false,
     "start_time": "2025-10-21T18:30:51.678079",
     "status": "completed"
    },
    "tags": []
   },
   "outputs": [],
   "source": [
    "model_overAll.compile(optimizer='adam', \n",
    "loss='mse', \n",
    "metrics=['mae', 'mse']) "
   ]
  },
  {
   "cell_type": "code",
   "execution_count": 42,
   "id": "b7af2bb5",
   "metadata": {
    "execution": {
     "iopub.execute_input": "2025-10-21T18:30:51.764662Z",
     "iopub.status.busy": "2025-10-21T18:30:51.764389Z",
     "iopub.status.idle": "2025-10-21T18:30:51.768345Z",
     "shell.execute_reply": "2025-10-21T18:30:51.767379Z"
    },
    "papermill": {
     "duration": 0.030562,
     "end_time": "2025-10-21T18:30:51.769733",
     "exception": false,
     "start_time": "2025-10-21T18:30:51.739171",
     "status": "completed"
    },
    "tags": []
   },
   "outputs": [],
   "source": [
    "# early_stop = EarlyStopping(monitor='val_loss', patience=3, restore_best_weights=True)\n",
    "# callbacks=[early_stop]"
   ]
  },
  {
   "cell_type": "code",
   "execution_count": 43,
   "id": "e549a7df",
   "metadata": {
    "execution": {
     "iopub.execute_input": "2025-10-21T18:30:51.821369Z",
     "iopub.status.busy": "2025-10-21T18:30:51.821068Z",
     "iopub.status.idle": "2025-10-21T18:32:11.649628Z",
     "shell.execute_reply": "2025-10-21T18:32:11.648599Z"
    },
    "papermill": {
     "duration": 79.857344,
     "end_time": "2025-10-21T18:32:11.651229",
     "exception": false,
     "start_time": "2025-10-21T18:30:51.793885",
     "status": "completed"
    },
    "tags": []
   },
   "outputs": [
    {
     "name": "stdout",
     "output_type": "stream",
     "text": [
      "Epoch 1/20\n",
      "\u001b[1m1661/1661\u001b[0m \u001b[32m━━━━━━━━━━━━━━━━━━━━\u001b[0m\u001b[37m\u001b[0m \u001b[1m7s\u001b[0m 3ms/step - loss: 5.1549 - mae: 1.3097 - mse: 5.1549 - val_loss: 4.9573 - val_mae: 1.2238 - val_mse: 4.9573\n",
      "Epoch 2/20\n",
      "\u001b[1m1661/1661\u001b[0m \u001b[32m━━━━━━━━━━━━━━━━━━━━\u001b[0m\u001b[37m\u001b[0m \u001b[1m4s\u001b[0m 2ms/step - loss: 4.9690 - mae: 1.2659 - mse: 4.9690 - val_loss: 4.9551 - val_mae: 1.2580 - val_mse: 4.9551\n",
      "Epoch 3/20\n",
      "\u001b[1m1661/1661\u001b[0m \u001b[32m━━━━━━━━━━━━━━━━━━━━\u001b[0m\u001b[37m\u001b[0m \u001b[1m4s\u001b[0m 2ms/step - loss: 4.9757 - mae: 1.2746 - mse: 4.9757 - val_loss: 4.9253 - val_mae: 1.2832 - val_mse: 4.9253\n",
      "Epoch 4/20\n",
      "\u001b[1m1661/1661\u001b[0m \u001b[32m━━━━━━━━━━━━━━━━━━━━\u001b[0m\u001b[37m\u001b[0m \u001b[1m4s\u001b[0m 2ms/step - loss: 4.8609 - mae: 1.2533 - mse: 4.8609 - val_loss: 4.9315 - val_mae: 1.2868 - val_mse: 4.9315\n",
      "Epoch 5/20\n",
      "\u001b[1m1661/1661\u001b[0m \u001b[32m━━━━━━━━━━━━━━━━━━━━\u001b[0m\u001b[37m\u001b[0m \u001b[1m4s\u001b[0m 2ms/step - loss: 4.7973 - mae: 1.2459 - mse: 4.7973 - val_loss: 4.9105 - val_mae: 1.3010 - val_mse: 4.9105\n",
      "Epoch 6/20\n",
      "\u001b[1m1661/1661\u001b[0m \u001b[32m━━━━━━━━━━━━━━━━━━━━\u001b[0m\u001b[37m\u001b[0m \u001b[1m4s\u001b[0m 2ms/step - loss: 4.8662 - mae: 1.2564 - mse: 4.8662 - val_loss: 4.9121 - val_mae: 1.2970 - val_mse: 4.9121\n",
      "Epoch 7/20\n",
      "\u001b[1m1661/1661\u001b[0m \u001b[32m━━━━━━━━━━━━━━━━━━━━\u001b[0m\u001b[37m\u001b[0m \u001b[1m4s\u001b[0m 2ms/step - loss: 4.8510 - mae: 1.2518 - mse: 4.8510 - val_loss: 4.9079 - val_mae: 1.2700 - val_mse: 4.9079\n",
      "Epoch 8/20\n",
      "\u001b[1m1661/1661\u001b[0m \u001b[32m━━━━━━━━━━━━━━━━━━━━\u001b[0m\u001b[37m\u001b[0m \u001b[1m4s\u001b[0m 2ms/step - loss: 4.8292 - mae: 1.2477 - mse: 4.8292 - val_loss: 4.9170 - val_mae: 1.3185 - val_mse: 4.9170\n",
      "Epoch 9/20\n",
      "\u001b[1m1661/1661\u001b[0m \u001b[32m━━━━━━━━━━━━━━━━━━━━\u001b[0m\u001b[37m\u001b[0m \u001b[1m4s\u001b[0m 2ms/step - loss: 4.9214 - mae: 1.2626 - mse: 4.9214 - val_loss: 5.0162 - val_mae: 1.3439 - val_mse: 5.0162\n",
      "Epoch 10/20\n",
      "\u001b[1m1661/1661\u001b[0m \u001b[32m━━━━━━━━━━━━━━━━━━━━\u001b[0m\u001b[37m\u001b[0m \u001b[1m4s\u001b[0m 2ms/step - loss: 4.8736 - mae: 1.2646 - mse: 4.8736 - val_loss: 4.9274 - val_mae: 1.2352 - val_mse: 4.9274\n",
      "Epoch 11/20\n",
      "\u001b[1m1661/1661\u001b[0m \u001b[32m━━━━━━━━━━━━━━━━━━━━\u001b[0m\u001b[37m\u001b[0m \u001b[1m4s\u001b[0m 2ms/step - loss: 4.8602 - mae: 1.2571 - mse: 4.8602 - val_loss: 4.9170 - val_mae: 1.2777 - val_mse: 4.9170\n",
      "Epoch 12/20\n",
      "\u001b[1m1661/1661\u001b[0m \u001b[32m━━━━━━━━━━━━━━━━━━━━\u001b[0m\u001b[37m\u001b[0m \u001b[1m4s\u001b[0m 2ms/step - loss: 4.9169 - mae: 1.2681 - mse: 4.9169 - val_loss: 4.9472 - val_mae: 1.2173 - val_mse: 4.9472\n",
      "Epoch 13/20\n",
      "\u001b[1m1661/1661\u001b[0m \u001b[32m━━━━━━━━━━━━━━━━━━━━\u001b[0m\u001b[37m\u001b[0m \u001b[1m4s\u001b[0m 2ms/step - loss: 4.8713 - mae: 1.2537 - mse: 4.8713 - val_loss: 4.9031 - val_mae: 1.2865 - val_mse: 4.9031\n",
      "Epoch 14/20\n",
      "\u001b[1m1661/1661\u001b[0m \u001b[32m━━━━━━━━━━━━━━━━━━━━\u001b[0m\u001b[37m\u001b[0m \u001b[1m4s\u001b[0m 2ms/step - loss: 4.8117 - mae: 1.2468 - mse: 4.8117 - val_loss: 4.9040 - val_mae: 1.2989 - val_mse: 4.9040\n",
      "Epoch 15/20\n",
      "\u001b[1m1661/1661\u001b[0m \u001b[32m━━━━━━━━━━━━━━━━━━━━\u001b[0m\u001b[37m\u001b[0m \u001b[1m4s\u001b[0m 2ms/step - loss: 4.8906 - mae: 1.2537 - mse: 4.8906 - val_loss: 4.9436 - val_mae: 1.2356 - val_mse: 4.9436\n",
      "Epoch 16/20\n",
      "\u001b[1m1661/1661\u001b[0m \u001b[32m━━━━━━━━━━━━━━━━━━━━\u001b[0m\u001b[37m\u001b[0m \u001b[1m4s\u001b[0m 2ms/step - loss: 4.7011 - mae: 1.2369 - mse: 4.7011 - val_loss: 4.9311 - val_mae: 1.3061 - val_mse: 4.9311\n",
      "Epoch 17/20\n",
      "\u001b[1m1661/1661\u001b[0m \u001b[32m━━━━━━━━━━━━━━━━━━━━\u001b[0m\u001b[37m\u001b[0m \u001b[1m4s\u001b[0m 2ms/step - loss: 4.8516 - mae: 1.2608 - mse: 4.8516 - val_loss: 4.9259 - val_mae: 1.2311 - val_mse: 4.9259\n",
      "Epoch 18/20\n",
      "\u001b[1m1661/1661\u001b[0m \u001b[32m━━━━━━━━━━━━━━━━━━━━\u001b[0m\u001b[37m\u001b[0m \u001b[1m4s\u001b[0m 2ms/step - loss: 4.7913 - mae: 1.2367 - mse: 4.7913 - val_loss: 4.9323 - val_mae: 1.2276 - val_mse: 4.9323\n",
      "Epoch 19/20\n",
      "\u001b[1m1661/1661\u001b[0m \u001b[32m━━━━━━━━━━━━━━━━━━━━\u001b[0m\u001b[37m\u001b[0m \u001b[1m4s\u001b[0m 2ms/step - loss: 4.8476 - mae: 1.2609 - mse: 4.8476 - val_loss: 4.9053 - val_mae: 1.2824 - val_mse: 4.9053\n",
      "Epoch 20/20\n",
      "\u001b[1m1661/1661\u001b[0m \u001b[32m━━━━━━━━━━━━━━━━━━━━\u001b[0m\u001b[37m\u001b[0m \u001b[1m4s\u001b[0m 2ms/step - loss: 4.7531 - mae: 1.2509 - mse: 4.7531 - val_loss: 4.9445 - val_mae: 1.2127 - val_mse: 4.9445\n"
     ]
    }
   ],
   "source": [
    "history_Player = model_Player.fit(X_Player_train, y_Player_train, epochs=20, validation_split=0.2, \n",
    "verbose=1) "
   ]
  },
  {
   "cell_type": "code",
   "execution_count": 44,
   "id": "990de46b",
   "metadata": {
    "execution": {
     "iopub.execute_input": "2025-10-21T18:32:11.828784Z",
     "iopub.status.busy": "2025-10-21T18:32:11.828426Z",
     "iopub.status.idle": "2025-10-21T18:32:25.647693Z",
     "shell.execute_reply": "2025-10-21T18:32:25.646856Z"
    },
    "papermill": {
     "duration": 13.910083,
     "end_time": "2025-10-21T18:32:25.649626",
     "exception": false,
     "start_time": "2025-10-21T18:32:11.739543",
     "status": "completed"
    },
    "tags": []
   },
   "outputs": [
    {
     "name": "stdout",
     "output_type": "stream",
     "text": [
      "Epoch 1/20\n",
      "\u001b[1m207/207\u001b[0m \u001b[32m━━━━━━━━━━━━━━━━━━━━\u001b[0m\u001b[37m\u001b[0m \u001b[1m3s\u001b[0m 4ms/step - loss: 3.8920 - mae: 0.9448 - mse: 3.8920 - val_loss: 4.0226 - val_mae: 1.0081 - val_mse: 4.0226\n",
      "Epoch 2/20\n",
      "\u001b[1m207/207\u001b[0m \u001b[32m━━━━━━━━━━━━━━━━━━━━\u001b[0m\u001b[37m\u001b[0m \u001b[1m1s\u001b[0m 3ms/step - loss: 2.9928 - mae: 0.8581 - mse: 2.9928 - val_loss: 3.6764 - val_mae: 0.9522 - val_mse: 3.6764\n",
      "Epoch 3/20\n",
      "\u001b[1m207/207\u001b[0m \u001b[32m━━━━━━━━━━━━━━━━━━━━\u001b[0m\u001b[37m\u001b[0m \u001b[1m1s\u001b[0m 3ms/step - loss: 2.9050 - mae: 0.8481 - mse: 2.9050 - val_loss: 3.5844 - val_mae: 1.0280 - val_mse: 3.5844\n",
      "Epoch 4/20\n",
      "\u001b[1m207/207\u001b[0m \u001b[32m━━━━━━━━━━━━━━━━━━━━\u001b[0m\u001b[37m\u001b[0m \u001b[1m1s\u001b[0m 3ms/step - loss: 3.0516 - mae: 0.9043 - mse: 3.0516 - val_loss: 3.5028 - val_mae: 0.9505 - val_mse: 3.5028\n",
      "Epoch 5/20\n",
      "\u001b[1m207/207\u001b[0m \u001b[32m━━━━━━━━━━━━━━━━━━━━\u001b[0m\u001b[37m\u001b[0m \u001b[1m1s\u001b[0m 3ms/step - loss: 3.0062 - mae: 0.8650 - mse: 3.0062 - val_loss: 3.4971 - val_mae: 1.0156 - val_mse: 3.4971\n",
      "Epoch 6/20\n",
      "\u001b[1m207/207\u001b[0m \u001b[32m━━━━━━━━━━━━━━━━━━━━\u001b[0m\u001b[37m\u001b[0m \u001b[1m1s\u001b[0m 3ms/step - loss: 3.0419 - mae: 0.9042 - mse: 3.0419 - val_loss: 3.4353 - val_mae: 0.9123 - val_mse: 3.4353\n",
      "Epoch 7/20\n",
      "\u001b[1m207/207\u001b[0m \u001b[32m━━━━━━━━━━━━━━━━━━━━\u001b[0m\u001b[37m\u001b[0m \u001b[1m1s\u001b[0m 3ms/step - loss: 3.0488 - mae: 0.8783 - mse: 3.0488 - val_loss: 3.4351 - val_mae: 0.9448 - val_mse: 3.4351\n",
      "Epoch 8/20\n",
      "\u001b[1m207/207\u001b[0m \u001b[32m━━━━━━━━━━━━━━━━━━━━\u001b[0m\u001b[37m\u001b[0m \u001b[1m1s\u001b[0m 3ms/step - loss: 3.0392 - mae: 0.8547 - mse: 3.0392 - val_loss: 3.4499 - val_mae: 0.8965 - val_mse: 3.4499\n",
      "Epoch 9/20\n",
      "\u001b[1m207/207\u001b[0m \u001b[32m━━━━━━━━━━━━━━━━━━━━\u001b[0m\u001b[37m\u001b[0m \u001b[1m1s\u001b[0m 3ms/step - loss: 3.0935 - mae: 0.8605 - mse: 3.0935 - val_loss: 3.5496 - val_mae: 1.0208 - val_mse: 3.5496\n",
      "Epoch 10/20\n",
      "\u001b[1m207/207\u001b[0m \u001b[32m━━━━━━━━━━━━━━━━━━━━\u001b[0m\u001b[37m\u001b[0m \u001b[1m1s\u001b[0m 3ms/step - loss: 2.7735 - mae: 0.8294 - mse: 2.7735 - val_loss: 3.4704 - val_mae: 0.9405 - val_mse: 3.4704\n",
      "Epoch 11/20\n",
      "\u001b[1m207/207\u001b[0m \u001b[32m━━━━━━━━━━━━━━━━━━━━\u001b[0m\u001b[37m\u001b[0m \u001b[1m1s\u001b[0m 3ms/step - loss: 3.0382 - mae: 0.8675 - mse: 3.0382 - val_loss: 3.4754 - val_mae: 0.9515 - val_mse: 3.4754\n",
      "Epoch 12/20\n",
      "\u001b[1m207/207\u001b[0m \u001b[32m━━━━━━━━━━━━━━━━━━━━\u001b[0m\u001b[37m\u001b[0m \u001b[1m1s\u001b[0m 3ms/step - loss: 2.9670 - mae: 0.8560 - mse: 2.9670 - val_loss: 3.4442 - val_mae: 0.9236 - val_mse: 3.4442\n",
      "Epoch 13/20\n",
      "\u001b[1m207/207\u001b[0m \u001b[32m━━━━━━━━━━━━━━━━━━━━\u001b[0m\u001b[37m\u001b[0m \u001b[1m1s\u001b[0m 3ms/step - loss: 3.1990 - mae: 0.8940 - mse: 3.1990 - val_loss: 3.4428 - val_mae: 0.9508 - val_mse: 3.4428\n",
      "Epoch 14/20\n",
      "\u001b[1m207/207\u001b[0m \u001b[32m━━━━━━━━━━━━━━━━━━━━\u001b[0m\u001b[37m\u001b[0m \u001b[1m1s\u001b[0m 3ms/step - loss: 2.8977 - mae: 0.8505 - mse: 2.8977 - val_loss: 3.4776 - val_mae: 0.9135 - val_mse: 3.4776\n",
      "Epoch 15/20\n",
      "\u001b[1m207/207\u001b[0m \u001b[32m━━━━━━━━━━━━━━━━━━━━\u001b[0m\u001b[37m\u001b[0m \u001b[1m1s\u001b[0m 3ms/step - loss: 2.8594 - mae: 0.8290 - mse: 2.8594 - val_loss: 3.4637 - val_mae: 0.9412 - val_mse: 3.4637\n",
      "Epoch 16/20\n",
      "\u001b[1m207/207\u001b[0m \u001b[32m━━━━━━━━━━━━━━━━━━━━\u001b[0m\u001b[37m\u001b[0m \u001b[1m1s\u001b[0m 3ms/step - loss: 2.9443 - mae: 0.8540 - mse: 2.9443 - val_loss: 3.4843 - val_mae: 0.9244 - val_mse: 3.4843\n",
      "Epoch 17/20\n",
      "\u001b[1m207/207\u001b[0m \u001b[32m━━━━━━━━━━━━━━━━━━━━\u001b[0m\u001b[37m\u001b[0m \u001b[1m1s\u001b[0m 3ms/step - loss: 2.9666 - mae: 0.8487 - mse: 2.9666 - val_loss: 3.4155 - val_mae: 0.9463 - val_mse: 3.4155\n",
      "Epoch 18/20\n",
      "\u001b[1m207/207\u001b[0m \u001b[32m━━━━━━━━━━━━━━━━━━━━\u001b[0m\u001b[37m\u001b[0m \u001b[1m1s\u001b[0m 3ms/step - loss: 2.7439 - mae: 0.8132 - mse: 2.7439 - val_loss: 3.4823 - val_mae: 1.0362 - val_mse: 3.4823\n",
      "Epoch 19/20\n",
      "\u001b[1m207/207\u001b[0m \u001b[32m━━━━━━━━━━━━━━━━━━━━\u001b[0m\u001b[37m\u001b[0m \u001b[1m1s\u001b[0m 3ms/step - loss: 2.9665 - mae: 0.8752 - mse: 2.9665 - val_loss: 3.4419 - val_mae: 0.9387 - val_mse: 3.4419\n",
      "Epoch 20/20\n",
      "\u001b[1m207/207\u001b[0m \u001b[32m━━━━━━━━━━━━━━━━━━━━\u001b[0m\u001b[37m\u001b[0m \u001b[1m1s\u001b[0m 3ms/step - loss: 2.9337 - mae: 0.8436 - mse: 2.9337 - val_loss: 3.4456 - val_mae: 0.9403 - val_mse: 3.4456\n"
     ]
    }
   ],
   "source": [
    "history_GK = model_GK.fit(X_GK_train, y_GK_train, epochs=20, validation_split=0.2, \n",
    "verbose=1) "
   ]
  },
  {
   "cell_type": "code",
   "execution_count": 45,
   "id": "18633898",
   "metadata": {
    "execution": {
     "iopub.execute_input": "2025-10-21T18:32:25.848217Z",
     "iopub.status.busy": "2025-10-21T18:32:25.847900Z",
     "iopub.status.idle": "2025-10-21T18:33:55.448879Z",
     "shell.execute_reply": "2025-10-21T18:33:55.447959Z"
    },
    "papermill": {
     "duration": 89.701818,
     "end_time": "2025-10-21T18:33:55.450784",
     "exception": false,
     "start_time": "2025-10-21T18:32:25.748966",
     "status": "completed"
    },
    "tags": []
   },
   "outputs": [
    {
     "name": "stdout",
     "output_type": "stream",
     "text": [
      "Epoch 1/20\n",
      "\u001b[1m1868/1868\u001b[0m \u001b[32m━━━━━━━━━━━━━━━━━━━━\u001b[0m\u001b[37m\u001b[0m \u001b[1m7s\u001b[0m 3ms/step - loss: 5.0108 - mae: 1.2602 - mse: 5.0108 - val_loss: 4.6993 - val_mae: 1.2155 - val_mse: 4.6993\n",
      "Epoch 2/20\n",
      "\u001b[1m1868/1868\u001b[0m \u001b[32m━━━━━━━━━━━━━━━━━━━━\u001b[0m\u001b[37m\u001b[0m \u001b[1m4s\u001b[0m 2ms/step - loss: 4.6493 - mae: 1.2143 - mse: 4.6493 - val_loss: 4.7765 - val_mae: 1.2322 - val_mse: 4.7765\n",
      "Epoch 3/20\n",
      "\u001b[1m1868/1868\u001b[0m \u001b[32m━━━━━━━━━━━━━━━━━━━━\u001b[0m\u001b[37m\u001b[0m \u001b[1m4s\u001b[0m 2ms/step - loss: 4.7129 - mae: 1.2231 - mse: 4.7129 - val_loss: 4.6875 - val_mae: 1.2271 - val_mse: 4.6875\n",
      "Epoch 4/20\n",
      "\u001b[1m1868/1868\u001b[0m \u001b[32m━━━━━━━━━━━━━━━━━━━━\u001b[0m\u001b[37m\u001b[0m \u001b[1m5s\u001b[0m 2ms/step - loss: 4.6130 - mae: 1.2039 - mse: 4.6130 - val_loss: 4.7096 - val_mae: 1.1639 - val_mse: 4.7096\n",
      "Epoch 5/20\n",
      "\u001b[1m1868/1868\u001b[0m \u001b[32m━━━━━━━━━━━━━━━━━━━━\u001b[0m\u001b[37m\u001b[0m \u001b[1m5s\u001b[0m 2ms/step - loss: 4.6880 - mae: 1.2144 - mse: 4.6880 - val_loss: 4.6696 - val_mae: 1.2143 - val_mse: 4.6696\n",
      "Epoch 6/20\n",
      "\u001b[1m1868/1868\u001b[0m \u001b[32m━━━━━━━━━━━━━━━━━━━━\u001b[0m\u001b[37m\u001b[0m \u001b[1m4s\u001b[0m 2ms/step - loss: 4.6686 - mae: 1.2134 - mse: 4.6686 - val_loss: 4.6714 - val_mae: 1.2106 - val_mse: 4.6714\n",
      "Epoch 7/20\n",
      "\u001b[1m1868/1868\u001b[0m \u001b[32m━━━━━━━━━━━━━━━━━━━━\u001b[0m\u001b[37m\u001b[0m \u001b[1m4s\u001b[0m 2ms/step - loss: 4.5602 - mae: 1.2006 - mse: 4.5602 - val_loss: 4.6644 - val_mae: 1.2213 - val_mse: 4.6644\n",
      "Epoch 8/20\n",
      "\u001b[1m1868/1868\u001b[0m \u001b[32m━━━━━━━━━━━━━━━━━━━━\u001b[0m\u001b[37m\u001b[0m \u001b[1m4s\u001b[0m 2ms/step - loss: 4.6518 - mae: 1.2150 - mse: 4.6518 - val_loss: 4.6667 - val_mae: 1.1939 - val_mse: 4.6667\n",
      "Epoch 9/20\n",
      "\u001b[1m1868/1868\u001b[0m \u001b[32m━━━━━━━━━━━━━━━━━━━━\u001b[0m\u001b[37m\u001b[0m \u001b[1m4s\u001b[0m 2ms/step - loss: 4.5891 - mae: 1.2012 - mse: 4.5891 - val_loss: 4.6686 - val_mae: 1.1908 - val_mse: 4.6686\n",
      "Epoch 10/20\n",
      "\u001b[1m1868/1868\u001b[0m \u001b[32m━━━━━━━━━━━━━━━━━━━━\u001b[0m\u001b[37m\u001b[0m \u001b[1m4s\u001b[0m 2ms/step - loss: 4.6979 - mae: 1.2113 - mse: 4.6979 - val_loss: 4.6840 - val_mae: 1.2096 - val_mse: 4.6840\n",
      "Epoch 11/20\n",
      "\u001b[1m1868/1868\u001b[0m \u001b[32m━━━━━━━━━━━━━━━━━━━━\u001b[0m\u001b[37m\u001b[0m \u001b[1m4s\u001b[0m 2ms/step - loss: 4.6224 - mae: 1.2118 - mse: 4.6224 - val_loss: 4.6853 - val_mae: 1.1986 - val_mse: 4.6853\n",
      "Epoch 12/20\n",
      "\u001b[1m1868/1868\u001b[0m \u001b[32m━━━━━━━━━━━━━━━━━━━━\u001b[0m\u001b[37m\u001b[0m \u001b[1m4s\u001b[0m 2ms/step - loss: 4.5648 - mae: 1.1998 - mse: 4.5648 - val_loss: 4.6859 - val_mae: 1.2295 - val_mse: 4.6859\n",
      "Epoch 13/20\n",
      "\u001b[1m1868/1868\u001b[0m \u001b[32m━━━━━━━━━━━━━━━━━━━━\u001b[0m\u001b[37m\u001b[0m \u001b[1m4s\u001b[0m 2ms/step - loss: 4.6659 - mae: 1.2131 - mse: 4.6659 - val_loss: 4.6749 - val_mae: 1.2292 - val_mse: 4.6749\n",
      "Epoch 14/20\n",
      "\u001b[1m1868/1868\u001b[0m \u001b[32m━━━━━━━━━━━━━━━━━━━━\u001b[0m\u001b[37m\u001b[0m \u001b[1m4s\u001b[0m 2ms/step - loss: 4.5697 - mae: 1.2039 - mse: 4.5697 - val_loss: 4.6721 - val_mae: 1.2188 - val_mse: 4.6721\n",
      "Epoch 15/20\n",
      "\u001b[1m1868/1868\u001b[0m \u001b[32m━━━━━━━━━━━━━━━━━━━━\u001b[0m\u001b[37m\u001b[0m \u001b[1m4s\u001b[0m 2ms/step - loss: 4.6465 - mae: 1.2095 - mse: 4.6465 - val_loss: 4.6936 - val_mae: 1.1867 - val_mse: 4.6936\n",
      "Epoch 16/20\n",
      "\u001b[1m1868/1868\u001b[0m \u001b[32m━━━━━━━━━━━━━━━━━━━━\u001b[0m\u001b[37m\u001b[0m \u001b[1m4s\u001b[0m 2ms/step - loss: 4.5551 - mae: 1.2004 - mse: 4.5551 - val_loss: 4.6953 - val_mae: 1.2232 - val_mse: 4.6953\n",
      "Epoch 17/20\n",
      "\u001b[1m1868/1868\u001b[0m \u001b[32m━━━━━━━━━━━━━━━━━━━━\u001b[0m\u001b[37m\u001b[0m \u001b[1m4s\u001b[0m 2ms/step - loss: 4.5365 - mae: 1.1910 - mse: 4.5365 - val_loss: 4.6712 - val_mae: 1.2296 - val_mse: 4.6712\n",
      "Epoch 18/20\n",
      "\u001b[1m1868/1868\u001b[0m \u001b[32m━━━━━━━━━━━━━━━━━━━━\u001b[0m\u001b[37m\u001b[0m \u001b[1m4s\u001b[0m 2ms/step - loss: 4.5892 - mae: 1.2109 - mse: 4.5892 - val_loss: 4.6845 - val_mae: 1.1903 - val_mse: 4.6845\n",
      "Epoch 19/20\n",
      "\u001b[1m1868/1868\u001b[0m \u001b[32m━━━━━━━━━━━━━━━━━━━━\u001b[0m\u001b[37m\u001b[0m \u001b[1m4s\u001b[0m 2ms/step - loss: 4.5571 - mae: 1.1991 - mse: 4.5571 - val_loss: 4.7209 - val_mae: 1.2447 - val_mse: 4.7209\n",
      "Epoch 20/20\n",
      "\u001b[1m1868/1868\u001b[0m \u001b[32m━━━━━━━━━━━━━━━━━━━━\u001b[0m\u001b[37m\u001b[0m \u001b[1m4s\u001b[0m 2ms/step - loss: 4.6018 - mae: 1.2061 - mse: 4.6018 - val_loss: 4.6735 - val_mae: 1.2194 - val_mse: 4.6735\n"
     ]
    }
   ],
   "source": [
    "history_overAll = model_overAll.fit(X_overAll_train, y_overAll_train, epochs=20, validation_split=0.2, \n",
    "verbose=1) "
   ]
  },
  {
   "cell_type": "code",
   "execution_count": 46,
   "id": "1ef42e92",
   "metadata": {
    "execution": {
     "iopub.execute_input": "2025-10-21T18:33:55.804933Z",
     "iopub.status.busy": "2025-10-21T18:33:55.804540Z",
     "iopub.status.idle": "2025-10-21T18:37:12.749304Z",
     "shell.execute_reply": "2025-10-21T18:37:12.748378Z"
    },
    "papermill": {
     "duration": 197.126085,
     "end_time": "2025-10-21T18:37:12.751690",
     "exception": false,
     "start_time": "2025-10-21T18:33:55.625605",
     "status": "completed"
    },
    "tags": []
   },
   "outputs": [
    {
     "name": "stdout",
     "output_type": "stream",
     "text": [
      "Epoch 1/50\n",
      "\u001b[1m1661/1661\u001b[0m \u001b[32m━━━━━━━━━━━━━━━━━━━━\u001b[0m\u001b[37m\u001b[0m \u001b[1m4s\u001b[0m 2ms/step - loss: 4.6922 - mae: 1.2352 - mse: 4.6922 - val_loss: 4.9335 - val_mae: 1.2532 - val_mse: 4.9335\n",
      "Epoch 2/50\n",
      "\u001b[1m  75/1661\u001b[0m \u001b[37m━━━━━━━━━━━━━━━━━━━━\u001b[0m \u001b[1m3s\u001b[0m 2ms/step - loss: 4.3717 - mae: 1.2099 - mse: 4.3717"
     ]
    },
    {
     "name": "stderr",
     "output_type": "stream",
     "text": [
      "/usr/local/lib/python3.11/dist-packages/keras/src/callbacks/early_stopping.py:153: UserWarning: Early stopping conditioned on metric `val_accuracy` which is not available. Available metrics are: loss,mae,mse,val_loss,val_mae,val_mse\n",
      "  current = self.get_monitor_value(logs)\n"
     ]
    },
    {
     "name": "stdout",
     "output_type": "stream",
     "text": [
      "\u001b[1m1661/1661\u001b[0m \u001b[32m━━━━━━━━━━━━━━━━━━━━\u001b[0m\u001b[37m\u001b[0m \u001b[1m4s\u001b[0m 2ms/step - loss: 4.7755 - mae: 1.2492 - mse: 4.7755 - val_loss: 4.9088 - val_mae: 1.2828 - val_mse: 4.9088\n",
      "Epoch 3/50\n",
      "\u001b[1m1661/1661\u001b[0m \u001b[32m━━━━━━━━━━━━━━━━━━━━\u001b[0m\u001b[37m\u001b[0m \u001b[1m4s\u001b[0m 2ms/step - loss: 4.8375 - mae: 1.2562 - mse: 4.8375 - val_loss: 4.9299 - val_mae: 1.2537 - val_mse: 4.9299\n",
      "Epoch 4/50\n",
      "\u001b[1m1661/1661\u001b[0m \u001b[32m━━━━━━━━━━━━━━━━━━━━\u001b[0m\u001b[37m\u001b[0m \u001b[1m4s\u001b[0m 2ms/step - loss: 4.8529 - mae: 1.2650 - mse: 4.8529 - val_loss: 4.9434 - val_mae: 1.2599 - val_mse: 4.9434\n",
      "Epoch 5/50\n",
      "\u001b[1m1661/1661\u001b[0m \u001b[32m━━━━━━━━━━━━━━━━━━━━\u001b[0m\u001b[37m\u001b[0m \u001b[1m4s\u001b[0m 2ms/step - loss: 4.7404 - mae: 1.2457 - mse: 4.7404 - val_loss: 4.9496 - val_mae: 1.2807 - val_mse: 4.9496\n",
      "Epoch 6/50\n",
      "\u001b[1m1661/1661\u001b[0m \u001b[32m━━━━━━━━━━━━━━━━━━━━\u001b[0m\u001b[37m\u001b[0m \u001b[1m4s\u001b[0m 2ms/step - loss: 4.8541 - mae: 1.2621 - mse: 4.8541 - val_loss: 4.9517 - val_mae: 1.2205 - val_mse: 4.9517\n",
      "Epoch 7/50\n",
      "\u001b[1m1661/1661\u001b[0m \u001b[32m━━━━━━━━━━━━━━━━━━━━\u001b[0m\u001b[37m\u001b[0m \u001b[1m4s\u001b[0m 2ms/step - loss: 4.8123 - mae: 1.2476 - mse: 4.8123 - val_loss: 4.9422 - val_mae: 1.3033 - val_mse: 4.9422\n",
      "Epoch 8/50\n",
      "\u001b[1m1661/1661\u001b[0m \u001b[32m━━━━━━━━━━━━━━━━━━━━\u001b[0m\u001b[37m\u001b[0m \u001b[1m4s\u001b[0m 2ms/step - loss: 4.8574 - mae: 1.2542 - mse: 4.8574 - val_loss: 4.9521 - val_mae: 1.2755 - val_mse: 4.9521\n",
      "Epoch 9/50\n",
      "\u001b[1m1661/1661\u001b[0m \u001b[32m━━━━━━━━━━━━━━━━━━━━\u001b[0m\u001b[37m\u001b[0m \u001b[1m4s\u001b[0m 2ms/step - loss: 4.7493 - mae: 1.2377 - mse: 4.7493 - val_loss: 4.9656 - val_mae: 1.3008 - val_mse: 4.9656\n",
      "Epoch 10/50\n",
      "\u001b[1m1661/1661\u001b[0m \u001b[32m━━━━━━━━━━━━━━━━━━━━\u001b[0m\u001b[37m\u001b[0m \u001b[1m4s\u001b[0m 2ms/step - loss: 4.7887 - mae: 1.2471 - mse: 4.7887 - val_loss: 4.9292 - val_mae: 1.3184 - val_mse: 4.9292\n",
      "Epoch 11/50\n",
      "\u001b[1m1661/1661\u001b[0m \u001b[32m━━━━━━━━━━━━━━━━━━━━\u001b[0m\u001b[37m\u001b[0m \u001b[1m4s\u001b[0m 2ms/step - loss: 4.8000 - mae: 1.2568 - mse: 4.8000 - val_loss: 4.9337 - val_mae: 1.2728 - val_mse: 4.9337\n",
      "Epoch 12/50\n",
      "\u001b[1m1661/1661\u001b[0m \u001b[32m━━━━━━━━━━━━━━━━━━━━\u001b[0m\u001b[37m\u001b[0m \u001b[1m4s\u001b[0m 2ms/step - loss: 4.7339 - mae: 1.2395 - mse: 4.7339 - val_loss: 4.9411 - val_mae: 1.2886 - val_mse: 4.9411\n",
      "Epoch 13/50\n",
      "\u001b[1m1661/1661\u001b[0m \u001b[32m━━━━━━━━━━━━━━━━━━━━\u001b[0m\u001b[37m\u001b[0m \u001b[1m4s\u001b[0m 2ms/step - loss: 4.7557 - mae: 1.2369 - mse: 4.7557 - val_loss: 4.9403 - val_mae: 1.2992 - val_mse: 4.9403\n",
      "Epoch 14/50\n",
      "\u001b[1m1661/1661\u001b[0m \u001b[32m━━━━━━━━━━━━━━━━━━━━\u001b[0m\u001b[37m\u001b[0m \u001b[1m4s\u001b[0m 2ms/step - loss: 4.8095 - mae: 1.2449 - mse: 4.8095 - val_loss: 4.9317 - val_mae: 1.3033 - val_mse: 4.9317\n",
      "Epoch 15/50\n",
      "\u001b[1m1661/1661\u001b[0m \u001b[32m━━━━━━━━━━━━━━━━━━━━\u001b[0m\u001b[37m\u001b[0m \u001b[1m4s\u001b[0m 2ms/step - loss: 4.6288 - mae: 1.2224 - mse: 4.6288 - val_loss: 4.9242 - val_mae: 1.2686 - val_mse: 4.9242\n",
      "Epoch 16/50\n",
      "\u001b[1m1661/1661\u001b[0m \u001b[32m━━━━━━━━━━━━━━━━━━━━\u001b[0m\u001b[37m\u001b[0m \u001b[1m4s\u001b[0m 2ms/step - loss: 4.8688 - mae: 1.2508 - mse: 4.8688 - val_loss: 4.9349 - val_mae: 1.2838 - val_mse: 4.9349\n",
      "Epoch 17/50\n",
      "\u001b[1m1661/1661\u001b[0m \u001b[32m━━━━━━━━━━━━━━━━━━━━\u001b[0m\u001b[37m\u001b[0m \u001b[1m4s\u001b[0m 2ms/step - loss: 4.7856 - mae: 1.2566 - mse: 4.7856 - val_loss: 4.9678 - val_mae: 1.2319 - val_mse: 4.9678\n",
      "Epoch 18/50\n",
      "\u001b[1m1661/1661\u001b[0m \u001b[32m━━━━━━━━━━━━━━━━━━━━\u001b[0m\u001b[37m\u001b[0m \u001b[1m4s\u001b[0m 2ms/step - loss: 4.7913 - mae: 1.2441 - mse: 4.7913 - val_loss: 4.9617 - val_mae: 1.2607 - val_mse: 4.9617\n",
      "Epoch 19/50\n",
      "\u001b[1m1661/1661\u001b[0m \u001b[32m━━━━━━━━━━━━━━━━━━━━\u001b[0m\u001b[37m\u001b[0m \u001b[1m4s\u001b[0m 2ms/step - loss: 4.7983 - mae: 1.2476 - mse: 4.7983 - val_loss: 4.9632 - val_mae: 1.2818 - val_mse: 4.9632\n",
      "Epoch 20/50\n",
      "\u001b[1m1661/1661\u001b[0m \u001b[32m━━━━━━━━━━━━━━━━━━━━\u001b[0m\u001b[37m\u001b[0m \u001b[1m4s\u001b[0m 2ms/step - loss: 4.6845 - mae: 1.2398 - mse: 4.6845 - val_loss: 4.9783 - val_mae: 1.2495 - val_mse: 4.9783\n",
      "Epoch 21/50\n",
      "\u001b[1m1661/1661\u001b[0m \u001b[32m━━━━━━━━━━━━━━━━━━━━\u001b[0m\u001b[37m\u001b[0m \u001b[1m4s\u001b[0m 2ms/step - loss: 4.6872 - mae: 1.2389 - mse: 4.6872 - val_loss: 4.9910 - val_mae: 1.2602 - val_mse: 4.9910\n",
      "Epoch 22/50\n",
      "\u001b[1m1661/1661\u001b[0m \u001b[32m━━━━━━━━━━━━━━━━━━━━\u001b[0m\u001b[37m\u001b[0m \u001b[1m4s\u001b[0m 2ms/step - loss: 4.8603 - mae: 1.2633 - mse: 4.8603 - val_loss: 4.9458 - val_mae: 1.2388 - val_mse: 4.9458\n",
      "Epoch 23/50\n",
      "\u001b[1m1661/1661\u001b[0m \u001b[32m━━━━━━━━━━━━━━━━━━━━\u001b[0m\u001b[37m\u001b[0m \u001b[1m4s\u001b[0m 2ms/step - loss: 4.7988 - mae: 1.2525 - mse: 4.7988 - val_loss: 4.9994 - val_mae: 1.2305 - val_mse: 4.9994\n",
      "Epoch 24/50\n",
      "\u001b[1m1661/1661\u001b[0m \u001b[32m━━━━━━━━━━━━━━━━━━━━\u001b[0m\u001b[37m\u001b[0m \u001b[1m4s\u001b[0m 2ms/step - loss: 4.7407 - mae: 1.2336 - mse: 4.7407 - val_loss: 4.9665 - val_mae: 1.2942 - val_mse: 4.9665\n",
      "Epoch 25/50\n",
      "\u001b[1m1661/1661\u001b[0m \u001b[32m━━━━━━━━━━━━━━━━━━━━\u001b[0m\u001b[37m\u001b[0m \u001b[1m4s\u001b[0m 2ms/step - loss: 4.8046 - mae: 1.2442 - mse: 4.8046 - val_loss: 4.9381 - val_mae: 1.2516 - val_mse: 4.9381\n",
      "Epoch 26/50\n",
      "\u001b[1m1661/1661\u001b[0m \u001b[32m━━━━━━━━━━━━━━━━━━━━\u001b[0m\u001b[37m\u001b[0m \u001b[1m4s\u001b[0m 2ms/step - loss: 4.8263 - mae: 1.2489 - mse: 4.8263 - val_loss: 4.9619 - val_mae: 1.2548 - val_mse: 4.9619\n",
      "Epoch 27/50\n",
      "\u001b[1m1661/1661\u001b[0m \u001b[32m━━━━━━━━━━━━━━━━━━━━\u001b[0m\u001b[37m\u001b[0m \u001b[1m4s\u001b[0m 2ms/step - loss: 4.8222 - mae: 1.2520 - mse: 4.8222 - val_loss: 4.9880 - val_mae: 1.2487 - val_mse: 4.9880\n",
      "Epoch 28/50\n",
      "\u001b[1m1661/1661\u001b[0m \u001b[32m━━━━━━━━━━━━━━━━━━━━\u001b[0m\u001b[37m\u001b[0m \u001b[1m4s\u001b[0m 2ms/step - loss: 4.6895 - mae: 1.2317 - mse: 4.6895 - val_loss: 4.9646 - val_mae: 1.2694 - val_mse: 4.9646\n",
      "Epoch 29/50\n",
      "\u001b[1m1661/1661\u001b[0m \u001b[32m━━━━━━━━━━━━━━━━━━━━\u001b[0m\u001b[37m\u001b[0m \u001b[1m4s\u001b[0m 2ms/step - loss: 4.7801 - mae: 1.2486 - mse: 4.7801 - val_loss: 4.9955 - val_mae: 1.2624 - val_mse: 4.9955\n",
      "Epoch 30/50\n",
      "\u001b[1m1661/1661\u001b[0m \u001b[32m━━━━━━━━━━━━━━━━━━━━\u001b[0m\u001b[37m\u001b[0m \u001b[1m4s\u001b[0m 2ms/step - loss: 4.8563 - mae: 1.2546 - mse: 4.8563 - val_loss: 4.9597 - val_mae: 1.2880 - val_mse: 4.9597\n",
      "Epoch 31/50\n",
      "\u001b[1m1661/1661\u001b[0m \u001b[32m━━━━━━━━━━━━━━━━━━━━\u001b[0m\u001b[37m\u001b[0m \u001b[1m4s\u001b[0m 2ms/step - loss: 4.7618 - mae: 1.2435 - mse: 4.7618 - val_loss: 4.9511 - val_mae: 1.2863 - val_mse: 4.9511\n",
      "Epoch 32/50\n",
      "\u001b[1m1661/1661\u001b[0m \u001b[32m━━━━━━━━━━━━━━━━━━━━\u001b[0m\u001b[37m\u001b[0m \u001b[1m4s\u001b[0m 2ms/step - loss: 4.7276 - mae: 1.2357 - mse: 4.7276 - val_loss: 4.9962 - val_mae: 1.2236 - val_mse: 4.9962\n",
      "Epoch 33/50\n",
      "\u001b[1m1661/1661\u001b[0m \u001b[32m━━━━━━━━━━━━━━━━━━━━\u001b[0m\u001b[37m\u001b[0m \u001b[1m4s\u001b[0m 2ms/step - loss: 4.6361 - mae: 1.2218 - mse: 4.6361 - val_loss: 5.0380 - val_mae: 1.3139 - val_mse: 5.0380\n",
      "Epoch 34/50\n",
      "\u001b[1m1661/1661\u001b[0m \u001b[32m━━━━━━━━━━━━━━━━━━━━\u001b[0m\u001b[37m\u001b[0m \u001b[1m4s\u001b[0m 2ms/step - loss: 4.5620 - mae: 1.2155 - mse: 4.5620 - val_loss: 5.0027 - val_mae: 1.2640 - val_mse: 5.0027\n",
      "Epoch 35/50\n",
      "\u001b[1m1661/1661\u001b[0m \u001b[32m━━━━━━━━━━━━━━━━━━━━\u001b[0m\u001b[37m\u001b[0m \u001b[1m4s\u001b[0m 2ms/step - loss: 4.6673 - mae: 1.2254 - mse: 4.6673 - val_loss: 4.9982 - val_mae: 1.2555 - val_mse: 4.9982\n",
      "Epoch 36/50\n",
      "\u001b[1m1661/1661\u001b[0m \u001b[32m━━━━━━━━━━━━━━━━━━━━\u001b[0m\u001b[37m\u001b[0m \u001b[1m4s\u001b[0m 2ms/step - loss: 4.6221 - mae: 1.2228 - mse: 4.6221 - val_loss: 5.0315 - val_mae: 1.3277 - val_mse: 5.0315\n",
      "Epoch 37/50\n",
      "\u001b[1m1661/1661\u001b[0m \u001b[32m━━━━━━━━━━━━━━━━━━━━\u001b[0m\u001b[37m\u001b[0m \u001b[1m4s\u001b[0m 2ms/step - loss: 4.8713 - mae: 1.2572 - mse: 4.8713 - val_loss: 4.9834 - val_mae: 1.2817 - val_mse: 4.9834\n",
      "Epoch 38/50\n",
      "\u001b[1m1661/1661\u001b[0m \u001b[32m━━━━━━━━━━━━━━━━━━━━\u001b[0m\u001b[37m\u001b[0m \u001b[1m4s\u001b[0m 2ms/step - loss: 4.7127 - mae: 1.2360 - mse: 4.7127 - val_loss: 5.0091 - val_mae: 1.2761 - val_mse: 5.0091\n",
      "Epoch 39/50\n",
      "\u001b[1m1661/1661\u001b[0m \u001b[32m━━━━━━━━━━━━━━━━━━━━\u001b[0m\u001b[37m\u001b[0m \u001b[1m4s\u001b[0m 2ms/step - loss: 4.7282 - mae: 1.2390 - mse: 4.7282 - val_loss: 4.9895 - val_mae: 1.2708 - val_mse: 4.9895\n",
      "Epoch 40/50\n",
      "\u001b[1m1661/1661\u001b[0m \u001b[32m━━━━━━━━━━━━━━━━━━━━\u001b[0m\u001b[37m\u001b[0m \u001b[1m4s\u001b[0m 2ms/step - loss: 4.7000 - mae: 1.2367 - mse: 4.7000 - val_loss: 4.9882 - val_mae: 1.2687 - val_mse: 4.9882\n",
      "Epoch 41/50\n",
      "\u001b[1m1661/1661\u001b[0m \u001b[32m━━━━━━━━━━━━━━━━━━━━\u001b[0m\u001b[37m\u001b[0m \u001b[1m4s\u001b[0m 2ms/step - loss: 4.6088 - mae: 1.2196 - mse: 4.6088 - val_loss: 5.0292 - val_mae: 1.3261 - val_mse: 5.0292\n",
      "Epoch 42/50\n",
      "\u001b[1m1661/1661\u001b[0m \u001b[32m━━━━━━━━━━━━━━━━━━━━\u001b[0m\u001b[37m\u001b[0m \u001b[1m4s\u001b[0m 2ms/step - loss: 4.6580 - mae: 1.2289 - mse: 4.6580 - val_loss: 5.0120 - val_mae: 1.3023 - val_mse: 5.0120\n",
      "Epoch 43/50\n",
      "\u001b[1m1661/1661\u001b[0m \u001b[32m━━━━━━━━━━━━━━━━━━━━\u001b[0m\u001b[37m\u001b[0m \u001b[1m4s\u001b[0m 2ms/step - loss: 4.7863 - mae: 1.2412 - mse: 4.7863 - val_loss: 4.9925 - val_mae: 1.2293 - val_mse: 4.9925\n",
      "Epoch 44/50\n",
      "\u001b[1m1661/1661\u001b[0m \u001b[32m━━━━━━━━━━━━━━━━━━━━\u001b[0m\u001b[37m\u001b[0m \u001b[1m4s\u001b[0m 2ms/step - loss: 4.6287 - mae: 1.2267 - mse: 4.6287 - val_loss: 5.0075 - val_mae: 1.2867 - val_mse: 5.0075\n",
      "Epoch 45/50\n",
      "\u001b[1m1661/1661\u001b[0m \u001b[32m━━━━━━━━━━━━━━━━━━━━\u001b[0m\u001b[37m\u001b[0m \u001b[1m4s\u001b[0m 2ms/step - loss: 4.6763 - mae: 1.2374 - mse: 4.6763 - val_loss: 5.0328 - val_mae: 1.2496 - val_mse: 5.0328\n",
      "Epoch 46/50\n",
      "\u001b[1m1661/1661\u001b[0m \u001b[32m━━━━━━━━━━━━━━━━━━━━\u001b[0m\u001b[37m\u001b[0m \u001b[1m4s\u001b[0m 2ms/step - loss: 4.5987 - mae: 1.2165 - mse: 4.5987 - val_loss: 5.1659 - val_mae: 1.3361 - val_mse: 5.1659\n",
      "Epoch 47/50\n",
      "\u001b[1m1661/1661\u001b[0m \u001b[32m━━━━━━━━━━━━━━━━━━━━\u001b[0m\u001b[37m\u001b[0m \u001b[1m4s\u001b[0m 2ms/step - loss: 4.7695 - mae: 1.2429 - mse: 4.7695 - val_loss: 5.0445 - val_mae: 1.2785 - val_mse: 5.0445\n",
      "Epoch 48/50\n",
      "\u001b[1m1661/1661\u001b[0m \u001b[32m━━━━━━━━━━━━━━━━━━━━\u001b[0m\u001b[37m\u001b[0m \u001b[1m4s\u001b[0m 2ms/step - loss: 4.6409 - mae: 1.2357 - mse: 4.6409 - val_loss: 5.0104 - val_mae: 1.2896 - val_mse: 5.0104\n",
      "Epoch 49/50\n",
      "\u001b[1m1661/1661\u001b[0m \u001b[32m━━━━━━━━━━━━━━━━━━━━\u001b[0m\u001b[37m\u001b[0m \u001b[1m4s\u001b[0m 2ms/step - loss: 4.6139 - mae: 1.2264 - mse: 4.6139 - val_loss: 4.9952 - val_mae: 1.2409 - val_mse: 4.9952\n",
      "Epoch 50/50\n",
      "\u001b[1m1661/1661\u001b[0m \u001b[32m━━━━━━━━━━━━━━━━━━━━\u001b[0m\u001b[37m\u001b[0m \u001b[1m4s\u001b[0m 2ms/step - loss: 4.6463 - mae: 1.2283 - mse: 4.6463 - val_loss: 5.0320 - val_mae: 1.2901 - val_mse: 5.0320\n"
     ]
    }
   ],
   "source": [
    "from tensorflow.keras.callbacks import EarlyStopping \n",
    "early_stop = EarlyStopping(monitor='val_accuracy',mode='max', patience=3, \n",
    "restore_best_weights=True) \n",
    "history_Player = model_Player.fit(X_Player_train, y_Player_train, \n",
    "epochs=50, \n",
    "validation_split=0.2, \n",
    "verbose=1, \n",
    "callbacks=[early_stop]) "
   ]
  },
  {
   "cell_type": "code",
   "execution_count": 47,
   "id": "e81b09d0",
   "metadata": {
    "execution": {
     "iopub.execute_input": "2025-10-21T18:37:13.491800Z",
     "iopub.status.busy": "2025-10-21T18:37:13.491460Z",
     "iopub.status.idle": "2025-10-21T18:37:42.373598Z",
     "shell.execute_reply": "2025-10-21T18:37:42.372686Z"
    },
    "papermill": {
     "duration": 29.215767,
     "end_time": "2025-10-21T18:37:42.375653",
     "exception": false,
     "start_time": "2025-10-21T18:37:13.159886",
     "status": "completed"
    },
    "tags": []
   },
   "outputs": [
    {
     "name": "stdout",
     "output_type": "stream",
     "text": [
      "Epoch 1/50\n",
      "\u001b[1m207/207\u001b[0m \u001b[32m━━━━━━━━━━━━━━━━━━━━\u001b[0m\u001b[37m\u001b[0m \u001b[1m1s\u001b[0m 3ms/step - loss: 2.9576 - mae: 0.8649 - mse: 2.9576 - val_loss: 3.4497 - val_mae: 0.8711 - val_mse: 3.4497\n",
      "Epoch 2/50\n",
      "\u001b[1m 84/207\u001b[0m \u001b[32m━━━━━━━━\u001b[0m\u001b[37m━━━━━━━━━━━━\u001b[0m \u001b[1m0s\u001b[0m 2ms/step - loss: 2.9204 - mae: 0.8394 - mse: 2.9204"
     ]
    },
    {
     "name": "stderr",
     "output_type": "stream",
     "text": [
      "/usr/local/lib/python3.11/dist-packages/keras/src/callbacks/early_stopping.py:153: UserWarning: Early stopping conditioned on metric `val_accuracy` which is not available. Available metrics are: loss,mae,mse,val_loss,val_mae,val_mse\n",
      "  current = self.get_monitor_value(logs)\n"
     ]
    },
    {
     "name": "stdout",
     "output_type": "stream",
     "text": [
      "\u001b[1m207/207\u001b[0m \u001b[32m━━━━━━━━━━━━━━━━━━━━\u001b[0m\u001b[37m\u001b[0m \u001b[1m1s\u001b[0m 3ms/step - loss: 2.9103 - mae: 0.8446 - mse: 2.9103 - val_loss: 3.5081 - val_mae: 0.9113 - val_mse: 3.5081\n",
      "Epoch 3/50\n",
      "\u001b[1m207/207\u001b[0m \u001b[32m━━━━━━━━━━━━━━━━━━━━\u001b[0m\u001b[37m\u001b[0m \u001b[1m1s\u001b[0m 3ms/step - loss: 2.8531 - mae: 0.8550 - mse: 2.8531 - val_loss: 3.4258 - val_mae: 0.9309 - val_mse: 3.4258\n",
      "Epoch 4/50\n",
      "\u001b[1m207/207\u001b[0m \u001b[32m━━━━━━━━━━━━━━━━━━━━\u001b[0m\u001b[37m\u001b[0m \u001b[1m1s\u001b[0m 3ms/step - loss: 3.0252 - mae: 0.8586 - mse: 3.0252 - val_loss: 3.4257 - val_mae: 0.9762 - val_mse: 3.4257\n",
      "Epoch 5/50\n",
      "\u001b[1m207/207\u001b[0m \u001b[32m━━━━━━━━━━━━━━━━━━━━\u001b[0m\u001b[37m\u001b[0m \u001b[1m1s\u001b[0m 3ms/step - loss: 3.1086 - mae: 0.8791 - mse: 3.1086 - val_loss: 3.5114 - val_mae: 0.9649 - val_mse: 3.5114\n",
      "Epoch 6/50\n",
      "\u001b[1m207/207\u001b[0m \u001b[32m━━━━━━━━━━━━━━━━━━━━\u001b[0m\u001b[37m\u001b[0m \u001b[1m1s\u001b[0m 3ms/step - loss: 3.0296 - mae: 0.8757 - mse: 3.0296 - val_loss: 3.4782 - val_mae: 0.9126 - val_mse: 3.4782\n",
      "Epoch 7/50\n",
      "\u001b[1m207/207\u001b[0m \u001b[32m━━━━━━━━━━━━━━━━━━━━\u001b[0m\u001b[37m\u001b[0m \u001b[1m1s\u001b[0m 3ms/step - loss: 2.9753 - mae: 0.8592 - mse: 2.9753 - val_loss: 3.4435 - val_mae: 0.9530 - val_mse: 3.4435\n",
      "Epoch 8/50\n",
      "\u001b[1m207/207\u001b[0m \u001b[32m━━━━━━━━━━━━━━━━━━━━\u001b[0m\u001b[37m\u001b[0m \u001b[1m1s\u001b[0m 3ms/step - loss: 2.8257 - mae: 0.8476 - mse: 2.8257 - val_loss: 3.4638 - val_mae: 0.9346 - val_mse: 3.4638\n",
      "Epoch 9/50\n",
      "\u001b[1m207/207\u001b[0m \u001b[32m━━━━━━━━━━━━━━━━━━━━\u001b[0m\u001b[37m\u001b[0m \u001b[1m1s\u001b[0m 3ms/step - loss: 2.9828 - mae: 0.8744 - mse: 2.9828 - val_loss: 3.4748 - val_mae: 0.9677 - val_mse: 3.4748\n",
      "Epoch 10/50\n",
      "\u001b[1m207/207\u001b[0m \u001b[32m━━━━━━━━━━━━━━━━━━━━\u001b[0m\u001b[37m\u001b[0m \u001b[1m1s\u001b[0m 3ms/step - loss: 2.8473 - mae: 0.8366 - mse: 2.8473 - val_loss: 3.4636 - val_mae: 0.9384 - val_mse: 3.4636\n",
      "Epoch 11/50\n",
      "\u001b[1m207/207\u001b[0m \u001b[32m━━━━━━━━━━━━━━━━━━━━\u001b[0m\u001b[37m\u001b[0m \u001b[1m1s\u001b[0m 3ms/step - loss: 2.9236 - mae: 0.8441 - mse: 2.9236 - val_loss: 3.5080 - val_mae: 1.0341 - val_mse: 3.5080\n",
      "Epoch 12/50\n",
      "\u001b[1m207/207\u001b[0m \u001b[32m━━━━━━━━━━━━━━━━━━━━\u001b[0m\u001b[37m\u001b[0m \u001b[1m1s\u001b[0m 3ms/step - loss: 3.0708 - mae: 0.8933 - mse: 3.0708 - val_loss: 3.4872 - val_mae: 0.9140 - val_mse: 3.4872\n",
      "Epoch 13/50\n",
      "\u001b[1m207/207\u001b[0m \u001b[32m━━━━━━━━━━━━━━━━━━━━\u001b[0m\u001b[37m\u001b[0m \u001b[1m1s\u001b[0m 3ms/step - loss: 2.8132 - mae: 0.8389 - mse: 2.8132 - val_loss: 3.4750 - val_mae: 0.9394 - val_mse: 3.4750\n",
      "Epoch 14/50\n",
      "\u001b[1m207/207\u001b[0m \u001b[32m━━━━━━━━━━━━━━━━━━━━\u001b[0m\u001b[37m\u001b[0m \u001b[1m1s\u001b[0m 3ms/step - loss: 2.9199 - mae: 0.8421 - mse: 2.9199 - val_loss: 3.4697 - val_mae: 0.9486 - val_mse: 3.4697\n",
      "Epoch 15/50\n",
      "\u001b[1m207/207\u001b[0m \u001b[32m━━━━━━━━━━━━━━━━━━━━\u001b[0m\u001b[37m\u001b[0m \u001b[1m1s\u001b[0m 3ms/step - loss: 2.5446 - mae: 0.7870 - mse: 2.5446 - val_loss: 3.4617 - val_mae: 0.8925 - val_mse: 3.4617\n",
      "Epoch 16/50\n",
      "\u001b[1m207/207\u001b[0m \u001b[32m━━━━━━━━━━━━━━━━━━━━\u001b[0m\u001b[37m\u001b[0m \u001b[1m1s\u001b[0m 3ms/step - loss: 2.8866 - mae: 0.8421 - mse: 2.8866 - val_loss: 3.4615 - val_mae: 0.9336 - val_mse: 3.4615\n",
      "Epoch 17/50\n",
      "\u001b[1m207/207\u001b[0m \u001b[32m━━━━━━━━━━━━━━━━━━━━\u001b[0m\u001b[37m\u001b[0m \u001b[1m1s\u001b[0m 3ms/step - loss: 2.7542 - mae: 0.8180 - mse: 2.7542 - val_loss: 3.4777 - val_mae: 0.8960 - val_mse: 3.4777\n",
      "Epoch 18/50\n",
      "\u001b[1m207/207\u001b[0m \u001b[32m━━━━━━━━━━━━━━━━━━━━\u001b[0m\u001b[37m\u001b[0m \u001b[1m1s\u001b[0m 3ms/step - loss: 2.7694 - mae: 0.8182 - mse: 2.7694 - val_loss: 3.4696 - val_mae: 0.9146 - val_mse: 3.4696\n",
      "Epoch 19/50\n",
      "\u001b[1m207/207\u001b[0m \u001b[32m━━━━━━━━━━━━━━━━━━━━\u001b[0m\u001b[37m\u001b[0m \u001b[1m1s\u001b[0m 3ms/step - loss: 2.8328 - mae: 0.8263 - mse: 2.8328 - val_loss: 3.5130 - val_mae: 0.9798 - val_mse: 3.5130\n",
      "Epoch 20/50\n",
      "\u001b[1m207/207\u001b[0m \u001b[32m━━━━━━━━━━━━━━━━━━━━\u001b[0m\u001b[37m\u001b[0m \u001b[1m1s\u001b[0m 3ms/step - loss: 2.8591 - mae: 0.8291 - mse: 2.8591 - val_loss: 3.4661 - val_mae: 0.9990 - val_mse: 3.4661\n",
      "Epoch 21/50\n",
      "\u001b[1m207/207\u001b[0m \u001b[32m━━━━━━━━━━━━━━━━━━━━\u001b[0m\u001b[37m\u001b[0m \u001b[1m1s\u001b[0m 3ms/step - loss: 2.7525 - mae: 0.8358 - mse: 2.7525 - val_loss: 3.4575 - val_mae: 0.9271 - val_mse: 3.4575\n",
      "Epoch 22/50\n",
      "\u001b[1m207/207\u001b[0m \u001b[32m━━━━━━━━━━━━━━━━━━━━\u001b[0m\u001b[37m\u001b[0m \u001b[1m1s\u001b[0m 3ms/step - loss: 2.9304 - mae: 0.8486 - mse: 2.9304 - val_loss: 3.4996 - val_mae: 0.8952 - val_mse: 3.4996\n",
      "Epoch 23/50\n",
      "\u001b[1m207/207\u001b[0m \u001b[32m━━━━━━━━━━━━━━━━━━━━\u001b[0m\u001b[37m\u001b[0m \u001b[1m1s\u001b[0m 3ms/step - loss: 2.9429 - mae: 0.8447 - mse: 2.9429 - val_loss: 3.4702 - val_mae: 0.9325 - val_mse: 3.4702\n",
      "Epoch 24/50\n",
      "\u001b[1m207/207\u001b[0m \u001b[32m━━━━━━━━━━━━━━━━━━━━\u001b[0m\u001b[37m\u001b[0m \u001b[1m1s\u001b[0m 3ms/step - loss: 2.9281 - mae: 0.8457 - mse: 2.9281 - val_loss: 3.5432 - val_mae: 0.9546 - val_mse: 3.5432\n",
      "Epoch 25/50\n",
      "\u001b[1m207/207\u001b[0m \u001b[32m━━━━━━━━━━━━━━━━━━━━\u001b[0m\u001b[37m\u001b[0m \u001b[1m1s\u001b[0m 3ms/step - loss: 2.8114 - mae: 0.8388 - mse: 2.8114 - val_loss: 3.5010 - val_mae: 0.9624 - val_mse: 3.5010\n",
      "Epoch 26/50\n",
      "\u001b[1m207/207\u001b[0m \u001b[32m━━━━━━━━━━━━━━━━━━━━\u001b[0m\u001b[37m\u001b[0m \u001b[1m1s\u001b[0m 3ms/step - loss: 2.8126 - mae: 0.8483 - mse: 2.8126 - val_loss: 3.4785 - val_mae: 0.9149 - val_mse: 3.4785\n",
      "Epoch 27/50\n",
      "\u001b[1m207/207\u001b[0m \u001b[32m━━━━━━━━━━━━━━━━━━━━\u001b[0m\u001b[37m\u001b[0m \u001b[1m1s\u001b[0m 3ms/step - loss: 2.7937 - mae: 0.8168 - mse: 2.7937 - val_loss: 3.4793 - val_mae: 0.9212 - val_mse: 3.4793\n",
      "Epoch 28/50\n",
      "\u001b[1m207/207\u001b[0m \u001b[32m━━━━━━━━━━━━━━━━━━━━\u001b[0m\u001b[37m\u001b[0m \u001b[1m1s\u001b[0m 3ms/step - loss: 2.7333 - mae: 0.8161 - mse: 2.7333 - val_loss: 3.4684 - val_mae: 0.9209 - val_mse: 3.4684\n",
      "Epoch 29/50\n",
      "\u001b[1m207/207\u001b[0m \u001b[32m━━━━━━━━━━━━━━━━━━━━\u001b[0m\u001b[37m\u001b[0m \u001b[1m1s\u001b[0m 3ms/step - loss: 2.9266 - mae: 0.8587 - mse: 2.9266 - val_loss: 3.4839 - val_mae: 0.9039 - val_mse: 3.4839\n",
      "Epoch 30/50\n",
      "\u001b[1m207/207\u001b[0m \u001b[32m━━━━━━━━━━━━━━━━━━━━\u001b[0m\u001b[37m\u001b[0m \u001b[1m1s\u001b[0m 3ms/step - loss: 2.8986 - mae: 0.8436 - mse: 2.8986 - val_loss: 3.4784 - val_mae: 0.9284 - val_mse: 3.4784\n",
      "Epoch 31/50\n",
      "\u001b[1m207/207\u001b[0m \u001b[32m━━━━━━━━━━━━━━━━━━━━\u001b[0m\u001b[37m\u001b[0m \u001b[1m1s\u001b[0m 3ms/step - loss: 2.8106 - mae: 0.8380 - mse: 2.8106 - val_loss: 3.5203 - val_mae: 0.9758 - val_mse: 3.5203\n",
      "Epoch 32/50\n",
      "\u001b[1m207/207\u001b[0m \u001b[32m━━━━━━━━━━━━━━━━━━━━\u001b[0m\u001b[37m\u001b[0m \u001b[1m1s\u001b[0m 3ms/step - loss: 2.8992 - mae: 0.8615 - mse: 2.8992 - val_loss: 3.5322 - val_mae: 0.8872 - val_mse: 3.5322\n",
      "Epoch 33/50\n",
      "\u001b[1m207/207\u001b[0m \u001b[32m━━━━━━━━━━━━━━━━━━━━\u001b[0m\u001b[37m\u001b[0m \u001b[1m1s\u001b[0m 3ms/step - loss: 2.8110 - mae: 0.8403 - mse: 2.8110 - val_loss: 3.5273 - val_mae: 0.9707 - val_mse: 3.5273\n",
      "Epoch 34/50\n",
      "\u001b[1m207/207\u001b[0m \u001b[32m━━━━━━━━━━━━━━━━━━━━\u001b[0m\u001b[37m\u001b[0m \u001b[1m1s\u001b[0m 3ms/step - loss: 2.8641 - mae: 0.8509 - mse: 2.8641 - val_loss: 3.4583 - val_mae: 0.9061 - val_mse: 3.4583\n",
      "Epoch 35/50\n",
      "\u001b[1m207/207\u001b[0m \u001b[32m━━━━━━━━━━━━━━━━━━━━\u001b[0m\u001b[37m\u001b[0m \u001b[1m1s\u001b[0m 3ms/step - loss: 2.8968 - mae: 0.8420 - mse: 2.8968 - val_loss: 3.5151 - val_mae: 0.9943 - val_mse: 3.5151\n",
      "Epoch 36/50\n",
      "\u001b[1m207/207\u001b[0m \u001b[32m━━━━━━━━━━━━━━━━━━━━\u001b[0m\u001b[37m\u001b[0m \u001b[1m1s\u001b[0m 3ms/step - loss: 3.0330 - mae: 0.8951 - mse: 3.0330 - val_loss: 3.4979 - val_mae: 0.9123 - val_mse: 3.4979\n",
      "Epoch 37/50\n",
      "\u001b[1m207/207\u001b[0m \u001b[32m━━━━━━━━━━━━━━━━━━━━\u001b[0m\u001b[37m\u001b[0m \u001b[1m1s\u001b[0m 3ms/step - loss: 2.8916 - mae: 0.8315 - mse: 2.8916 - val_loss: 3.4936 - val_mae: 0.9211 - val_mse: 3.4936\n",
      "Epoch 38/50\n",
      "\u001b[1m207/207\u001b[0m \u001b[32m━━━━━━━━━━━━━━━━━━━━\u001b[0m\u001b[37m\u001b[0m \u001b[1m1s\u001b[0m 3ms/step - loss: 2.7237 - mae: 0.8213 - mse: 2.7237 - val_loss: 3.4953 - val_mae: 0.9295 - val_mse: 3.4953\n",
      "Epoch 39/50\n",
      "\u001b[1m207/207\u001b[0m \u001b[32m━━━━━━━━━━━━━━━━━━━━\u001b[0m\u001b[37m\u001b[0m \u001b[1m1s\u001b[0m 3ms/step - loss: 2.9088 - mae: 0.8389 - mse: 2.9088 - val_loss: 3.4961 - val_mae: 0.9200 - val_mse: 3.4961\n",
      "Epoch 40/50\n",
      "\u001b[1m207/207\u001b[0m \u001b[32m━━━━━━━━━━━━━━━━━━━━\u001b[0m\u001b[37m\u001b[0m \u001b[1m1s\u001b[0m 3ms/step - loss: 2.8881 - mae: 0.8483 - mse: 2.8881 - val_loss: 3.4740 - val_mae: 0.9353 - val_mse: 3.4740\n",
      "Epoch 41/50\n",
      "\u001b[1m207/207\u001b[0m \u001b[32m━━━━━━━━━━━━━━━━━━━━\u001b[0m\u001b[37m\u001b[0m \u001b[1m1s\u001b[0m 3ms/step - loss: 2.7805 - mae: 0.8286 - mse: 2.7805 - val_loss: 3.5296 - val_mae: 0.9167 - val_mse: 3.5296\n",
      "Epoch 42/50\n",
      "\u001b[1m207/207\u001b[0m \u001b[32m━━━━━━━━━━━━━━━━━━━━\u001b[0m\u001b[37m\u001b[0m \u001b[1m1s\u001b[0m 3ms/step - loss: 2.5308 - mae: 0.7912 - mse: 2.5308 - val_loss: 3.5562 - val_mae: 0.9490 - val_mse: 3.5562\n",
      "Epoch 43/50\n",
      "\u001b[1m207/207\u001b[0m \u001b[32m━━━━━━━━━━━━━━━━━━━━\u001b[0m\u001b[37m\u001b[0m \u001b[1m1s\u001b[0m 3ms/step - loss: 2.8429 - mae: 0.8354 - mse: 2.8429 - val_loss: 3.4995 - val_mae: 0.9758 - val_mse: 3.4995\n",
      "Epoch 44/50\n",
      "\u001b[1m207/207\u001b[0m \u001b[32m━━━━━━━━━━━━━━━━━━━━\u001b[0m\u001b[37m\u001b[0m \u001b[1m1s\u001b[0m 3ms/step - loss: 2.7624 - mae: 0.8303 - mse: 2.7624 - val_loss: 3.5634 - val_mae: 0.9707 - val_mse: 3.5634\n",
      "Epoch 45/50\n",
      "\u001b[1m207/207\u001b[0m \u001b[32m━━━━━━━━━━━━━━━━━━━━\u001b[0m\u001b[37m\u001b[0m \u001b[1m1s\u001b[0m 3ms/step - loss: 2.6587 - mae: 0.8039 - mse: 2.6587 - val_loss: 3.5118 - val_mae: 0.9257 - val_mse: 3.5118\n",
      "Epoch 46/50\n",
      "\u001b[1m207/207\u001b[0m \u001b[32m━━━━━━━━━━━━━━━━━━━━\u001b[0m\u001b[37m\u001b[0m \u001b[1m1s\u001b[0m 3ms/step - loss: 2.7071 - mae: 0.8116 - mse: 2.7071 - val_loss: 3.4971 - val_mae: 0.9606 - val_mse: 3.4971\n",
      "Epoch 47/50\n",
      "\u001b[1m207/207\u001b[0m \u001b[32m━━━━━━━━━━━━━━━━━━━━\u001b[0m\u001b[37m\u001b[0m \u001b[1m1s\u001b[0m 3ms/step - loss: 2.6450 - mae: 0.8132 - mse: 2.6450 - val_loss: 3.4896 - val_mae: 0.9419 - val_mse: 3.4896\n",
      "Epoch 48/50\n",
      "\u001b[1m207/207\u001b[0m \u001b[32m━━━━━━━━━━━━━━━━━━━━\u001b[0m\u001b[37m\u001b[0m \u001b[1m1s\u001b[0m 3ms/step - loss: 2.7087 - mae: 0.8291 - mse: 2.7087 - val_loss: 3.5884 - val_mae: 0.9827 - val_mse: 3.5884\n",
      "Epoch 49/50\n",
      "\u001b[1m207/207\u001b[0m \u001b[32m━━━━━━━━━━━━━━━━━━━━\u001b[0m\u001b[37m\u001b[0m \u001b[1m1s\u001b[0m 3ms/step - loss: 2.7252 - mae: 0.8259 - mse: 2.7252 - val_loss: 3.4986 - val_mae: 0.9365 - val_mse: 3.4986\n",
      "Epoch 50/50\n",
      "\u001b[1m207/207\u001b[0m \u001b[32m━━━━━━━━━━━━━━━━━━━━\u001b[0m\u001b[37m\u001b[0m \u001b[1m1s\u001b[0m 3ms/step - loss: 2.7748 - mae: 0.8387 - mse: 2.7748 - val_loss: 3.5149 - val_mae: 0.9535 - val_mse: 3.5149\n"
     ]
    }
   ],
   "source": [
    "from tensorflow.keras.callbacks import EarlyStopping \n",
    "early_stop = EarlyStopping(monitor='val_accuracy',mode='max', patience=3, \n",
    "restore_best_weights=True) \n",
    "history_GK = model_GK.fit(X_GK_train, y_GK_train, \n",
    "epochs=50, \n",
    "validation_split=0.2, \n",
    "verbose=1, \n",
    "callbacks=[early_stop]) "
   ]
  },
  {
   "cell_type": "code",
   "execution_count": 48,
   "id": "cb631900",
   "metadata": {
    "execution": {
     "iopub.execute_input": "2025-10-21T18:37:43.184441Z",
     "iopub.status.busy": "2025-10-21T18:37:43.184121Z",
     "iopub.status.idle": "2025-10-21T18:41:21.131725Z",
     "shell.execute_reply": "2025-10-21T18:41:21.130849Z"
    },
    "papermill": {
     "duration": 218.387908,
     "end_time": "2025-10-21T18:41:21.133468",
     "exception": false,
     "start_time": "2025-10-21T18:37:42.745560",
     "status": "completed"
    },
    "tags": []
   },
   "outputs": [
    {
     "name": "stdout",
     "output_type": "stream",
     "text": [
      "Epoch 1/50\n",
      "\u001b[1m1868/1868\u001b[0m \u001b[32m━━━━━━━━━━━━━━━━━━━━\u001b[0m\u001b[37m\u001b[0m \u001b[1m5s\u001b[0m 2ms/step - loss: 4.6096 - mae: 1.2049 - mse: 4.6096 - val_loss: 4.6891 - val_mae: 1.2181 - val_mse: 4.6891\n",
      "Epoch 2/50\n",
      "\u001b[1m  76/1868\u001b[0m \u001b[37m━━━━━━━━━━━━━━━━━━━━\u001b[0m \u001b[1m3s\u001b[0m 2ms/step - loss: 3.7563 - mae: 1.0961 - mse: 3.7563"
     ]
    },
    {
     "name": "stderr",
     "output_type": "stream",
     "text": [
      "/usr/local/lib/python3.11/dist-packages/keras/src/callbacks/early_stopping.py:153: UserWarning: Early stopping conditioned on metric `val_accuracy` which is not available. Available metrics are: loss,mae,mse,val_loss,val_mae,val_mse\n",
      "  current = self.get_monitor_value(logs)\n"
     ]
    },
    {
     "name": "stdout",
     "output_type": "stream",
     "text": [
      "\u001b[1m1868/1868\u001b[0m \u001b[32m━━━━━━━━━━━━━━━━━━━━\u001b[0m\u001b[37m\u001b[0m \u001b[1m4s\u001b[0m 2ms/step - loss: 4.5535 - mae: 1.1975 - mse: 4.5535 - val_loss: 4.7315 - val_mae: 1.1542 - val_mse: 4.7315\n",
      "Epoch 3/50\n",
      "\u001b[1m1868/1868\u001b[0m \u001b[32m━━━━━━━━━━━━━━━━━━━━\u001b[0m\u001b[37m\u001b[0m \u001b[1m4s\u001b[0m 2ms/step - loss: 4.6162 - mae: 1.2026 - mse: 4.6162 - val_loss: 4.6994 - val_mae: 1.2169 - val_mse: 4.6994\n",
      "Epoch 4/50\n",
      "\u001b[1m1868/1868\u001b[0m \u001b[32m━━━━━━━━━━━━━━━━━━━━\u001b[0m\u001b[37m\u001b[0m \u001b[1m4s\u001b[0m 2ms/step - loss: 4.5019 - mae: 1.1861 - mse: 4.5019 - val_loss: 4.7716 - val_mae: 1.1733 - val_mse: 4.7716\n",
      "Epoch 5/50\n",
      "\u001b[1m1868/1868\u001b[0m \u001b[32m━━━━━━━━━━━━━━━━━━━━\u001b[0m\u001b[37m\u001b[0m \u001b[1m4s\u001b[0m 2ms/step - loss: 4.6922 - mae: 1.2166 - mse: 4.6922 - val_loss: 4.7170 - val_mae: 1.1814 - val_mse: 4.7170\n",
      "Epoch 6/50\n",
      "\u001b[1m1868/1868\u001b[0m \u001b[32m━━━━━━━━━━━━━━━━━━━━\u001b[0m\u001b[37m\u001b[0m \u001b[1m4s\u001b[0m 2ms/step - loss: 4.6101 - mae: 1.1988 - mse: 4.6101 - val_loss: 4.7038 - val_mae: 1.1866 - val_mse: 4.7038\n",
      "Epoch 7/50\n",
      "\u001b[1m1868/1868\u001b[0m \u001b[32m━━━━━━━━━━━━━━━━━━━━\u001b[0m\u001b[37m\u001b[0m \u001b[1m4s\u001b[0m 2ms/step - loss: 4.5111 - mae: 1.1936 - mse: 4.5111 - val_loss: 4.7062 - val_mae: 1.2243 - val_mse: 4.7062\n",
      "Epoch 8/50\n",
      "\u001b[1m1868/1868\u001b[0m \u001b[32m━━━━━━━━━━━━━━━━━━━━\u001b[0m\u001b[37m\u001b[0m \u001b[1m4s\u001b[0m 2ms/step - loss: 4.5445 - mae: 1.1913 - mse: 4.5445 - val_loss: 4.7134 - val_mae: 1.2504 - val_mse: 4.7134\n",
      "Epoch 9/50\n",
      "\u001b[1m1868/1868\u001b[0m \u001b[32m━━━━━━━━━━━━━━━━━━━━\u001b[0m\u001b[37m\u001b[0m \u001b[1m4s\u001b[0m 2ms/step - loss: 4.6288 - mae: 1.2075 - mse: 4.6288 - val_loss: 4.6934 - val_mae: 1.2212 - val_mse: 4.6934\n",
      "Epoch 10/50\n",
      "\u001b[1m1868/1868\u001b[0m \u001b[32m━━━━━━━━━━━━━━━━━━━━\u001b[0m\u001b[37m\u001b[0m \u001b[1m4s\u001b[0m 2ms/step - loss: 4.6289 - mae: 1.2033 - mse: 4.6289 - val_loss: 4.7017 - val_mae: 1.1948 - val_mse: 4.7017\n",
      "Epoch 11/50\n",
      "\u001b[1m1868/1868\u001b[0m \u001b[32m━━━━━━━━━━━━━━━━━━━━\u001b[0m\u001b[37m\u001b[0m \u001b[1m4s\u001b[0m 2ms/step - loss: 4.5640 - mae: 1.1969 - mse: 4.5640 - val_loss: 4.7169 - val_mae: 1.2151 - val_mse: 4.7169\n",
      "Epoch 12/50\n",
      "\u001b[1m1868/1868\u001b[0m \u001b[32m━━━━━━━━━━━━━━━━━━━━\u001b[0m\u001b[37m\u001b[0m \u001b[1m4s\u001b[0m 2ms/step - loss: 4.5747 - mae: 1.1964 - mse: 4.5747 - val_loss: 4.7186 - val_mae: 1.1912 - val_mse: 4.7186\n",
      "Epoch 13/50\n",
      "\u001b[1m1868/1868\u001b[0m \u001b[32m━━━━━━━━━━━━━━━━━━━━\u001b[0m\u001b[37m\u001b[0m \u001b[1m4s\u001b[0m 2ms/step - loss: 4.5295 - mae: 1.1928 - mse: 4.5295 - val_loss: 4.7353 - val_mae: 1.2632 - val_mse: 4.7353\n",
      "Epoch 14/50\n",
      "\u001b[1m1868/1868\u001b[0m \u001b[32m━━━━━━━━━━━━━━━━━━━━\u001b[0m\u001b[37m\u001b[0m \u001b[1m5s\u001b[0m 2ms/step - loss: 4.5970 - mae: 1.2139 - mse: 4.5970 - val_loss: 4.7602 - val_mae: 1.1870 - val_mse: 4.7602\n",
      "Epoch 15/50\n",
      "\u001b[1m1868/1868\u001b[0m \u001b[32m━━━━━━━━━━━━━━━━━━━━\u001b[0m\u001b[37m\u001b[0m \u001b[1m4s\u001b[0m 2ms/step - loss: 4.6491 - mae: 1.2032 - mse: 4.6491 - val_loss: 4.7284 - val_mae: 1.1919 - val_mse: 4.7284\n",
      "Epoch 16/50\n",
      "\u001b[1m1868/1868\u001b[0m \u001b[32m━━━━━━━━━━━━━━━━━━━━\u001b[0m\u001b[37m\u001b[0m \u001b[1m4s\u001b[0m 2ms/step - loss: 4.5305 - mae: 1.1916 - mse: 4.5305 - val_loss: 4.7216 - val_mae: 1.2150 - val_mse: 4.7216\n",
      "Epoch 17/50\n",
      "\u001b[1m1868/1868\u001b[0m \u001b[32m━━━━━━━━━━━━━━━━━━━━\u001b[0m\u001b[37m\u001b[0m \u001b[1m4s\u001b[0m 2ms/step - loss: 4.5819 - mae: 1.2085 - mse: 4.5819 - val_loss: 4.7416 - val_mae: 1.2074 - val_mse: 4.7416\n",
      "Epoch 18/50\n",
      "\u001b[1m1868/1868\u001b[0m \u001b[32m━━━━━━━━━━━━━━━━━━━━\u001b[0m\u001b[37m\u001b[0m \u001b[1m4s\u001b[0m 2ms/step - loss: 4.4674 - mae: 1.1859 - mse: 4.4674 - val_loss: 4.7412 - val_mae: 1.2033 - val_mse: 4.7412\n",
      "Epoch 19/50\n",
      "\u001b[1m1868/1868\u001b[0m \u001b[32m━━━━━━━━━━━━━━━━━━━━\u001b[0m\u001b[37m\u001b[0m \u001b[1m4s\u001b[0m 2ms/step - loss: 4.5955 - mae: 1.2063 - mse: 4.5955 - val_loss: 4.7350 - val_mae: 1.2179 - val_mse: 4.7350\n",
      "Epoch 20/50\n",
      "\u001b[1m1868/1868\u001b[0m \u001b[32m━━━━━━━━━━━━━━━━━━━━\u001b[0m\u001b[37m\u001b[0m \u001b[1m4s\u001b[0m 2ms/step - loss: 4.5006 - mae: 1.1910 - mse: 4.5006 - val_loss: 4.7378 - val_mae: 1.2160 - val_mse: 4.7378\n",
      "Epoch 21/50\n",
      "\u001b[1m1868/1868\u001b[0m \u001b[32m━━━━━━━━━━━━━━━━━━━━\u001b[0m\u001b[37m\u001b[0m \u001b[1m4s\u001b[0m 2ms/step - loss: 4.5503 - mae: 1.2025 - mse: 4.5503 - val_loss: 4.7479 - val_mae: 1.2274 - val_mse: 4.7479\n",
      "Epoch 22/50\n",
      "\u001b[1m1868/1868\u001b[0m \u001b[32m━━━━━━━━━━━━━━━━━━━━\u001b[0m\u001b[37m\u001b[0m \u001b[1m4s\u001b[0m 2ms/step - loss: 4.6162 - mae: 1.2128 - mse: 4.6162 - val_loss: 4.7575 - val_mae: 1.1845 - val_mse: 4.7575\n",
      "Epoch 23/50\n",
      "\u001b[1m1868/1868\u001b[0m \u001b[32m━━━━━━━━━━━━━━━━━━━━\u001b[0m\u001b[37m\u001b[0m \u001b[1m4s\u001b[0m 2ms/step - loss: 4.6912 - mae: 1.2100 - mse: 4.6912 - val_loss: 4.7318 - val_mae: 1.1875 - val_mse: 4.7318\n",
      "Epoch 24/50\n",
      "\u001b[1m1868/1868\u001b[0m \u001b[32m━━━━━━━━━━━━━━━━━━━━\u001b[0m\u001b[37m\u001b[0m \u001b[1m4s\u001b[0m 2ms/step - loss: 4.4677 - mae: 1.1876 - mse: 4.4677 - val_loss: 4.7455 - val_mae: 1.2308 - val_mse: 4.7455\n",
      "Epoch 25/50\n",
      "\u001b[1m1868/1868\u001b[0m \u001b[32m━━━━━━━━━━━━━━━━━━━━\u001b[0m\u001b[37m\u001b[0m \u001b[1m4s\u001b[0m 2ms/step - loss: 4.4748 - mae: 1.1825 - mse: 4.4748 - val_loss: 4.7853 - val_mae: 1.2363 - val_mse: 4.7853\n",
      "Epoch 26/50\n",
      "\u001b[1m1868/1868\u001b[0m \u001b[32m━━━━━━━━━━━━━━━━━━━━\u001b[0m\u001b[37m\u001b[0m \u001b[1m4s\u001b[0m 2ms/step - loss: 4.4678 - mae: 1.1873 - mse: 4.4678 - val_loss: 4.7622 - val_mae: 1.1988 - val_mse: 4.7622\n",
      "Epoch 27/50\n",
      "\u001b[1m1868/1868\u001b[0m \u001b[32m━━━━━━━━━━━━━━━━━━━━\u001b[0m\u001b[37m\u001b[0m \u001b[1m4s\u001b[0m 2ms/step - loss: 4.4992 - mae: 1.1930 - mse: 4.4992 - val_loss: 4.7892 - val_mae: 1.2164 - val_mse: 4.7892\n",
      "Epoch 28/50\n",
      "\u001b[1m1868/1868\u001b[0m \u001b[32m━━━━━━━━━━━━━━━━━━━━\u001b[0m\u001b[37m\u001b[0m \u001b[1m4s\u001b[0m 2ms/step - loss: 4.5153 - mae: 1.1864 - mse: 4.5153 - val_loss: 4.7622 - val_mae: 1.2431 - val_mse: 4.7622\n",
      "Epoch 29/50\n",
      "\u001b[1m1868/1868\u001b[0m \u001b[32m━━━━━━━━━━━━━━━━━━━━\u001b[0m\u001b[37m\u001b[0m \u001b[1m4s\u001b[0m 2ms/step - loss: 4.4602 - mae: 1.1858 - mse: 4.4602 - val_loss: 4.7538 - val_mae: 1.2403 - val_mse: 4.7538\n",
      "Epoch 30/50\n",
      "\u001b[1m1868/1868\u001b[0m \u001b[32m━━━━━━━━━━━━━━━━━━━━\u001b[0m\u001b[37m\u001b[0m \u001b[1m4s\u001b[0m 2ms/step - loss: 4.6164 - mae: 1.2064 - mse: 4.6164 - val_loss: 4.7643 - val_mae: 1.2225 - val_mse: 4.7643\n",
      "Epoch 31/50\n",
      "\u001b[1m1868/1868\u001b[0m \u001b[32m━━━━━━━━━━━━━━━━━━━━\u001b[0m\u001b[37m\u001b[0m \u001b[1m4s\u001b[0m 2ms/step - loss: 4.4715 - mae: 1.1883 - mse: 4.4715 - val_loss: 4.7626 - val_mae: 1.2082 - val_mse: 4.7626\n",
      "Epoch 32/50\n",
      "\u001b[1m1868/1868\u001b[0m \u001b[32m━━━━━━━━━━━━━━━━━━━━\u001b[0m\u001b[37m\u001b[0m \u001b[1m4s\u001b[0m 2ms/step - loss: 4.5180 - mae: 1.1921 - mse: 4.5180 - val_loss: 4.8140 - val_mae: 1.1969 - val_mse: 4.8140\n",
      "Epoch 33/50\n",
      "\u001b[1m1868/1868\u001b[0m \u001b[32m━━━━━━━━━━━━━━━━━━━━\u001b[0m\u001b[37m\u001b[0m \u001b[1m4s\u001b[0m 2ms/step - loss: 4.5335 - mae: 1.1987 - mse: 4.5335 - val_loss: 4.7551 - val_mae: 1.2020 - val_mse: 4.7551\n",
      "Epoch 34/50\n",
      "\u001b[1m1868/1868\u001b[0m \u001b[32m━━━━━━━━━━━━━━━━━━━━\u001b[0m\u001b[37m\u001b[0m \u001b[1m4s\u001b[0m 2ms/step - loss: 4.5017 - mae: 1.1924 - mse: 4.5017 - val_loss: 4.7855 - val_mae: 1.2646 - val_mse: 4.7855\n",
      "Epoch 35/50\n",
      "\u001b[1m1868/1868\u001b[0m \u001b[32m━━━━━━━━━━━━━━━━━━━━\u001b[0m\u001b[37m\u001b[0m \u001b[1m5s\u001b[0m 2ms/step - loss: 4.4698 - mae: 1.1869 - mse: 4.4698 - val_loss: 4.7912 - val_mae: 1.2206 - val_mse: 4.7912\n",
      "Epoch 36/50\n",
      "\u001b[1m1868/1868\u001b[0m \u001b[32m━━━━━━━━━━━━━━━━━━━━\u001b[0m\u001b[37m\u001b[0m \u001b[1m4s\u001b[0m 2ms/step - loss: 4.4323 - mae: 1.1826 - mse: 4.4323 - val_loss: 4.8104 - val_mae: 1.2060 - val_mse: 4.8104\n",
      "Epoch 37/50\n",
      "\u001b[1m1868/1868\u001b[0m \u001b[32m━━━━━━━━━━━━━━━━━━━━\u001b[0m\u001b[37m\u001b[0m \u001b[1m4s\u001b[0m 2ms/step - loss: 4.4533 - mae: 1.1877 - mse: 4.4533 - val_loss: 4.7874 - val_mae: 1.2723 - val_mse: 4.7874\n",
      "Epoch 38/50\n",
      "\u001b[1m1868/1868\u001b[0m \u001b[32m━━━━━━━━━━━━━━━━━━━━\u001b[0m\u001b[37m\u001b[0m \u001b[1m4s\u001b[0m 2ms/step - loss: 4.4671 - mae: 1.1948 - mse: 4.4671 - val_loss: 4.8221 - val_mae: 1.2380 - val_mse: 4.8221\n",
      "Epoch 39/50\n",
      "\u001b[1m1868/1868\u001b[0m \u001b[32m━━━━━━━━━━━━━━━━━━━━\u001b[0m\u001b[37m\u001b[0m \u001b[1m4s\u001b[0m 2ms/step - loss: 4.4702 - mae: 1.1817 - mse: 4.4702 - val_loss: 4.8109 - val_mae: 1.2517 - val_mse: 4.8109\n",
      "Epoch 40/50\n",
      "\u001b[1m1868/1868\u001b[0m \u001b[32m━━━━━━━━━━━━━━━━━━━━\u001b[0m\u001b[37m\u001b[0m \u001b[1m4s\u001b[0m 2ms/step - loss: 4.5534 - mae: 1.2010 - mse: 4.5534 - val_loss: 4.7733 - val_mae: 1.1954 - val_mse: 4.7733\n",
      "Epoch 41/50\n",
      "\u001b[1m1868/1868\u001b[0m \u001b[32m━━━━━━━━━━━━━━━━━━━━\u001b[0m\u001b[37m\u001b[0m \u001b[1m4s\u001b[0m 2ms/step - loss: 4.5314 - mae: 1.1962 - mse: 4.5314 - val_loss: 4.8168 - val_mae: 1.2447 - val_mse: 4.8168\n",
      "Epoch 42/50\n",
      "\u001b[1m1868/1868\u001b[0m \u001b[32m━━━━━━━━━━━━━━━━━━━━\u001b[0m\u001b[37m\u001b[0m \u001b[1m4s\u001b[0m 2ms/step - loss: 4.5051 - mae: 1.1911 - mse: 4.5051 - val_loss: 4.7959 - val_mae: 1.2038 - val_mse: 4.7959\n",
      "Epoch 43/50\n",
      "\u001b[1m1868/1868\u001b[0m \u001b[32m━━━━━━━━━━━━━━━━━━━━\u001b[0m\u001b[37m\u001b[0m \u001b[1m4s\u001b[0m 2ms/step - loss: 4.3773 - mae: 1.1738 - mse: 4.3773 - val_loss: 4.8169 - val_mae: 1.2255 - val_mse: 4.8169\n",
      "Epoch 44/50\n",
      "\u001b[1m1868/1868\u001b[0m \u001b[32m━━━━━━━━━━━━━━━━━━━━\u001b[0m\u001b[37m\u001b[0m \u001b[1m4s\u001b[0m 2ms/step - loss: 4.4526 - mae: 1.1764 - mse: 4.4526 - val_loss: 4.8273 - val_mae: 1.1822 - val_mse: 4.8273\n",
      "Epoch 45/50\n",
      "\u001b[1m1868/1868\u001b[0m \u001b[32m━━━━━━━━━━━━━━━━━━━━\u001b[0m\u001b[37m\u001b[0m \u001b[1m4s\u001b[0m 2ms/step - loss: 4.5318 - mae: 1.1865 - mse: 4.5318 - val_loss: 4.8000 - val_mae: 1.2418 - val_mse: 4.8000\n",
      "Epoch 46/50\n",
      "\u001b[1m1868/1868\u001b[0m \u001b[32m━━━━━━━━━━━━━━━━━━━━\u001b[0m\u001b[37m\u001b[0m \u001b[1m4s\u001b[0m 2ms/step - loss: 4.4734 - mae: 1.1808 - mse: 4.4734 - val_loss: 4.8414 - val_mae: 1.1827 - val_mse: 4.8414\n",
      "Epoch 47/50\n",
      "\u001b[1m1868/1868\u001b[0m \u001b[32m━━━━━━━━━━━━━━━━━━━━\u001b[0m\u001b[37m\u001b[0m \u001b[1m4s\u001b[0m 2ms/step - loss: 4.3811 - mae: 1.1743 - mse: 4.3811 - val_loss: 4.8491 - val_mae: 1.2159 - val_mse: 4.8491\n",
      "Epoch 48/50\n",
      "\u001b[1m1868/1868\u001b[0m \u001b[32m━━━━━━━━━━━━━━━━━━━━\u001b[0m\u001b[37m\u001b[0m \u001b[1m4s\u001b[0m 2ms/step - loss: 4.3855 - mae: 1.1738 - mse: 4.3855 - val_loss: 4.8075 - val_mae: 1.2345 - val_mse: 4.8075\n",
      "Epoch 49/50\n",
      "\u001b[1m1868/1868\u001b[0m \u001b[32m━━━━━━━━━━━━━━━━━━━━\u001b[0m\u001b[37m\u001b[0m \u001b[1m4s\u001b[0m 2ms/step - loss: 4.4539 - mae: 1.1890 - mse: 4.4539 - val_loss: 4.7924 - val_mae: 1.2102 - val_mse: 4.7924\n",
      "Epoch 50/50\n",
      "\u001b[1m1868/1868\u001b[0m \u001b[32m━━━━━━━━━━━━━━━━━━━━\u001b[0m\u001b[37m\u001b[0m \u001b[1m4s\u001b[0m 2ms/step - loss: 4.3602 - mae: 1.1718 - mse: 4.3602 - val_loss: 4.8424 - val_mae: 1.1836 - val_mse: 4.8424\n"
     ]
    }
   ],
   "source": [
    "from tensorflow.keras.callbacks import EarlyStopping \n",
    "early_stop = EarlyStopping(monitor='val_accuracy',mode='max', patience=3, \n",
    "restore_best_weights=True) \n",
    "history_overAll = model_overAll.fit(X_overAll_train, y_overAll_train, \n",
    "epochs=50, \n",
    "validation_split=0.2, \n",
    "verbose=1, \n",
    "callbacks=[early_stop]) "
   ]
  },
  {
   "cell_type": "code",
   "execution_count": 49,
   "id": "0f898fe0",
   "metadata": {
    "execution": {
     "iopub.execute_input": "2025-10-21T18:41:22.306218Z",
     "iopub.status.busy": "2025-10-21T18:41:22.305904Z",
     "iopub.status.idle": "2025-10-21T18:42:40.234324Z",
     "shell.execute_reply": "2025-10-21T18:42:40.233216Z"
    },
    "papermill": {
     "duration": 78.474646,
     "end_time": "2025-10-21T18:42:40.236204",
     "exception": false,
     "start_time": "2025-10-21T18:41:21.761558",
     "status": "completed"
    },
    "tags": []
   },
   "outputs": [
    {
     "name": "stdout",
     "output_type": "stream",
     "text": [
      "Epoch 1/20\n",
      "\u001b[1m1661/1661\u001b[0m \u001b[32m━━━━━━━━━━━━━━━━━━━━\u001b[0m\u001b[37m\u001b[0m \u001b[1m4s\u001b[0m 2ms/step - loss: 4.6368 - mae: 1.2278 - mse: 4.6368 - val_loss: 5.0490 - val_mae: 1.2642 - val_mse: 5.0490\n",
      "Epoch 2/20\n",
      "\u001b[1m1661/1661\u001b[0m \u001b[32m━━━━━━━━━━━━━━━━━━━━\u001b[0m\u001b[37m\u001b[0m \u001b[1m4s\u001b[0m 2ms/step - loss: 4.5913 - mae: 1.2144 - mse: 4.5913 - val_loss: 5.0441 - val_mae: 1.2999 - val_mse: 5.0441\n",
      "Epoch 3/20\n",
      "\u001b[1m1661/1661\u001b[0m \u001b[32m━━━━━━━━━━━━━━━━━━━━\u001b[0m\u001b[37m\u001b[0m \u001b[1m4s\u001b[0m 2ms/step - loss: 4.5935 - mae: 1.2229 - mse: 4.5935 - val_loss: 5.0959 - val_mae: 1.2361 - val_mse: 5.0959\n",
      "Epoch 4/20\n",
      "\u001b[1m1661/1661\u001b[0m \u001b[32m━━━━━━━━━━━━━━━━━━━━\u001b[0m\u001b[37m\u001b[0m \u001b[1m4s\u001b[0m 2ms/step - loss: 4.5815 - mae: 1.2149 - mse: 4.5815 - val_loss: 5.0583 - val_mae: 1.2409 - val_mse: 5.0583\n",
      "Epoch 5/20\n",
      "\u001b[1m1661/1661\u001b[0m \u001b[32m━━━━━━━━━━━━━━━━━━━━\u001b[0m\u001b[37m\u001b[0m \u001b[1m4s\u001b[0m 2ms/step - loss: 4.6524 - mae: 1.2298 - mse: 4.6524 - val_loss: 5.0141 - val_mae: 1.2808 - val_mse: 5.0141\n",
      "Epoch 6/20\n",
      "\u001b[1m1661/1661\u001b[0m \u001b[32m━━━━━━━━━━━━━━━━━━━━\u001b[0m\u001b[37m\u001b[0m \u001b[1m4s\u001b[0m 2ms/step - loss: 4.6548 - mae: 1.2286 - mse: 4.6548 - val_loss: 5.0347 - val_mae: 1.2969 - val_mse: 5.0347\n",
      "Epoch 7/20\n",
      "\u001b[1m1661/1661\u001b[0m \u001b[32m━━━━━━━━━━━━━━━━━━━━\u001b[0m\u001b[37m\u001b[0m \u001b[1m4s\u001b[0m 2ms/step - loss: 4.6931 - mae: 1.2282 - mse: 4.6931 - val_loss: 5.0219 - val_mae: 1.2698 - val_mse: 5.0219\n",
      "Epoch 8/20\n",
      "\u001b[1m1661/1661\u001b[0m \u001b[32m━━━━━━━━━━━━━━━━━━━━\u001b[0m\u001b[37m\u001b[0m \u001b[1m4s\u001b[0m 2ms/step - loss: 4.7510 - mae: 1.2414 - mse: 4.7510 - val_loss: 5.0272 - val_mae: 1.3016 - val_mse: 5.0272\n",
      "Epoch 9/20\n",
      "\u001b[1m1661/1661\u001b[0m \u001b[32m━━━━━━━━━━━━━━━━━━━━\u001b[0m\u001b[37m\u001b[0m \u001b[1m4s\u001b[0m 2ms/step - loss: 4.5867 - mae: 1.2133 - mse: 4.5867 - val_loss: 5.0701 - val_mae: 1.2594 - val_mse: 5.0701\n",
      "Epoch 10/20\n",
      "\u001b[1m1661/1661\u001b[0m \u001b[32m━━━━━━━━━━━━━━━━━━━━\u001b[0m\u001b[37m\u001b[0m \u001b[1m4s\u001b[0m 2ms/step - loss: 4.6836 - mae: 1.2294 - mse: 4.6836 - val_loss: 5.0806 - val_mae: 1.2797 - val_mse: 5.0806\n",
      "Epoch 11/20\n",
      "\u001b[1m1661/1661\u001b[0m \u001b[32m━━━━━━━━━━━━━━━━━━━━\u001b[0m\u001b[37m\u001b[0m \u001b[1m4s\u001b[0m 2ms/step - loss: 4.6533 - mae: 1.2336 - mse: 4.6533 - val_loss: 5.0511 - val_mae: 1.2874 - val_mse: 5.0511\n",
      "Epoch 12/20\n",
      "\u001b[1m1661/1661\u001b[0m \u001b[32m━━━━━━━━━━━━━━━━━━━━\u001b[0m\u001b[37m\u001b[0m \u001b[1m4s\u001b[0m 2ms/step - loss: 4.7080 - mae: 1.2415 - mse: 4.7080 - val_loss: 5.0468 - val_mae: 1.2903 - val_mse: 5.0468\n",
      "Epoch 13/20\n",
      "\u001b[1m1661/1661\u001b[0m \u001b[32m━━━━━━━━━━━━━━━━━━━━\u001b[0m\u001b[37m\u001b[0m \u001b[1m4s\u001b[0m 2ms/step - loss: 4.6365 - mae: 1.2287 - mse: 4.6365 - val_loss: 5.0637 - val_mae: 1.3154 - val_mse: 5.0637\n",
      "Epoch 14/20\n",
      "\u001b[1m1661/1661\u001b[0m \u001b[32m━━━━━━━━━━━━━━━━━━━━\u001b[0m\u001b[37m\u001b[0m \u001b[1m4s\u001b[0m 2ms/step - loss: 4.5299 - mae: 1.2162 - mse: 4.5299 - val_loss: 5.1027 - val_mae: 1.2867 - val_mse: 5.1027\n",
      "Epoch 15/20\n",
      "\u001b[1m1661/1661\u001b[0m \u001b[32m━━━━━━━━━━━━━━━━━━━━\u001b[0m\u001b[37m\u001b[0m \u001b[1m4s\u001b[0m 2ms/step - loss: 4.6924 - mae: 1.2369 - mse: 4.6924 - val_loss: 5.0886 - val_mae: 1.2999 - val_mse: 5.0886\n",
      "Epoch 16/20\n",
      "\u001b[1m1661/1661\u001b[0m \u001b[32m━━━━━━━━━━━━━━━━━━━━\u001b[0m\u001b[37m\u001b[0m \u001b[1m4s\u001b[0m 2ms/step - loss: 4.5721 - mae: 1.2223 - mse: 4.5721 - val_loss: 5.0840 - val_mae: 1.2945 - val_mse: 5.0840\n",
      "Epoch 17/20\n",
      "\u001b[1m1661/1661\u001b[0m \u001b[32m━━━━━━━━━━━━━━━━━━━━\u001b[0m\u001b[37m\u001b[0m \u001b[1m4s\u001b[0m 2ms/step - loss: 4.5693 - mae: 1.2163 - mse: 4.5693 - val_loss: 5.0932 - val_mae: 1.3442 - val_mse: 5.0932\n",
      "Epoch 18/20\n",
      "\u001b[1m1661/1661\u001b[0m \u001b[32m━━━━━━━━━━━━━━━━━━━━\u001b[0m\u001b[37m\u001b[0m \u001b[1m4s\u001b[0m 2ms/step - loss: 4.6105 - mae: 1.2351 - mse: 4.6105 - val_loss: 5.0761 - val_mae: 1.2838 - val_mse: 5.0761\n",
      "Epoch 19/20\n",
      "\u001b[1m1661/1661\u001b[0m \u001b[32m━━━━━━━━━━━━━━━━━━━━\u001b[0m\u001b[37m\u001b[0m \u001b[1m4s\u001b[0m 2ms/step - loss: 4.5689 - mae: 1.2213 - mse: 4.5689 - val_loss: 5.0682 - val_mae: 1.2869 - val_mse: 5.0682\n",
      "Epoch 20/20\n",
      "\u001b[1m1661/1661\u001b[0m \u001b[32m━━━━━━━━━━━━━━━━━━━━\u001b[0m\u001b[37m\u001b[0m \u001b[1m4s\u001b[0m 2ms/step - loss: 4.4502 - mae: 1.1973 - mse: 4.4502 - val_loss: 5.1250 - val_mae: 1.3389 - val_mse: 5.1250\n"
     ]
    }
   ],
   "source": [
    "history_Player = model_Player.fit(X_Player_train, y_Player_train, epochs=20, batch_size=32, \n",
    "validation_split=0.2, verbose=1) "
   ]
  },
  {
   "cell_type": "code",
   "execution_count": 50,
   "id": "1e956815",
   "metadata": {
    "execution": {
     "iopub.execute_input": "2025-10-21T18:42:41.546054Z",
     "iopub.status.busy": "2025-10-21T18:42:41.545654Z",
     "iopub.status.idle": "2025-10-21T18:42:53.879562Z",
     "shell.execute_reply": "2025-10-21T18:42:53.878526Z"
    },
    "papermill": {
     "duration": 13.019357,
     "end_time": "2025-10-21T18:42:53.881477",
     "exception": false,
     "start_time": "2025-10-21T18:42:40.862120",
     "status": "completed"
    },
    "tags": []
   },
   "outputs": [
    {
     "name": "stdout",
     "output_type": "stream",
     "text": [
      "Epoch 1/20\n",
      "\u001b[1m207/207\u001b[0m \u001b[32m━━━━━━━━━━━━━━━━━━━━\u001b[0m\u001b[37m\u001b[0m \u001b[1m1s\u001b[0m 3ms/step - loss: 2.7938 - mae: 0.8387 - mse: 2.7938 - val_loss: 3.5157 - val_mae: 0.9909 - val_mse: 3.5157\n",
      "Epoch 2/20\n",
      "\u001b[1m207/207\u001b[0m \u001b[32m━━━━━━━━━━━━━━━━━━━━\u001b[0m\u001b[37m\u001b[0m \u001b[1m1s\u001b[0m 3ms/step - loss: 2.9038 - mae: 0.8776 - mse: 2.9038 - val_loss: 3.5400 - val_mae: 0.9276 - val_mse: 3.5400\n",
      "Epoch 3/20\n",
      "\u001b[1m207/207\u001b[0m \u001b[32m━━━━━━━━━━━━━━━━━━━━\u001b[0m\u001b[37m\u001b[0m \u001b[1m1s\u001b[0m 3ms/step - loss: 2.8212 - mae: 0.8378 - mse: 2.8212 - val_loss: 3.5077 - val_mae: 0.9413 - val_mse: 3.5077\n",
      "Epoch 4/20\n",
      "\u001b[1m207/207\u001b[0m \u001b[32m━━━━━━━━━━━━━━━━━━━━\u001b[0m\u001b[37m\u001b[0m \u001b[1m1s\u001b[0m 3ms/step - loss: 2.6896 - mae: 0.7853 - mse: 2.6896 - val_loss: 3.5217 - val_mae: 0.9158 - val_mse: 3.5217\n",
      "Epoch 5/20\n",
      "\u001b[1m207/207\u001b[0m \u001b[32m━━━━━━━━━━━━━━━━━━━━\u001b[0m\u001b[37m\u001b[0m \u001b[1m1s\u001b[0m 3ms/step - loss: 2.6366 - mae: 0.8000 - mse: 2.6366 - val_loss: 3.5227 - val_mae: 0.9253 - val_mse: 3.5227\n",
      "Epoch 6/20\n",
      "\u001b[1m207/207\u001b[0m \u001b[32m━━━━━━━━━━━━━━━━━━━━\u001b[0m\u001b[37m\u001b[0m \u001b[1m1s\u001b[0m 3ms/step - loss: 2.8222 - mae: 0.8203 - mse: 2.8222 - val_loss: 3.5388 - val_mae: 0.9848 - val_mse: 3.5388\n",
      "Epoch 7/20\n",
      "\u001b[1m207/207\u001b[0m \u001b[32m━━━━━━━━━━━━━━━━━━━━\u001b[0m\u001b[37m\u001b[0m \u001b[1m1s\u001b[0m 3ms/step - loss: 2.5864 - mae: 0.8140 - mse: 2.5864 - val_loss: 3.4989 - val_mae: 0.9837 - val_mse: 3.4989\n",
      "Epoch 8/20\n",
      "\u001b[1m207/207\u001b[0m \u001b[32m━━━━━━━━━━━━━━━━━━━━\u001b[0m\u001b[37m\u001b[0m \u001b[1m1s\u001b[0m 3ms/step - loss: 2.6738 - mae: 0.8098 - mse: 2.6738 - val_loss: 3.5349 - val_mae: 0.9741 - val_mse: 3.5349\n",
      "Epoch 9/20\n",
      "\u001b[1m207/207\u001b[0m \u001b[32m━━━━━━━━━━━━━━━━━━━━\u001b[0m\u001b[37m\u001b[0m \u001b[1m1s\u001b[0m 3ms/step - loss: 2.6933 - mae: 0.8195 - mse: 2.6933 - val_loss: 3.5182 - val_mae: 0.9257 - val_mse: 3.5182\n",
      "Epoch 10/20\n",
      "\u001b[1m207/207\u001b[0m \u001b[32m━━━━━━━━━━━━━━━━━━━━\u001b[0m\u001b[37m\u001b[0m \u001b[1m1s\u001b[0m 3ms/step - loss: 2.7624 - mae: 0.8155 - mse: 2.7624 - val_loss: 3.6294 - val_mae: 0.9511 - val_mse: 3.6294\n",
      "Epoch 11/20\n",
      "\u001b[1m207/207\u001b[0m \u001b[32m━━━━━━━━━━━━━━━━━━━━\u001b[0m\u001b[37m\u001b[0m \u001b[1m1s\u001b[0m 3ms/step - loss: 2.8388 - mae: 0.8402 - mse: 2.8388 - val_loss: 3.5584 - val_mae: 0.8909 - val_mse: 3.5584\n",
      "Epoch 12/20\n",
      "\u001b[1m207/207\u001b[0m \u001b[32m━━━━━━━━━━━━━━━━━━━━\u001b[0m\u001b[37m\u001b[0m \u001b[1m1s\u001b[0m 3ms/step - loss: 2.5726 - mae: 0.7987 - mse: 2.5726 - val_loss: 3.4988 - val_mae: 0.9697 - val_mse: 3.4988\n",
      "Epoch 13/20\n",
      "\u001b[1m207/207\u001b[0m \u001b[32m━━━━━━━━━━━━━━━━━━━━\u001b[0m\u001b[37m\u001b[0m \u001b[1m1s\u001b[0m 3ms/step - loss: 2.6496 - mae: 0.8274 - mse: 2.6496 - val_loss: 3.5197 - val_mae: 0.9383 - val_mse: 3.5197\n",
      "Epoch 14/20\n",
      "\u001b[1m207/207\u001b[0m \u001b[32m━━━━━━━━━━━━━━━━━━━━\u001b[0m\u001b[37m\u001b[0m \u001b[1m1s\u001b[0m 3ms/step - loss: 2.6792 - mae: 0.8083 - mse: 2.6792 - val_loss: 3.5224 - val_mae: 0.9398 - val_mse: 3.5224\n",
      "Epoch 15/20\n",
      "\u001b[1m207/207\u001b[0m \u001b[32m━━━━━━━━━━━━━━━━━━━━\u001b[0m\u001b[37m\u001b[0m \u001b[1m1s\u001b[0m 3ms/step - loss: 2.7199 - mae: 0.8204 - mse: 2.7199 - val_loss: 3.4981 - val_mae: 0.9304 - val_mse: 3.4981\n",
      "Epoch 16/20\n",
      "\u001b[1m207/207\u001b[0m \u001b[32m━━━━━━━━━━━━━━━━━━━━\u001b[0m\u001b[37m\u001b[0m \u001b[1m1s\u001b[0m 3ms/step - loss: 2.6256 - mae: 0.8007 - mse: 2.6256 - val_loss: 3.5394 - val_mae: 1.0006 - val_mse: 3.5394\n",
      "Epoch 17/20\n",
      "\u001b[1m207/207\u001b[0m \u001b[32m━━━━━━━━━━━━━━━━━━━━\u001b[0m\u001b[37m\u001b[0m \u001b[1m1s\u001b[0m 3ms/step - loss: 2.6542 - mae: 0.8230 - mse: 2.6542 - val_loss: 3.5230 - val_mae: 0.9519 - val_mse: 3.5230\n",
      "Epoch 18/20\n",
      "\u001b[1m207/207\u001b[0m \u001b[32m━━━━━━━━━━━━━━━━━━━━\u001b[0m\u001b[37m\u001b[0m \u001b[1m1s\u001b[0m 3ms/step - loss: 2.7763 - mae: 0.8294 - mse: 2.7763 - val_loss: 3.5455 - val_mae: 0.9154 - val_mse: 3.5455\n",
      "Epoch 19/20\n",
      "\u001b[1m207/207\u001b[0m \u001b[32m━━━━━━━━━━━━━━━━━━━━\u001b[0m\u001b[37m\u001b[0m \u001b[1m1s\u001b[0m 3ms/step - loss: 2.8750 - mae: 0.8621 - mse: 2.8750 - val_loss: 3.5823 - val_mae: 0.9456 - val_mse: 3.5823\n",
      "Epoch 20/20\n",
      "\u001b[1m207/207\u001b[0m \u001b[32m━━━━━━━━━━━━━━━━━━━━\u001b[0m\u001b[37m\u001b[0m \u001b[1m1s\u001b[0m 3ms/step - loss: 2.8090 - mae: 0.8280 - mse: 2.8090 - val_loss: 3.5987 - val_mae: 1.0097 - val_mse: 3.5987\n"
     ]
    }
   ],
   "source": [
    "history_GK = model_GK.fit(X_GK_train, y_GK_train, epochs=20, batch_size=32, \n",
    "validation_split=0.2, verbose=1)"
   ]
  },
  {
   "cell_type": "code",
   "execution_count": 51,
   "id": "40b67005",
   "metadata": {
    "execution": {
     "iopub.execute_input": "2025-10-21T18:42:55.200595Z",
     "iopub.status.busy": "2025-10-21T18:42:55.200275Z",
     "iopub.status.idle": "2025-10-21T18:44:23.364369Z",
     "shell.execute_reply": "2025-10-21T18:44:23.363108Z"
    },
    "papermill": {
     "duration": 88.864711,
     "end_time": "2025-10-21T18:44:23.366554",
     "exception": false,
     "start_time": "2025-10-21T18:42:54.501843",
     "status": "completed"
    },
    "tags": []
   },
   "outputs": [
    {
     "name": "stdout",
     "output_type": "stream",
     "text": [
      "Epoch 1/20\n",
      "\u001b[1m1868/1868\u001b[0m \u001b[32m━━━━━━━━━━━━━━━━━━━━\u001b[0m\u001b[37m\u001b[0m \u001b[1m5s\u001b[0m 2ms/step - loss: 4.3022 - mae: 1.1637 - mse: 4.3022 - val_loss: 4.8341 - val_mae: 1.2360 - val_mse: 4.8341\n",
      "Epoch 2/20\n",
      "\u001b[1m1868/1868\u001b[0m \u001b[32m━━━━━━━━━━━━━━━━━━━━\u001b[0m\u001b[37m\u001b[0m \u001b[1m5s\u001b[0m 2ms/step - loss: 4.3786 - mae: 1.1726 - mse: 4.3786 - val_loss: 4.8230 - val_mae: 1.2360 - val_mse: 4.8230\n",
      "Epoch 3/20\n",
      "\u001b[1m1868/1868\u001b[0m \u001b[32m━━━━━━━━━━━━━━━━━━━━\u001b[0m\u001b[37m\u001b[0m \u001b[1m5s\u001b[0m 2ms/step - loss: 4.3421 - mae: 1.1745 - mse: 4.3421 - val_loss: 4.8387 - val_mae: 1.2539 - val_mse: 4.8387\n",
      "Epoch 4/20\n",
      "\u001b[1m1868/1868\u001b[0m \u001b[32m━━━━━━━━━━━━━━━━━━━━\u001b[0m\u001b[37m\u001b[0m \u001b[1m4s\u001b[0m 2ms/step - loss: 4.4009 - mae: 1.1807 - mse: 4.4009 - val_loss: 4.8949 - val_mae: 1.2538 - val_mse: 4.8949\n",
      "Epoch 5/20\n",
      "\u001b[1m1868/1868\u001b[0m \u001b[32m━━━━━━━━━━━━━━━━━━━━\u001b[0m\u001b[37m\u001b[0m \u001b[1m4s\u001b[0m 2ms/step - loss: 4.3447 - mae: 1.1723 - mse: 4.3447 - val_loss: 4.8538 - val_mae: 1.2256 - val_mse: 4.8538\n",
      "Epoch 6/20\n",
      "\u001b[1m1868/1868\u001b[0m \u001b[32m━━━━━━━━━━━━━━━━━━━━\u001b[0m\u001b[37m\u001b[0m \u001b[1m4s\u001b[0m 2ms/step - loss: 4.4785 - mae: 1.1933 - mse: 4.4785 - val_loss: 4.8637 - val_mae: 1.2154 - val_mse: 4.8637\n",
      "Epoch 7/20\n",
      "\u001b[1m1868/1868\u001b[0m \u001b[32m━━━━━━━━━━━━━━━━━━━━\u001b[0m\u001b[37m\u001b[0m \u001b[1m4s\u001b[0m 2ms/step - loss: 4.4229 - mae: 1.1789 - mse: 4.4229 - val_loss: 4.8482 - val_mae: 1.2262 - val_mse: 4.8482\n",
      "Epoch 8/20\n",
      "\u001b[1m1868/1868\u001b[0m \u001b[32m━━━━━━━━━━━━━━━━━━━━\u001b[0m\u001b[37m\u001b[0m \u001b[1m4s\u001b[0m 2ms/step - loss: 4.3935 - mae: 1.1841 - mse: 4.3935 - val_loss: 4.8236 - val_mae: 1.2279 - val_mse: 4.8236\n",
      "Epoch 9/20\n",
      "\u001b[1m1868/1868\u001b[0m \u001b[32m━━━━━━━━━━━━━━━━━━━━\u001b[0m\u001b[37m\u001b[0m \u001b[1m4s\u001b[0m 2ms/step - loss: 4.3364 - mae: 1.1776 - mse: 4.3364 - val_loss: 4.8679 - val_mae: 1.2156 - val_mse: 4.8679\n",
      "Epoch 10/20\n",
      "\u001b[1m1868/1868\u001b[0m \u001b[32m━━━━━━━━━━━━━━━━━━━━\u001b[0m\u001b[37m\u001b[0m \u001b[1m4s\u001b[0m 2ms/step - loss: 4.3148 - mae: 1.1705 - mse: 4.3148 - val_loss: 4.8690 - val_mae: 1.2243 - val_mse: 4.8690\n",
      "Epoch 11/20\n",
      "\u001b[1m1868/1868\u001b[0m \u001b[32m━━━━━━━━━━━━━━━━━━━━\u001b[0m\u001b[37m\u001b[0m \u001b[1m4s\u001b[0m 2ms/step - loss: 4.2493 - mae: 1.1625 - mse: 4.2493 - val_loss: 4.8936 - val_mae: 1.2403 - val_mse: 4.8936\n",
      "Epoch 12/20\n",
      "\u001b[1m1868/1868\u001b[0m \u001b[32m━━━━━━━━━━━━━━━━━━━━\u001b[0m\u001b[37m\u001b[0m \u001b[1m5s\u001b[0m 2ms/step - loss: 4.3303 - mae: 1.1686 - mse: 4.3303 - val_loss: 4.8396 - val_mae: 1.2544 - val_mse: 4.8396\n",
      "Epoch 13/20\n",
      "\u001b[1m1868/1868\u001b[0m \u001b[32m━━━━━━━━━━━━━━━━━━━━\u001b[0m\u001b[37m\u001b[0m \u001b[1m4s\u001b[0m 2ms/step - loss: 4.3268 - mae: 1.1680 - mse: 4.3268 - val_loss: 4.8723 - val_mae: 1.2782 - val_mse: 4.8723\n",
      "Epoch 14/20\n",
      "\u001b[1m1868/1868\u001b[0m \u001b[32m━━━━━━━━━━━━━━━━━━━━\u001b[0m\u001b[37m\u001b[0m \u001b[1m4s\u001b[0m 2ms/step - loss: 4.3341 - mae: 1.1716 - mse: 4.3341 - val_loss: 4.8961 - val_mae: 1.2543 - val_mse: 4.8961\n",
      "Epoch 15/20\n",
      "\u001b[1m1868/1868\u001b[0m \u001b[32m━━━━━━━━━━━━━━━━━━━━\u001b[0m\u001b[37m\u001b[0m \u001b[1m4s\u001b[0m 2ms/step - loss: 4.3138 - mae: 1.1701 - mse: 4.3138 - val_loss: 4.8230 - val_mae: 1.2314 - val_mse: 4.8230\n",
      "Epoch 16/20\n",
      "\u001b[1m1868/1868\u001b[0m \u001b[32m━━━━━━━━━━━━━━━━━━━━\u001b[0m\u001b[37m\u001b[0m \u001b[1m4s\u001b[0m 2ms/step - loss: 4.3673 - mae: 1.1709 - mse: 4.3673 - val_loss: 4.8966 - val_mae: 1.2198 - val_mse: 4.8966\n",
      "Epoch 17/20\n",
      "\u001b[1m1868/1868\u001b[0m \u001b[32m━━━━━━━━━━━━━━━━━━━━\u001b[0m\u001b[37m\u001b[0m \u001b[1m4s\u001b[0m 2ms/step - loss: 4.3159 - mae: 1.1688 - mse: 4.3159 - val_loss: 4.8563 - val_mae: 1.2453 - val_mse: 4.8563\n",
      "Epoch 18/20\n",
      "\u001b[1m1868/1868\u001b[0m \u001b[32m━━━━━━━━━━━━━━━━━━━━\u001b[0m\u001b[37m\u001b[0m \u001b[1m4s\u001b[0m 2ms/step - loss: 4.2555 - mae: 1.1554 - mse: 4.2555 - val_loss: 4.8745 - val_mae: 1.2194 - val_mse: 4.8745\n",
      "Epoch 19/20\n",
      "\u001b[1m1868/1868\u001b[0m \u001b[32m━━━━━━━━━━━━━━━━━━━━\u001b[0m\u001b[37m\u001b[0m \u001b[1m4s\u001b[0m 2ms/step - loss: 4.3325 - mae: 1.1724 - mse: 4.3325 - val_loss: 4.8514 - val_mae: 1.2377 - val_mse: 4.8514\n",
      "Epoch 20/20\n",
      "\u001b[1m1868/1868\u001b[0m \u001b[32m━━━━━━━━━━━━━━━━━━━━\u001b[0m\u001b[37m\u001b[0m \u001b[1m4s\u001b[0m 2ms/step - loss: 4.2344 - mae: 1.1540 - mse: 4.2344 - val_loss: 4.9040 - val_mae: 1.2328 - val_mse: 4.9040\n"
     ]
    }
   ],
   "source": [
    "history_overAll = model_overAll.fit(X_overAll_train, y_overAll_train, epochs=20, batch_size=32, \n",
    "validation_split=0.2, verbose=1)"
   ]
  },
  {
   "cell_type": "code",
   "execution_count": 52,
   "id": "70f41cab",
   "metadata": {
    "execution": {
     "iopub.execute_input": "2025-10-21T18:44:24.900299Z",
     "iopub.status.busy": "2025-10-21T18:44:24.899961Z",
     "iopub.status.idle": "2025-10-21T18:44:24.904313Z",
     "shell.execute_reply": "2025-10-21T18:44:24.903244Z"
    },
    "papermill": {
     "duration": 0.788785,
     "end_time": "2025-10-21T18:44:24.905803",
     "exception": false,
     "start_time": "2025-10-21T18:44:24.117018",
     "status": "completed"
    },
    "tags": []
   },
   "outputs": [],
   "source": [
    "# # Plot accuracy, precision, and recall from training history \n",
    "# plt.plot(history_Player.history['accuracy'], label='Train Accuracy') \n",
    "# plt.plot(history_Player.history['val_accuracy'], label='Val Accuracy') \n",
    " \n",
    "# plt.plot(history_Player.history['precision'], label='Train Precision') \n",
    "# plt.plot(history_Player.history['val_precision'], label='Val Precision') \n",
    " \n",
    "# plt.plot(history_Player.history['recall'], label='Train Recall') \n",
    "# plt.plot(history_Player.history['val_recall'], label='Val Recall') \n",
    " \n",
    "# plt.xlabel('Epoch') \n",
    "# plt.ylabel('Score') \n",
    "# plt.title('Training Progress (Accuracy, Precision, Recall)') \n",
    "# plt.legend() \n",
    "# plt.show() "
   ]
  },
  {
   "cell_type": "code",
   "execution_count": 53,
   "id": "2bb4998d",
   "metadata": {
    "execution": {
     "iopub.execute_input": "2025-10-21T18:44:26.420324Z",
     "iopub.status.busy": "2025-10-21T18:44:26.420007Z",
     "iopub.status.idle": "2025-10-21T18:44:26.424793Z",
     "shell.execute_reply": "2025-10-21T18:44:26.423835Z"
    },
    "papermill": {
     "duration": 0.732613,
     "end_time": "2025-10-21T18:44:26.426500",
     "exception": false,
     "start_time": "2025-10-21T18:44:25.693887",
     "status": "completed"
    },
    "tags": []
   },
   "outputs": [],
   "source": [
    "# # Plot accuracy, precision, and recall from training history \n",
    "# plt.plot(history_GK.history['accuracy'], label='Train Accuracy') \n",
    "# plt.plot(history_GK.history['val_accuracy'], label='Val Accuracy') \n",
    " \n",
    "# plt.plot(history_GK.history['precision'], label='Train Precision') \n",
    "# plt.plot(history_GK.history['val_precision'], label='Val Precision') \n",
    " \n",
    "# plt.plot(history_GK.history['recall'], label='Train Recall') \n",
    "# plt.plot(history_GK.history['val_recall'], label='Val Recall') \n",
    " \n",
    "# plt.xlabel('Epoch') \n",
    "# plt.ylabel('Score') \n",
    "# plt.title('Training Progress (Accuracy, Precision, Recall)') \n",
    "# plt.legend() \n",
    "# plt.show() "
   ]
  },
  {
   "cell_type": "code",
   "execution_count": 54,
   "id": "4ff13774",
   "metadata": {
    "execution": {
     "iopub.execute_input": "2025-10-21T18:44:27.889300Z",
     "iopub.status.busy": "2025-10-21T18:44:27.888834Z",
     "iopub.status.idle": "2025-10-21T18:44:27.894241Z",
     "shell.execute_reply": "2025-10-21T18:44:27.892658Z"
    },
    "papermill": {
     "duration": 0.700708,
     "end_time": "2025-10-21T18:44:27.895899",
     "exception": false,
     "start_time": "2025-10-21T18:44:27.195191",
     "status": "completed"
    },
    "tags": []
   },
   "outputs": [],
   "source": [
    "# test_loss, test_accuracy, test_precision, test_recall = model_Player.evaluate(X_test, \n",
    "# y_test, verbose=0) \n",
    " \n",
    "# print(\"Test Loss:\", test_loss) \n",
    "# print(\"Test Accuracy:\", test_accuracy) \n",
    "# print(\"Test Precision:\", test_precision) \n",
    "# print(\"Test Recall:\", test_recall) "
   ]
  },
  {
   "cell_type": "code",
   "execution_count": 55,
   "id": "c3c6d783",
   "metadata": {
    "execution": {
     "iopub.execute_input": "2025-10-21T18:44:29.388044Z",
     "iopub.status.busy": "2025-10-21T18:44:29.387540Z",
     "iopub.status.idle": "2025-10-21T18:44:29.392538Z",
     "shell.execute_reply": "2025-10-21T18:44:29.391651Z"
    },
    "papermill": {
     "duration": 0.716268,
     "end_time": "2025-10-21T18:44:29.394071",
     "exception": false,
     "start_time": "2025-10-21T18:44:28.677803",
     "status": "completed"
    },
    "tags": []
   },
   "outputs": [],
   "source": [
    "# test_loss, test_accuracy, test_precision, test_recall = model_GK.evaluate(X_GK_test, \n",
    "# y_GK_test, verbose=0) \n",
    " \n",
    "# print(\"Test Loss:\", test_loss) \n",
    "# print(\"Test Accuracy:\", test_accuracy) \n",
    "# print(\"Test Precision:\", test_precision) \n",
    "# print(\"Test Recall:\", test_recall)"
   ]
  },
  {
   "cell_type": "code",
   "execution_count": 56,
   "id": "e2704be8",
   "metadata": {
    "execution": {
     "iopub.execute_input": "2025-10-21T18:44:30.853382Z",
     "iopub.status.busy": "2025-10-21T18:44:30.853068Z",
     "iopub.status.idle": "2025-10-21T18:44:31.852595Z",
     "shell.execute_reply": "2025-10-21T18:44:31.851572Z"
    },
    "papermill": {
     "duration": 1.686924,
     "end_time": "2025-10-21T18:44:31.854135",
     "exception": false,
     "start_time": "2025-10-21T18:44:30.167211",
     "status": "completed"
    },
    "tags": []
   },
   "outputs": [
    {
     "name": "stdout",
     "output_type": "stream",
     "text": [
      "\u001b[1m520/520\u001b[0m \u001b[32m━━━━━━━━━━━━━━━━━━━━\u001b[0m\u001b[37m\u001b[0m \u001b[1m1s\u001b[0m 1ms/step\n",
      "MAE: 1.30, MSE: 4.87, RMSE: 2.21, R²: 0.23\n",
      "MAPE: 79.80%\n"
     ]
    }
   ],
   "source": [
    "from sklearn.metrics import mean_absolute_error, mean_squared_error, r2_score\n",
    "import numpy as np\n",
    "\n",
    "y_pred = model_Player.predict(X_Player_test)\n",
    "mae = mean_absolute_error(y_Player_test, y_pred)\n",
    "mse = mean_squared_error(y_Player_test, y_pred)\n",
    "rmse = np.sqrt(mse)\n",
    "r2 = r2_score(y_Player_test, y_pred)\n",
    "\n",
    "print(f\"MAE: {mae:.2f}, MSE: {mse:.2f}, RMSE: {rmse:.2f}, R²: {r2:.2f}\")\n",
    "\n",
    "# Convert Series to NumPy array, then flatten both\n",
    "y_test = y_Player_test.to_numpy().flatten()\n",
    "y_pred_flat = np.array(y_pred).flatten()\n",
    "\n",
    "# Calculate MAPE safely\n",
    "mape = np.nanmean(np.abs((y_test - y_pred_flat) / np.where(y_test == 0, np.nan, y_test))) * 100\n",
    "\n",
    "print(f\"MAPE: {mape:.2f}%\")"
   ]
  },
  {
   "cell_type": "code",
   "execution_count": 57,
   "id": "a449885a",
   "metadata": {
    "execution": {
     "iopub.execute_input": "2025-10-21T18:44:33.325762Z",
     "iopub.status.busy": "2025-10-21T18:44:33.325397Z",
     "iopub.status.idle": "2025-10-21T18:44:33.641310Z",
     "shell.execute_reply": "2025-10-21T18:44:33.640395Z"
    },
    "papermill": {
     "duration": 1.081473,
     "end_time": "2025-10-21T18:44:33.642818",
     "exception": false,
     "start_time": "2025-10-21T18:44:32.561345",
     "status": "completed"
    },
    "tags": []
   },
   "outputs": [
    {
     "name": "stdout",
     "output_type": "stream",
     "text": [
      "\u001b[1m65/65\u001b[0m \u001b[32m━━━━━━━━━━━━━━━━━━━━\u001b[0m\u001b[37m\u001b[0m \u001b[1m0s\u001b[0m 2ms/step\n",
      "MAE: 0.99, MSE: 3.60, RMSE: 1.90, R²: 0.38\n",
      "MAPE: 87.47%\n"
     ]
    }
   ],
   "source": [
    "from sklearn.metrics import mean_absolute_error, mean_squared_error, r2_score\n",
    "import numpy as np\n",
    "\n",
    "y_pred = model_GK.predict(X_GK_test)\n",
    "mae = mean_absolute_error(y_GK_test, y_pred)\n",
    "mse = mean_squared_error(y_GK_test, y_pred)\n",
    "rmse = np.sqrt(mse)\n",
    "r2 = r2_score(y_GK_test, y_pred)\n",
    "\n",
    "print(f\"MAE: {mae:.2f}, MSE: {mse:.2f}, RMSE: {rmse:.2f}, R²: {r2:.2f}\")\n",
    "\n",
    "# Convert Series to NumPy array, then flatten both\n",
    "y_test = y_GK_test.to_numpy().flatten()\n",
    "y_pred_flat = np.array(y_pred).flatten()\n",
    "\n",
    "# Calculate MAPE safely\n",
    "mape = np.nanmean(np.abs((y_test - y_pred_flat) / np.where(y_test == 0, np.nan, y_test))) * 100\n",
    "\n",
    "print(f\"MAPE: {mape:.2f}%\")"
   ]
  },
  {
   "cell_type": "code",
   "execution_count": 58,
   "id": "32b776ce",
   "metadata": {
    "execution": {
     "iopub.execute_input": "2025-10-21T18:44:35.111883Z",
     "iopub.status.busy": "2025-10-21T18:44:35.111452Z",
     "iopub.status.idle": "2025-10-21T18:44:36.205439Z",
     "shell.execute_reply": "2025-10-21T18:44:36.204061Z"
    },
    "papermill": {
     "duration": 1.79307,
     "end_time": "2025-10-21T18:44:36.207173",
     "exception": false,
     "start_time": "2025-10-21T18:44:34.414103",
     "status": "completed"
    },
    "tags": []
   },
   "outputs": [
    {
     "name": "stdout",
     "output_type": "stream",
     "text": [
      "\u001b[1m584/584\u001b[0m \u001b[32m━━━━━━━━━━━━━━━━━━━━\u001b[0m\u001b[37m\u001b[0m \u001b[1m1s\u001b[0m 1ms/step\n",
      "MAE: 1.23, MSE: 4.79, RMSE: 2.19, R²: 0.24\n",
      "MAPE: 78.16%\n"
     ]
    }
   ],
   "source": [
    "from sklearn.metrics import mean_absolute_error, mean_squared_error, r2_score\n",
    "import numpy as np\n",
    "\n",
    "y_pred = model_overAll.predict(X_overAll_test)\n",
    "mae = mean_absolute_error(y_overAll_test, y_pred)\n",
    "mse = mean_squared_error(y_overAll_test, y_pred)\n",
    "rmse = np.sqrt(mse)\n",
    "r2 = r2_score(y_overAll_test, y_pred)\n",
    "\n",
    "print(f\"MAE: {mae:.2f}, MSE: {mse:.2f}, RMSE: {rmse:.2f}, R²: {r2:.2f}\")\n",
    "\n",
    "# Convert Series to NumPy array, then flatten both\n",
    "y_test = y_overAll_test.to_numpy().flatten()\n",
    "y_pred_flat = np.array(y_pred).flatten()\n",
    "\n",
    "# Calculate MAPE safely\n",
    "mape = np.nanmean(np.abs((y_test - y_pred_flat) / np.where(y_test == 0, np.nan, y_test))) * 100\n",
    "\n",
    "print(f\"MAPE: {mape:.2f}%\")"
   ]
  },
  {
   "cell_type": "code",
   "execution_count": 59,
   "id": "e801adbd",
   "metadata": {
    "execution": {
     "iopub.execute_input": "2025-10-21T18:44:37.709489Z",
     "iopub.status.busy": "2025-10-21T18:44:37.709180Z",
     "iopub.status.idle": "2025-10-21T18:44:37.713420Z",
     "shell.execute_reply": "2025-10-21T18:44:37.712642Z"
    },
    "papermill": {
     "duration": 0.693881,
     "end_time": "2025-10-21T18:44:37.714897",
     "exception": false,
     "start_time": "2025-10-21T18:44:37.021016",
     "status": "completed"
    },
    "tags": []
   },
   "outputs": [],
   "source": [
    "# if player['position'] == 'GK':\n",
    "#     prediction = model_GK.predict(player_features)\n",
    "# else:\n",
    "#     prediction = model_Player.predict(player_features)"
   ]
  },
  {
   "cell_type": "code",
   "execution_count": null,
   "id": "75c32d29",
   "metadata": {
    "papermill": {
     "duration": 0.686833,
     "end_time": "2025-10-21T18:44:39.175241",
     "exception": false,
     "start_time": "2025-10-21T18:44:38.488408",
     "status": "completed"
    },
    "tags": []
   },
   "outputs": [],
   "source": []
  }
 ],
 "metadata": {
  "kaggle": {
   "accelerator": "none",
   "dataSources": [
    {
     "datasetId": 8393062,
     "sourceId": 13245881,
     "sourceType": "datasetVersion"
    }
   ],
   "dockerImageVersionId": 31089,
   "isGpuEnabled": false,
   "isInternetEnabled": true,
   "language": "python",
   "sourceType": "notebook"
  },
  "kernelspec": {
   "display_name": "Python 3",
   "language": "python",
   "name": "python3"
  },
  "language_info": {
   "codemirror_mode": {
    "name": "ipython",
    "version": 3
   },
   "file_extension": ".py",
   "mimetype": "text/x-python",
   "name": "python",
   "nbconvert_exporter": "python",
   "pygments_lexer": "ipython3",
   "version": "3.11.13"
  },
  "papermill": {
   "default_parameters": {},
   "duration": 870.688629,
   "end_time": "2025-10-21T18:44:42.679419",
   "environment_variables": {},
   "exception": null,
   "input_path": "__notebook__.ipynb",
   "output_path": "__notebook__.ipynb",
   "parameters": {},
   "start_time": "2025-10-21T18:30:11.990790",
   "version": "2.6.0"
  }
 },
 "nbformat": 4,
 "nbformat_minor": 5
}
